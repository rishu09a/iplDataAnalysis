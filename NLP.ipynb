{
 "cells": [
  {
   "cell_type": "code",
   "execution_count": 1,
   "id": "971054f3-f257-4e8d-b635-9876ccc2a607",
   "metadata": {},
   "outputs": [
    {
     "name": "stdout",
     "output_type": "stream",
     "text": [
      "Collecting opencv-python-headlessNote: you may need to restart the kernel to use updated packages.\n",
      "\n",
      "  Downloading opencv_python_headless-4.10.0.84-cp37-abi3-win_amd64.whl.metadata (20 kB)\n",
      "Requirement already satisfied: numpy>=1.21.2 in c:\\users\\risha\\appdata\\local\\programs\\python\\python312\\lib\\site-packages (from opencv-python-headless) (1.26.0)\n",
      "Downloading opencv_python_headless-4.10.0.84-cp37-abi3-win_amd64.whl (38.8 MB)\n",
      "   ---------------------------------------- 0.0/38.8 MB ? eta -:--:--\n",
      "   -- ------------------------------------- 2.4/38.8 MB 11.2 MB/s eta 0:00:04\n",
      "   --- ------------------------------------ 3.7/38.8 MB 8.1 MB/s eta 0:00:05\n",
      "   ----- ---------------------------------- 5.0/38.8 MB 7.7 MB/s eta 0:00:05\n",
      "   ----- ---------------------------------- 5.8/38.8 MB 7.0 MB/s eta 0:00:05\n",
      "   ------ --------------------------------- 6.6/38.8 MB 5.9 MB/s eta 0:00:06\n",
      "   ------- -------------------------------- 7.3/38.8 MB 5.5 MB/s eta 0:00:06\n",
      "   -------- ------------------------------- 8.1/38.8 MB 5.4 MB/s eta 0:00:06\n",
      "   --------- ------------------------------ 9.4/38.8 MB 5.2 MB/s eta 0:00:06\n",
      "   ----------- ---------------------------- 10.7/38.8 MB 5.2 MB/s eta 0:00:06\n",
      "   ------------ --------------------------- 12.1/38.8 MB 5.4 MB/s eta 0:00:05\n",
      "   -------------- ------------------------- 14.4/38.8 MB 5.6 MB/s eta 0:00:05\n",
      "   ---------------- ----------------------- 16.3/38.8 MB 5.8 MB/s eta 0:00:04\n",
      "   ------------------ --------------------- 17.8/38.8 MB 5.9 MB/s eta 0:00:04\n",
      "   -------------------- ------------------- 19.7/38.8 MB 5.6 MB/s eta 0:00:04\n",
      "   --------------------- ------------------ 20.7/38.8 MB 5.5 MB/s eta 0:00:04\n",
      "   ---------------------- ----------------- 22.0/38.8 MB 5.5 MB/s eta 0:00:04\n",
      "   ------------------------ --------------- 23.6/38.8 MB 5.5 MB/s eta 0:00:03\n",
      "   -------------------------- ------------- 25.7/38.8 MB 5.6 MB/s eta 0:00:03\n",
      "   ----------------------------- ---------- 28.3/38.8 MB 5.8 MB/s eta 0:00:02\n",
      "   ------------------------------ --------- 29.6/38.8 MB 5.8 MB/s eta 0:00:02\n",
      "   ------------------------------- -------- 30.4/38.8 MB 5.7 MB/s eta 0:00:02\n",
      "   -------------------------------- ------- 31.2/38.8 MB 5.6 MB/s eta 0:00:02\n",
      "   ---------------------------------- ----- 33.0/38.8 MB 5.5 MB/s eta 0:00:02\n",
      "   ----------------------------------- ---- 34.3/38.8 MB 5.5 MB/s eta 0:00:01\n",
      "   ------------------------------------ --- 35.7/38.8 MB 5.6 MB/s eta 0:00:01\n",
      "   ---------------------------------------  38.0/38.8 MB 5.6 MB/s eta 0:00:01\n",
      "   ---------------------------------------  38.5/38.8 MB 5.6 MB/s eta 0:00:01\n",
      "   ---------------------------------------  38.5/38.8 MB 5.6 MB/s eta 0:00:01\n",
      "   ---------------------------------------  38.5/38.8 MB 5.6 MB/s eta 0:00:01\n",
      "   ---------------------------------------- 38.8/38.8 MB 5.1 MB/s eta 0:00:00\n",
      "Installing collected packages: opencv-python-headless\n",
      "Successfully installed opencv-python-headless-4.10.0.84\n"
     ]
    }
   ],
   "source": [
    "%pip install opencv-python-headless"
   ]
  },
  {
   "cell_type": "markdown",
   "id": "0cb64bea-bf59-463c-9da8-ba4f968ad677",
   "metadata": {},
   "source": [
    "## Image Processing "
   ]
  },
  {
   "cell_type": "code",
   "execution_count": null,
   "id": "eca02d00-d4c9-4758-9296-6cb2a10a5cea",
   "metadata": {},
   "outputs": [],
   "source": [
    "import cv2\n",
    "import numpy as np\n",
    "from matplotlib import pyplot as plt"
   ]
  },
  {
   "cell_type": "code",
   "execution_count": null,
   "id": "c9c443cd-9cb9-4145-85dd-a78d28555963",
   "metadata": {},
   "outputs": [],
   "source": [
    "\n",
    "image_path = 'data/ipl_img.png'\n",
    "img = cv2.imread(image_path)"
   ]
  },
  {
   "cell_type": "code",
   "execution_count": null,
   "id": "2e743b9f-fa9b-4953-924b-086d16cc3aae",
   "metadata": {},
   "outputs": [],
   "source": [
    "gray_img = cv2.cvtColor(img, cv2.COLOR_BGR2GRAY)"
   ]
  },
  {
   "cell_type": "code",
   "execution_count": null,
   "id": "d75379ca-2e49-4aae-a09f-765bcd78ee92",
   "metadata": {},
   "outputs": [],
   "source": [
    "kernel = np.array([[-2, -2, -2],\n",
    "                   [-2, 16, -2],\n",
    "                   [-2, -2, -2]])"
   ]
  },
  {
   "cell_type": "code",
   "execution_count": null,
   "id": "6a472df4-38aa-464e-a471-69484e918ae3",
   "metadata": {},
   "outputs": [],
   "source": [
    "convolved_img = cv2.filter2D(gray_img, -1, kernel)"
   ]
  },
  {
   "cell_type": "code",
   "execution_count": null,
   "id": "64bef1ab-3168-477a-a00c-240cf77796fa",
   "metadata": {},
   "outputs": [],
   "source": [
    "\n",
    "plt.figure(figsize=(10, 5))"
   ]
  },
  {
   "cell_type": "code",
   "execution_count": null,
   "id": "f1ee0239-5440-4af8-ad14-79f632ceea06",
   "metadata": {},
   "outputs": [],
   "source": [
    "plt.subplot(1, 2, 1)\n",
    "plt.imshow(cv2.cvtColor(img, cv2.COLOR_BGR2RGB))\n",
    "plt.title('Original Image')\n",
    "\n",
    "plt.subplot(1, 2, 2)\n",
    "plt.imshow(convolved_img, cmap='gray')\n",
    "plt.title('Convolved Image (Edge Detection)')\n",
    "\n",
    "plt.show()"
   ]
  },
  {
   "cell_type": "markdown",
   "id": "a8d9fe9d-3c35-42a2-9887-bca57102c69d",
   "metadata": {},
   "source": [
    "## Semantic Analysis for IPL_Comments"
   ]
  },
  {
   "cell_type": "code",
   "execution_count": null,
   "id": "7c40bb09-898c-45ee-b48e-c01aaa4acd72",
   "metadata": {},
   "outputs": [],
   "source": [
    "!pip install opencv-python-headless"
   ]
  },
  {
   "cell_type": "code",
   "execution_count": null,
   "id": "e3085d33-856a-4183-a7f7-00f4972d0416",
   "metadata": {},
   "outputs": [],
   "source": [
    "import pandas as pd\n",
    "import nltk\n",
    "from nltk.corpus import stopwords\n",
    "from nltk.tokenize import word_tokenize\n",
    "import re\n",
    "from sklearn.feature_extraction.text import TfidfVectorizer\n",
    "from sklearn.model_selection import train_test_split\n",
    "from sklearn.linear_model import LogisticRegression\n",
    "from sklearn.metrics import accuracy_score, classification_report"
   ]
  },
  {
   "cell_type": "code",
   "execution_count": null,
   "id": "38435c28-da91-4d4f-82c8-e7fa268fda99",
   "metadata": {},
   "outputs": [],
   "source": [
    "comments_df = pd.read_csv('data/ipl_comments.csv')"
   ]
  },
  {
   "cell_type": "code",
   "execution_count": null,
   "id": "c8a9a811-4620-4bf2-bf75-dcbff6216aa3",
   "metadata": {},
   "outputs": [],
   "source": [
    "nltk.download('punkt')\n",
    "nltk.download('stopwords')\n",
    "\n",
    "def preprocess_text(text):\n",
    "    text = re.sub(r'\\W', ' ', text)\n",
    "    text = text.lower()\n",
    "    tokens = word_tokenize(text)\n",
    "    tokens = [word for word in tokens if word not in stopwords.words('english')]\n",
    "    return ' '.join(tokens)\n",
    "\n",
    "comments_df['cleaned_comment'] = comments_df['comment'].apply(preprocess_text)"
   ]
  },
  {
   "cell_type": "code",
   "execution_count": null,
   "id": "74c72fcf-3b9e-4c83-bccd-73db06716595",
   "metadata": {},
   "outputs": [],
   "source": [
    "tfidf = TfidfVectorizer(max_features=500)\n",
    "X = tfidf.fit_transform(comments_df['cleaned_comment']).toarray()"
   ]
  },
  {
   "cell_type": "code",
   "execution_count": null,
   "id": "18e7d4c5-2e7f-4e14-9371-fd74b3fc4634",
   "metadata": {},
   "outputs": [],
   "source": [
    "y = comments_df['sentiment']\n",
    "X_train, X_test, y_train, y_test = train_test_split(X, y, test_size=0.2, random_state=42)"
   ]
  },
  {
   "cell_type": "code",
   "execution_count": null,
   "id": "473fca87-80f8-4570-9a3e-3db1b878a7b4",
   "metadata": {},
   "outputs": [],
   "source": [
    "model = LogisticRegression()\n",
    "model.fit(X_train, y_train)"
   ]
  },
  {
   "cell_type": "code",
   "execution_count": null,
   "id": "5b306373-b684-4f4a-9ab1-b6fc758ac6fc",
   "metadata": {},
   "outputs": [],
   "source": [
    "y_prob = model.predict_proba(X)\n",
    "y_pred = model.predict(X)"
   ]
  },
  {
   "cell_type": "code",
   "execution_count": null,
   "id": "eedf2d0a-f53a-4dcf-92d2-661faf8baac3",
   "metadata": {},
   "outputs": [],
   "source": [
    "for i in range(len(comments_df)):\n",
    "    comment = comments_df['comment'][i]\n",
    "    predicted_sentiment = y_pred[i]\n",
    "    prob_negative = y_prob[i][0]\n",
    "    prob_positive = y_prob[i][1]\n",
    "    \n",
    "    print(f\"Sentence: {comment}\")\n",
    "    print(f\"Predicted Sentiment: {predicted_sentiment} (Probabilities: Negative: {prob_negative:.4f}, Positive: {prob_positive:.4f})\")\n",
    "    print(\"-\" * 50)"
   ]
  }
 ],
 "metadata": {
  "kernelspec": {
   "display_name": "Python 3 (ipykernel)",
   "language": "python",
   "name": "python3"
  },
  "language_info": {
   "codemirror_mode": {
    "name": "ipython",
    "version": 3
   },
   "file_extension": ".py",
   "mimetype": "text/x-python",
   "name": "python",
   "nbconvert_exporter": "python",
   "pygments_lexer": "ipython3",
   "version": "3.12.4"
  }
 },
 "nbformat": 4,
 "nbformat_minor": 5
}
