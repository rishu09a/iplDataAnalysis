{
  "cells": [
    {
      "cell_type": "markdown",
      "metadata": {
        "id": "K9Fzq63QenTZ"
      },
      "source": [
        "\n",
        "\n",
        "---\n",
        "\n"
      ]
    },
    {
      "cell_type": "markdown",
      "metadata": {
        "id": "gkHXHWnHetI6"
      },
      "source": [
        "<center>\n",
        "  <b><font size=\"+3\">IPL Match Outcome Prediction</font></b>\n",
        "</center>\n"
      ]
    },
    {
      "cell_type": "markdown",
      "metadata": {
        "id": "vVf7BpeXdiwQ"
      },
      "source": [
        "\n",
        "\n",
        "---\n",
        "\n"
      ]
    },
    {
      "cell_type": "markdown",
      "metadata": {
        "id": "ZvyXEA26w1Li"
      },
      "source": [
        "# (1) Importing the necessary libraries for the following :\n",
        "- File uploads\n",
        "- Data manipulation\n",
        "- Data splitting\n",
        "- Preprocessing\n",
        "- Model building\n",
        "- Accuracy evaluation.\n"
      ]
    },
    {
      "cell_type": "code",
      "execution_count": null,
      "metadata": {
        "id": "e00y7gpCw1dY"
      },
      "outputs": [],
      "source": [
        "import pandas as pd\n",
        "import numpy as np\n",
        "from sklearn.linear_model import LogisticRegression\n",
        "import tensorflow as tf\n",
        "from tensorflow.keras.models import Sequential\n",
        "from tensorflow.keras.layers import Conv1D, Flatten, MaxPooling1D, Dense\n",
        "from tensorflow import keras\n",
        "from tensorflow.keras.models import Sequential\n",
        "from tensorflow.keras.layers import Dense\n",
        "from tensorflow.keras import layers\n",
        "from sklearn.metrics import accuracy_score, precision_score, recall_score, f1_score\n",
        "from sklearn.metrics import precision_score, recall_score, f1_score\n",
        "from sklearn.preprocessing import PolynomialFeatures\n",
        "from sklearn.model_selection import train_test_split, cross_val_score\n",
        "from sklearn.preprocessing import LabelEncoder, StandardScaler\n",
        "from sklearn.ensemble import RandomForestClassifier\n",
        "from sklearn.ensemble import VotingClassifier, GradientBoostingClassifier\n",
        "from sklearn.svm import SVC\n",
        "from sklearn.metrics import accuracy_score, classification_report, confusion_matrix\n",
        "import matplotlib.pyplot as plt\n",
        "import seaborn as sns\n",
        "from google.colab import files"
      ]
    },
    {
      "cell_type": "markdown",
      "metadata": {
        "id": "tP0F_NxSdfR_"
      },
      "source": [
        "\n",
        "\n",
        "---\n",
        "\n"
      ]
    },
    {
      "cell_type": "markdown",
      "metadata": {
        "id": "3Wm0WdvPzCda"
      },
      "source": [
        "# (2) Uploading and reading the dataset :\n",
        "- Uploading the csv file and then loading it into a dataframe.\n",
        "- Displaying the first few rows."
      ]
    },
    {
      "cell_type": "code",
      "execution_count": null,
      "metadata": {
        "colab": {
          "base_uri": "https://localhost:8080/",
          "height": 381
        },
        "id": "ztOJepOd7I-e",
        "outputId": "719a2aa7-c8a9-4db1-e0d2-ffc83a953bdd"
      },
      "outputs": [
        {
          "data": {
            "text/html": [
              "\n",
              "     <input type=\"file\" id=\"files-4de90ffb-fad9-4074-af7b-ba541fa6bb4a\" name=\"files[]\" multiple disabled\n",
              "        style=\"border:none\" />\n",
              "     <output id=\"result-4de90ffb-fad9-4074-af7b-ba541fa6bb4a\">\n",
              "      Upload widget is only available when the cell has been executed in the\n",
              "      current browser session. Please rerun this cell to enable.\n",
              "      </output>\n",
              "      <script>// Copyright 2017 Google LLC\n",
              "//\n",
              "// Licensed under the Apache License, Version 2.0 (the \"License\");\n",
              "// you may not use this file except in compliance with the License.\n",
              "// You may obtain a copy of the License at\n",
              "//\n",
              "//      http://www.apache.org/licenses/LICENSE-2.0\n",
              "//\n",
              "// Unless required by applicable law or agreed to in writing, software\n",
              "// distributed under the License is distributed on an \"AS IS\" BASIS,\n",
              "// WITHOUT WARRANTIES OR CONDITIONS OF ANY KIND, either express or implied.\n",
              "// See the License for the specific language governing permissions and\n",
              "// limitations under the License.\n",
              "\n",
              "/**\n",
              " * @fileoverview Helpers for google.colab Python module.\n",
              " */\n",
              "(function(scope) {\n",
              "function span(text, styleAttributes = {}) {\n",
              "  const element = document.createElement('span');\n",
              "  element.textContent = text;\n",
              "  for (const key of Object.keys(styleAttributes)) {\n",
              "    element.style[key] = styleAttributes[key];\n",
              "  }\n",
              "  return element;\n",
              "}\n",
              "\n",
              "// Max number of bytes which will be uploaded at a time.\n",
              "const MAX_PAYLOAD_SIZE = 100 * 1024;\n",
              "\n",
              "function _uploadFiles(inputId, outputId) {\n",
              "  const steps = uploadFilesStep(inputId, outputId);\n",
              "  const outputElement = document.getElementById(outputId);\n",
              "  // Cache steps on the outputElement to make it available for the next call\n",
              "  // to uploadFilesContinue from Python.\n",
              "  outputElement.steps = steps;\n",
              "\n",
              "  return _uploadFilesContinue(outputId);\n",
              "}\n",
              "\n",
              "// This is roughly an async generator (not supported in the browser yet),\n",
              "// where there are multiple asynchronous steps and the Python side is going\n",
              "// to poll for completion of each step.\n",
              "// This uses a Promise to block the python side on completion of each step,\n",
              "// then passes the result of the previous step as the input to the next step.\n",
              "function _uploadFilesContinue(outputId) {\n",
              "  const outputElement = document.getElementById(outputId);\n",
              "  const steps = outputElement.steps;\n",
              "\n",
              "  const next = steps.next(outputElement.lastPromiseValue);\n",
              "  return Promise.resolve(next.value.promise).then((value) => {\n",
              "    // Cache the last promise value to make it available to the next\n",
              "    // step of the generator.\n",
              "    outputElement.lastPromiseValue = value;\n",
              "    return next.value.response;\n",
              "  });\n",
              "}\n",
              "\n",
              "/**\n",
              " * Generator function which is called between each async step of the upload\n",
              " * process.\n",
              " * @param {string} inputId Element ID of the input file picker element.\n",
              " * @param {string} outputId Element ID of the output display.\n",
              " * @return {!Iterable<!Object>} Iterable of next steps.\n",
              " */\n",
              "function* uploadFilesStep(inputId, outputId) {\n",
              "  const inputElement = document.getElementById(inputId);\n",
              "  inputElement.disabled = false;\n",
              "\n",
              "  const outputElement = document.getElementById(outputId);\n",
              "  outputElement.innerHTML = '';\n",
              "\n",
              "  const pickedPromise = new Promise((resolve) => {\n",
              "    inputElement.addEventListener('change', (e) => {\n",
              "      resolve(e.target.files);\n",
              "    });\n",
              "  });\n",
              "\n",
              "  const cancel = document.createElement('button');\n",
              "  inputElement.parentElement.appendChild(cancel);\n",
              "  cancel.textContent = 'Cancel upload';\n",
              "  const cancelPromise = new Promise((resolve) => {\n",
              "    cancel.onclick = () => {\n",
              "      resolve(null);\n",
              "    };\n",
              "  });\n",
              "\n",
              "  // Wait for the user to pick the files.\n",
              "  const files = yield {\n",
              "    promise: Promise.race([pickedPromise, cancelPromise]),\n",
              "    response: {\n",
              "      action: 'starting',\n",
              "    }\n",
              "  };\n",
              "\n",
              "  cancel.remove();\n",
              "\n",
              "  // Disable the input element since further picks are not allowed.\n",
              "  inputElement.disabled = true;\n",
              "\n",
              "  if (!files) {\n",
              "    return {\n",
              "      response: {\n",
              "        action: 'complete',\n",
              "      }\n",
              "    };\n",
              "  }\n",
              "\n",
              "  for (const file of files) {\n",
              "    const li = document.createElement('li');\n",
              "    li.append(span(file.name, {fontWeight: 'bold'}));\n",
              "    li.append(span(\n",
              "        `(${file.type || 'n/a'}) - ${file.size} bytes, ` +\n",
              "        `last modified: ${\n",
              "            file.lastModifiedDate ? file.lastModifiedDate.toLocaleDateString() :\n",
              "                                    'n/a'} - `));\n",
              "    const percent = span('0% done');\n",
              "    li.appendChild(percent);\n",
              "\n",
              "    outputElement.appendChild(li);\n",
              "\n",
              "    const fileDataPromise = new Promise((resolve) => {\n",
              "      const reader = new FileReader();\n",
              "      reader.onload = (e) => {\n",
              "        resolve(e.target.result);\n",
              "      };\n",
              "      reader.readAsArrayBuffer(file);\n",
              "    });\n",
              "    // Wait for the data to be ready.\n",
              "    let fileData = yield {\n",
              "      promise: fileDataPromise,\n",
              "      response: {\n",
              "        action: 'continue',\n",
              "      }\n",
              "    };\n",
              "\n",
              "    // Use a chunked sending to avoid message size limits. See b/62115660.\n",
              "    let position = 0;\n",
              "    do {\n",
              "      const length = Math.min(fileData.byteLength - position, MAX_PAYLOAD_SIZE);\n",
              "      const chunk = new Uint8Array(fileData, position, length);\n",
              "      position += length;\n",
              "\n",
              "      const base64 = btoa(String.fromCharCode.apply(null, chunk));\n",
              "      yield {\n",
              "        response: {\n",
              "          action: 'append',\n",
              "          file: file.name,\n",
              "          data: base64,\n",
              "        },\n",
              "      };\n",
              "\n",
              "      let percentDone = fileData.byteLength === 0 ?\n",
              "          100 :\n",
              "          Math.round((position / fileData.byteLength) * 100);\n",
              "      percent.textContent = `${percentDone}% done`;\n",
              "\n",
              "    } while (position < fileData.byteLength);\n",
              "  }\n",
              "\n",
              "  // All done.\n",
              "  yield {\n",
              "    response: {\n",
              "      action: 'complete',\n",
              "    }\n",
              "  };\n",
              "}\n",
              "\n",
              "scope.google = scope.google || {};\n",
              "scope.google.colab = scope.google.colab || {};\n",
              "scope.google.colab._files = {\n",
              "  _uploadFiles,\n",
              "  _uploadFilesContinue,\n",
              "};\n",
              "})(self);\n",
              "</script> "
            ],
            "text/plain": [
              "<IPython.core.display.HTML object>"
            ]
          },
          "metadata": {},
          "output_type": "display_data"
        },
        {
          "name": "stdout",
          "output_type": "stream",
          "text": [
            "Saving Player_match.csv to Player_match.csv\n"
          ]
        },
        {
          "data": {
            "application/vnd.google.colaboratory.intrinsic+json": {
              "type": "dataframe",
              "variable_name": "df"
            },
            "text/html": [
              "\n",
              "  <div id=\"df-85139fa4-867b-4a96-8ac2-0c28329a4851\" class=\"colab-df-container\">\n",
              "    <div>\n",
              "<style scoped>\n",
              "    .dataframe tbody tr th:only-of-type {\n",
              "        vertical-align: middle;\n",
              "    }\n",
              "\n",
              "    .dataframe tbody tr th {\n",
              "        vertical-align: top;\n",
              "    }\n",
              "\n",
              "    .dataframe thead th {\n",
              "        text-align: right;\n",
              "    }\n",
              "</style>\n",
              "<table border=\"1\" class=\"dataframe\">\n",
              "  <thead>\n",
              "    <tr style=\"text-align: right;\">\n",
              "      <th></th>\n",
              "      <th>Player_match_SK</th>\n",
              "      <th>PlayerMatch_key</th>\n",
              "      <th>Match_Id</th>\n",
              "      <th>Player_Id</th>\n",
              "      <th>Player_Name</th>\n",
              "      <th>DOB</th>\n",
              "      <th>Batting_hand</th>\n",
              "      <th>Bowling_skill</th>\n",
              "      <th>Country_Name</th>\n",
              "      <th>Role_Desc</th>\n",
              "      <th>...</th>\n",
              "      <th>Season_year</th>\n",
              "      <th>is_manofThematch</th>\n",
              "      <th>Age_As_on_match</th>\n",
              "      <th>IsPlayers_Team_won</th>\n",
              "      <th>Batting_Status</th>\n",
              "      <th>Bowling_Status</th>\n",
              "      <th>Player_Captain</th>\n",
              "      <th>Opposit_captain</th>\n",
              "      <th>Player_keeper</th>\n",
              "      <th>Opposit_keeper</th>\n",
              "    </tr>\n",
              "  </thead>\n",
              "  <tbody>\n",
              "    <tr>\n",
              "      <th>0</th>\n",
              "      <td>-1</td>\n",
              "      <td>-1.000000e+00</td>\n",
              "      <td>-1</td>\n",
              "      <td>-1</td>\n",
              "      <td>NaN</td>\n",
              "      <td>NaN</td>\n",
              "      <td>NaN</td>\n",
              "      <td>NaN</td>\n",
              "      <td>NaN</td>\n",
              "      <td>NaN</td>\n",
              "      <td>...</td>\n",
              "      <td>NaN</td>\n",
              "      <td>NaN</td>\n",
              "      <td>NaN</td>\n",
              "      <td>NaN</td>\n",
              "      <td>NaN</td>\n",
              "      <td>NaN</td>\n",
              "      <td>NaN</td>\n",
              "      <td>NaN</td>\n",
              "      <td>NaN</td>\n",
              "      <td>NaN</td>\n",
              "    </tr>\n",
              "    <tr>\n",
              "      <th>1</th>\n",
              "      <td>12694</td>\n",
              "      <td>3.359870e+10</td>\n",
              "      <td>335987</td>\n",
              "      <td>6</td>\n",
              "      <td>R Dravid</td>\n",
              "      <td>1/11/1973</td>\n",
              "      <td>Right-hand bat</td>\n",
              "      <td>Right-arm offbreak</td>\n",
              "      <td>India</td>\n",
              "      <td>Captain</td>\n",
              "      <td>...</td>\n",
              "      <td>2008.0</td>\n",
              "      <td>0.0</td>\n",
              "      <td>35.0</td>\n",
              "      <td>0.0</td>\n",
              "      <td>NaN</td>\n",
              "      <td>NaN</td>\n",
              "      <td>R Dravid</td>\n",
              "      <td>SC Ganguly</td>\n",
              "      <td>MV Boucher</td>\n",
              "      <td>WP Saha</td>\n",
              "    </tr>\n",
              "    <tr>\n",
              "      <th>2</th>\n",
              "      <td>12695</td>\n",
              "      <td>3.359870e+10</td>\n",
              "      <td>335987</td>\n",
              "      <td>7</td>\n",
              "      <td>W Jaffer</td>\n",
              "      <td>2/16/1978</td>\n",
              "      <td>Right-hand bat</td>\n",
              "      <td>Right-arm offbreak</td>\n",
              "      <td>India</td>\n",
              "      <td>Player</td>\n",
              "      <td>...</td>\n",
              "      <td>2008.0</td>\n",
              "      <td>0.0</td>\n",
              "      <td>30.0</td>\n",
              "      <td>0.0</td>\n",
              "      <td>NaN</td>\n",
              "      <td>NaN</td>\n",
              "      <td>R Dravid</td>\n",
              "      <td>SC Ganguly</td>\n",
              "      <td>MV Boucher</td>\n",
              "      <td>WP Saha</td>\n",
              "    </tr>\n",
              "    <tr>\n",
              "      <th>3</th>\n",
              "      <td>12696</td>\n",
              "      <td>3.359870e+10</td>\n",
              "      <td>335987</td>\n",
              "      <td>8</td>\n",
              "      <td>V Kohli</td>\n",
              "      <td>11/5/1988</td>\n",
              "      <td>Right-hand bat</td>\n",
              "      <td>Right-arm medium</td>\n",
              "      <td>India</td>\n",
              "      <td>Player</td>\n",
              "      <td>...</td>\n",
              "      <td>2008.0</td>\n",
              "      <td>0.0</td>\n",
              "      <td>20.0</td>\n",
              "      <td>0.0</td>\n",
              "      <td>NaN</td>\n",
              "      <td>NaN</td>\n",
              "      <td>R Dravid</td>\n",
              "      <td>SC Ganguly</td>\n",
              "      <td>MV Boucher</td>\n",
              "      <td>WP Saha</td>\n",
              "    </tr>\n",
              "    <tr>\n",
              "      <th>4</th>\n",
              "      <td>12697</td>\n",
              "      <td>3.359870e+10</td>\n",
              "      <td>335987</td>\n",
              "      <td>9</td>\n",
              "      <td>JH Kallis</td>\n",
              "      <td>10/16/1975</td>\n",
              "      <td>Right-hand bat</td>\n",
              "      <td>Right-arm fast-medium</td>\n",
              "      <td>South Africa</td>\n",
              "      <td>Player</td>\n",
              "      <td>...</td>\n",
              "      <td>2008.0</td>\n",
              "      <td>0.0</td>\n",
              "      <td>33.0</td>\n",
              "      <td>0.0</td>\n",
              "      <td>NaN</td>\n",
              "      <td>NaN</td>\n",
              "      <td>R Dravid</td>\n",
              "      <td>SC Ganguly</td>\n",
              "      <td>MV Boucher</td>\n",
              "      <td>WP Saha</td>\n",
              "    </tr>\n",
              "  </tbody>\n",
              "</table>\n",
              "<p>5 rows × 22 columns</p>\n",
              "</div>\n",
              "    <div class=\"colab-df-buttons\">\n",
              "\n",
              "  <div class=\"colab-df-container\">\n",
              "    <button class=\"colab-df-convert\" onclick=\"convertToInteractive('df-85139fa4-867b-4a96-8ac2-0c28329a4851')\"\n",
              "            title=\"Convert this dataframe to an interactive table.\"\n",
              "            style=\"display:none;\">\n",
              "\n",
              "  <svg xmlns=\"http://www.w3.org/2000/svg\" height=\"24px\" viewBox=\"0 -960 960 960\">\n",
              "    <path d=\"M120-120v-720h720v720H120Zm60-500h600v-160H180v160Zm220 220h160v-160H400v160Zm0 220h160v-160H400v160ZM180-400h160v-160H180v160Zm440 0h160v-160H620v160ZM180-180h160v-160H180v160Zm440 0h160v-160H620v160Z\"/>\n",
              "  </svg>\n",
              "    </button>\n",
              "\n",
              "  <style>\n",
              "    .colab-df-container {\n",
              "      display:flex;\n",
              "      gap: 12px;\n",
              "    }\n",
              "\n",
              "    .colab-df-convert {\n",
              "      background-color: #E8F0FE;\n",
              "      border: none;\n",
              "      border-radius: 50%;\n",
              "      cursor: pointer;\n",
              "      display: none;\n",
              "      fill: #1967D2;\n",
              "      height: 32px;\n",
              "      padding: 0 0 0 0;\n",
              "      width: 32px;\n",
              "    }\n",
              "\n",
              "    .colab-df-convert:hover {\n",
              "      background-color: #E2EBFA;\n",
              "      box-shadow: 0px 1px 2px rgba(60, 64, 67, 0.3), 0px 1px 3px 1px rgba(60, 64, 67, 0.15);\n",
              "      fill: #174EA6;\n",
              "    }\n",
              "\n",
              "    .colab-df-buttons div {\n",
              "      margin-bottom: 4px;\n",
              "    }\n",
              "\n",
              "    [theme=dark] .colab-df-convert {\n",
              "      background-color: #3B4455;\n",
              "      fill: #D2E3FC;\n",
              "    }\n",
              "\n",
              "    [theme=dark] .colab-df-convert:hover {\n",
              "      background-color: #434B5C;\n",
              "      box-shadow: 0px 1px 3px 1px rgba(0, 0, 0, 0.15);\n",
              "      filter: drop-shadow(0px 1px 2px rgba(0, 0, 0, 0.3));\n",
              "      fill: #FFFFFF;\n",
              "    }\n",
              "  </style>\n",
              "\n",
              "    <script>\n",
              "      const buttonEl =\n",
              "        document.querySelector('#df-85139fa4-867b-4a96-8ac2-0c28329a4851 button.colab-df-convert');\n",
              "      buttonEl.style.display =\n",
              "        google.colab.kernel.accessAllowed ? 'block' : 'none';\n",
              "\n",
              "      async function convertToInteractive(key) {\n",
              "        const element = document.querySelector('#df-85139fa4-867b-4a96-8ac2-0c28329a4851');\n",
              "        const dataTable =\n",
              "          await google.colab.kernel.invokeFunction('convertToInteractive',\n",
              "                                                    [key], {});\n",
              "        if (!dataTable) return;\n",
              "\n",
              "        const docLinkHtml = 'Like what you see? Visit the ' +\n",
              "          '<a target=\"_blank\" href=https://colab.research.google.com/notebooks/data_table.ipynb>data table notebook</a>'\n",
              "          + ' to learn more about interactive tables.';\n",
              "        element.innerHTML = '';\n",
              "        dataTable['output_type'] = 'display_data';\n",
              "        await google.colab.output.renderOutput(dataTable, element);\n",
              "        const docLink = document.createElement('div');\n",
              "        docLink.innerHTML = docLinkHtml;\n",
              "        element.appendChild(docLink);\n",
              "      }\n",
              "    </script>\n",
              "  </div>\n",
              "\n",
              "\n",
              "<div id=\"df-28915740-69e3-4e34-89dd-94f84d3dcd1f\">\n",
              "  <button class=\"colab-df-quickchart\" onclick=\"quickchart('df-28915740-69e3-4e34-89dd-94f84d3dcd1f')\"\n",
              "            title=\"Suggest charts\"\n",
              "            style=\"display:none;\">\n",
              "\n",
              "<svg xmlns=\"http://www.w3.org/2000/svg\" height=\"24px\"viewBox=\"0 0 24 24\"\n",
              "     width=\"24px\">\n",
              "    <g>\n",
              "        <path d=\"M19 3H5c-1.1 0-2 .9-2 2v14c0 1.1.9 2 2 2h14c1.1 0 2-.9 2-2V5c0-1.1-.9-2-2-2zM9 17H7v-7h2v7zm4 0h-2V7h2v10zm4 0h-2v-4h2v4z\"/>\n",
              "    </g>\n",
              "</svg>\n",
              "  </button>\n",
              "\n",
              "<style>\n",
              "  .colab-df-quickchart {\n",
              "      --bg-color: #E8F0FE;\n",
              "      --fill-color: #1967D2;\n",
              "      --hover-bg-color: #E2EBFA;\n",
              "      --hover-fill-color: #174EA6;\n",
              "      --disabled-fill-color: #AAA;\n",
              "      --disabled-bg-color: #DDD;\n",
              "  }\n",
              "\n",
              "  [theme=dark] .colab-df-quickchart {\n",
              "      --bg-color: #3B4455;\n",
              "      --fill-color: #D2E3FC;\n",
              "      --hover-bg-color: #434B5C;\n",
              "      --hover-fill-color: #FFFFFF;\n",
              "      --disabled-bg-color: #3B4455;\n",
              "      --disabled-fill-color: #666;\n",
              "  }\n",
              "\n",
              "  .colab-df-quickchart {\n",
              "    background-color: var(--bg-color);\n",
              "    border: none;\n",
              "    border-radius: 50%;\n",
              "    cursor: pointer;\n",
              "    display: none;\n",
              "    fill: var(--fill-color);\n",
              "    height: 32px;\n",
              "    padding: 0;\n",
              "    width: 32px;\n",
              "  }\n",
              "\n",
              "  .colab-df-quickchart:hover {\n",
              "    background-color: var(--hover-bg-color);\n",
              "    box-shadow: 0 1px 2px rgba(60, 64, 67, 0.3), 0 1px 3px 1px rgba(60, 64, 67, 0.15);\n",
              "    fill: var(--button-hover-fill-color);\n",
              "  }\n",
              "\n",
              "  .colab-df-quickchart-complete:disabled,\n",
              "  .colab-df-quickchart-complete:disabled:hover {\n",
              "    background-color: var(--disabled-bg-color);\n",
              "    fill: var(--disabled-fill-color);\n",
              "    box-shadow: none;\n",
              "  }\n",
              "\n",
              "  .colab-df-spinner {\n",
              "    border: 2px solid var(--fill-color);\n",
              "    border-color: transparent;\n",
              "    border-bottom-color: var(--fill-color);\n",
              "    animation:\n",
              "      spin 1s steps(1) infinite;\n",
              "  }\n",
              "\n",
              "  @keyframes spin {\n",
              "    0% {\n",
              "      border-color: transparent;\n",
              "      border-bottom-color: var(--fill-color);\n",
              "      border-left-color: var(--fill-color);\n",
              "    }\n",
              "    20% {\n",
              "      border-color: transparent;\n",
              "      border-left-color: var(--fill-color);\n",
              "      border-top-color: var(--fill-color);\n",
              "    }\n",
              "    30% {\n",
              "      border-color: transparent;\n",
              "      border-left-color: var(--fill-color);\n",
              "      border-top-color: var(--fill-color);\n",
              "      border-right-color: var(--fill-color);\n",
              "    }\n",
              "    40% {\n",
              "      border-color: transparent;\n",
              "      border-right-color: var(--fill-color);\n",
              "      border-top-color: var(--fill-color);\n",
              "    }\n",
              "    60% {\n",
              "      border-color: transparent;\n",
              "      border-right-color: var(--fill-color);\n",
              "    }\n",
              "    80% {\n",
              "      border-color: transparent;\n",
              "      border-right-color: var(--fill-color);\n",
              "      border-bottom-color: var(--fill-color);\n",
              "    }\n",
              "    90% {\n",
              "      border-color: transparent;\n",
              "      border-bottom-color: var(--fill-color);\n",
              "    }\n",
              "  }\n",
              "</style>\n",
              "\n",
              "  <script>\n",
              "    async function quickchart(key) {\n",
              "      const quickchartButtonEl =\n",
              "        document.querySelector('#' + key + ' button');\n",
              "      quickchartButtonEl.disabled = true;  // To prevent multiple clicks.\n",
              "      quickchartButtonEl.classList.add('colab-df-spinner');\n",
              "      try {\n",
              "        const charts = await google.colab.kernel.invokeFunction(\n",
              "            'suggestCharts', [key], {});\n",
              "      } catch (error) {\n",
              "        console.error('Error during call to suggestCharts:', error);\n",
              "      }\n",
              "      quickchartButtonEl.classList.remove('colab-df-spinner');\n",
              "      quickchartButtonEl.classList.add('colab-df-quickchart-complete');\n",
              "    }\n",
              "    (() => {\n",
              "      let quickchartButtonEl =\n",
              "        document.querySelector('#df-28915740-69e3-4e34-89dd-94f84d3dcd1f button');\n",
              "      quickchartButtonEl.style.display =\n",
              "        google.colab.kernel.accessAllowed ? 'block' : 'none';\n",
              "    })();\n",
              "  </script>\n",
              "</div>\n",
              "\n",
              "    </div>\n",
              "  </div>\n"
            ],
            "text/plain": [
              "   Player_match_SK  PlayerMatch_key  Match_Id  Player_Id Player_Name  \\\n",
              "0               -1    -1.000000e+00        -1         -1         NaN   \n",
              "1            12694     3.359870e+10    335987          6    R Dravid   \n",
              "2            12695     3.359870e+10    335987          7    W Jaffer   \n",
              "3            12696     3.359870e+10    335987          8     V Kohli   \n",
              "4            12697     3.359870e+10    335987          9   JH Kallis   \n",
              "\n",
              "          DOB    Batting_hand          Bowling_skill  Country_Name Role_Desc  \\\n",
              "0         NaN             NaN                    NaN           NaN       NaN   \n",
              "1   1/11/1973  Right-hand bat     Right-arm offbreak         India   Captain   \n",
              "2   2/16/1978  Right-hand bat     Right-arm offbreak         India    Player   \n",
              "3   11/5/1988  Right-hand bat       Right-arm medium         India    Player   \n",
              "4  10/16/1975  Right-hand bat  Right-arm fast-medium  South Africa    Player   \n",
              "\n",
              "   ... Season_year is_manofThematch  Age_As_on_match  IsPlayers_Team_won  \\\n",
              "0  ...         NaN              NaN              NaN                 NaN   \n",
              "1  ...      2008.0              0.0             35.0                 0.0   \n",
              "2  ...      2008.0              0.0             30.0                 0.0   \n",
              "3  ...      2008.0              0.0             20.0                 0.0   \n",
              "4  ...      2008.0              0.0             33.0                 0.0   \n",
              "\n",
              "   Batting_Status  Bowling_Status  Player_Captain  Opposit_captain  \\\n",
              "0             NaN             NaN             NaN              NaN   \n",
              "1             NaN             NaN        R Dravid       SC Ganguly   \n",
              "2             NaN             NaN        R Dravid       SC Ganguly   \n",
              "3             NaN             NaN        R Dravid       SC Ganguly   \n",
              "4             NaN             NaN        R Dravid       SC Ganguly   \n",
              "\n",
              "  Player_keeper Opposit_keeper  \n",
              "0           NaN            NaN  \n",
              "1    MV Boucher        WP Saha  \n",
              "2    MV Boucher        WP Saha  \n",
              "3    MV Boucher        WP Saha  \n",
              "4    MV Boucher        WP Saha  \n",
              "\n",
              "[5 rows x 22 columns]"
            ]
          },
          "execution_count": 3,
          "metadata": {},
          "output_type": "execute_result"
        }
      ],
      "source": [
        "uploaded = files.upload()\n",
        "df = pd.read_csv('Player_match.csv', low_memory=False, encoding='latin-1')\n",
        "df.head()"
      ]
    },
    {
      "cell_type": "markdown",
      "metadata": {
        "id": "RvZIg9g1dqSE"
      },
      "source": [
        "\n",
        "\n",
        "---\n",
        "\n"
      ]
    },
    {
      "cell_type": "markdown",
      "metadata": {
        "id": "QNqUyYFECMTw"
      },
      "source": [
        "# (3) Pre-processing the dataset.\n",
        "1.   **Dropping irrelevant rows and columns** that do not contribute to the model.\n",
        "2.  **Encoding categorical variables**\n",
        "3. **Defining features and target**\n",
        "4. **Splitting the data** into train data and test data in the 8:2 ratio.\n",
        "5. **Standardising the dataset**: After this step, the features will have a mean of 0 and a standard deviation of 1.\n",
        "\n",
        "\n",
        "\n",
        "\n"
      ]
    },
    {
      "cell_type": "code",
      "execution_count": null,
      "metadata": {
        "colab": {
          "base_uri": "https://localhost:8080/"
        },
        "id": "tE5H6jij7JFY",
        "outputId": "204c8795-a96f-41db-cb59-af3fc8795710"
      },
      "outputs": [
        {
          "name": "stdout",
          "output_type": "stream",
          "text": [
            "   Player_Name  Batting_hand  Bowling_skill  Role_Desc  Player_team  \\\n",
            "1          331             1             12          0           11   \n",
            "2          479             1             12          3           11   \n",
            "3          467             1              9          3           11   \n",
            "4          186             1              8          3           11   \n",
            "5          101             1              5          3           11   \n",
            "\n",
            "   Opposit_Team  Age_As_on_match  IsPlayers_Team_won  Player_Captain  \\\n",
            "1             6             35.0                 0.0              28   \n",
            "2             6             30.0                 0.0              28   \n",
            "3             6             20.0                 0.0              28   \n",
            "4             6             33.0                 0.0              28   \n",
            "5             6             25.0                 0.0              28   \n",
            "\n",
            "   Opposit_captain  Player_keeper  Opposit_keeper  \n",
            "1               32             28              44  \n",
            "2               32             28              44  \n",
            "3               32             28              44  \n",
            "4               32             28              44  \n",
            "5               32             28              44  \n"
          ]
        }
      ],
      "source": [
        "# Dropping the irrelevant row\n",
        "df = df[1:]\n",
        "\n",
        "# Drop irrelevant columns\n",
        "df_clean = df.drop(['Player_Id', 'DOB', 'PlayerMatch_key', 'Batting_Status', 'Bowling_Status', 'Country_Name', 'Match_Id', 'Player_match_SK', 'is_manofThematch','Season_year'], axis=1)\n",
        "\n",
        "# Encode categorical variables\n",
        "label_encoders = {}\n",
        "for column in ['Batting_hand', 'Player_Name', 'Bowling_skill', 'Role_Desc', 'Player_team', 'Opposit_Team',\n",
        "               'Player_Captain', 'Opposit_captain', 'Player_keeper', 'Opposit_keeper']:\n",
        "    le = LabelEncoder()\n",
        "    df_clean[column] = le.fit_transform(df_clean[column].astype(str))\n",
        "    label_encoders[column] = le  # Store encoders for later use\n",
        "\n",
        "# Display cleaned data\n",
        "print(df_clean.head())\n"
      ]
    },
    {
      "cell_type": "code",
      "execution_count": null,
      "metadata": {
        "colab": {
          "base_uri": "https://localhost:8080/"
        },
        "id": "ldJWej1JAPUP",
        "outputId": "bad1087f-d9d9-468d-bb00-f1087be6570d"
      },
      "outputs": [
        {
          "name": "stdout",
          "output_type": "stream",
          "text": [
            "IsPlayers_Team_won\n",
            "0.0    7040\n",
            "1.0    6952\n",
            "Name: count, dtype: int64\n"
          ]
        }
      ],
      "source": [
        "value_counts = print(df_clean['IsPlayers_Team_won'].value_counts())\n"
      ]
    },
    {
      "cell_type": "code",
      "execution_count": null,
      "metadata": {
        "colab": {
          "base_uri": "https://localhost:8080/",
          "height": 519
        },
        "id": "Ppe6NXc4hCnO",
        "outputId": "e6c44adc-7e70-4630-c5ab-6518dc8a0c9b"
      },
      "outputs": [
        {
          "name": "stderr",
          "output_type": "stream",
          "text": [
            "<ipython-input-6-f24894452bfb>:6: FutureWarning: \n",
            "\n",
            "Passing `palette` without assigning `hue` is deprecated and will be removed in v0.14.0. Assign the `x` variable to `hue` and set `legend=False` for the same effect.\n",
            "\n",
            "  sns.barplot(x=value_counts.index, y=value_counts.values, palette=\"viridis\")\n"
          ]
        },
        {
          "data": {
            "text/plain": [
              "Text(0, 0.5, 'Count')"
            ]
          },
          "execution_count": 6,
          "metadata": {},
          "output_type": "execute_result"
        },
        {
          "data": {
            "image/png": "[encoded data removed]",
            "text/plain": [
              "<Figure size 600x400 with 1 Axes>"
            ]
          },
          "metadata": {},
          "output_type": "display_data"
        }
      ],
      "source": [
        "# Calculate the value counts and store them in the value_counts variable\n",
        "value_counts = df_clean['IsPlayers_Team_won'].value_counts()\n",
        "\n",
        "# Plot the value counts as a bar plot\n",
        "plt.figure(figsize=(6, 4))\n",
        "sns.barplot(x=value_counts.index, y=value_counts.values, palette=\"viridis\")\n",
        "\n",
        "# Add labels and title\n",
        "plt.title(\"Distribution of 'IsPlayers_Team_won'\", fontsize=14)\n",
        "plt.xlabel(\"IsPlayers_Team_won\", fontsize=12)\n",
        "plt.ylabel(\"Count\", fontsize=12)"
      ]
    },
    {
      "cell_type": "code",
      "execution_count": null,
      "metadata": {
        "id": "of8PXK-Sh-41"
      },
      "outputs": [],
      "source": [
        "# Separating the features and the target\n",
        "\n",
        "# X: All columns except the 11th column (index 10)\n",
        "X = df_clean.drop(df_clean.columns[7], axis=1)  # Drop the 11th column (index 10) for features\n",
        "\n",
        "# y: The 11th column (index 10) as target\n",
        "y = df_clean.iloc[:, 7]  # Select the 11th column as the target"
      ]
    },
    {
      "cell_type": "code",
      "execution_count": null,
      "metadata": {
        "colab": {
          "base_uri": "https://localhost:8080/"
        },
        "id": "fDA8NxEQeGZE",
        "outputId": "f9d16083-80d1-4c06-d4da-2ce4685610d3"
      },
      "outputs": [
        {
          "name": "stdout",
          "output_type": "stream",
          "text": [
            "Shape of X (features): (13992, 11)\n",
            "Shape of y (target): (13992,)\n",
            "\n",
            "First 5 rows of X (features):\n",
            "   Player_Name  Batting_hand  Bowling_skill  Role_Desc  Player_team  \\\n",
            "1          331             1             12          0           11   \n",
            "2          479             1             12          3           11   \n",
            "3          467             1              9          3           11   \n",
            "4          186             1              8          3           11   \n",
            "5          101             1              5          3           11   \n",
            "\n",
            "   Opposit_Team  Age_As_on_match  Player_Captain  Opposit_captain  \\\n",
            "1             6             35.0              28               32   \n",
            "2             6             30.0              28               32   \n",
            "3             6             20.0              28               32   \n",
            "4             6             33.0              28               32   \n",
            "5             6             25.0              28               32   \n",
            "\n",
            "   Player_keeper  Opposit_keeper  \n",
            "1             28              44  \n",
            "2             28              44  \n",
            "3             28              44  \n",
            "4             28              44  \n",
            "5             28              44  \n",
            "\n",
            "First 5 values of y (target):\n",
            "1    0.0\n",
            "2    0.0\n",
            "3    0.0\n",
            "4    0.0\n",
            "5    0.0\n",
            "Name: IsPlayers_Team_won, dtype: float64\n"
          ]
        }
      ],
      "source": [
        "# Check the shape of X and y\n",
        "print(\"Shape of X (features):\", X.shape)  # X should have (n_samples, 14)\n",
        "print(\"Shape of y (target):\", y.shape)    # y should have (n_samples,)\n",
        "\n",
        "# Check the first few rows of X and y\n",
        "print(\"\\nFirst 5 rows of X (features):\")\n",
        "print(X.head())  # Display first 5 rows of features\n",
        "\n",
        "print(\"\\nFirst 5 values of y (target):\")\n",
        "print(y.head())  # Display first 5 rows of target\n"
      ]
    },
    {
      "cell_type": "code",
      "execution_count": null,
      "metadata": {
        "id": "8z6KW42C7JK8"
      },
      "outputs": [],
      "source": [
        "# Split data into training and testing sets\n",
        "X_train, X_test, y_train, y_test = train_test_split(X, y, test_size=0.2, random_state=42)\n",
        "\n",
        "# Standardize the features\n",
        "scaler = StandardScaler()\n",
        "X_train_scaled = scaler.fit_transform(X_train)\n",
        "X_test_scaled = scaler.transform(X_test)\n"
      ]
    },
    {
      "cell_type": "code",
      "execution_count": null,
      "metadata": {
        "colab": {
          "base_uri": "https://localhost:8080/"
        },
        "id": "1_pMdzNTKDae",
        "outputId": "0cffa795-5acc-4acb-8ae4-58d8121ffa14"
      },
      "outputs": [
        {
          "name": "stdout",
          "output_type": "stream",
          "text": [
            "Processed features data: \n",
            " [[-0.43596062  0.5426987  -2.38796901  0.39166883  0.82529008 -0.48444305\n",
            "  -0.69415325  1.12085429  1.27552464  1.2326253   1.55973994]\n",
            " [-0.70474409  0.5426987   0.62083089  0.39166883 -0.49126426  0.04599188\n",
            "  -0.69415325 -0.7142838  -0.80118033  1.55582182  0.91471184]\n",
            " [ 0.83015097  0.5426987   0.62083089  0.39166883 -1.54450773 -0.48444305\n",
            "   0.34861381  0.16339094 -0.32194072  0.18223658 -0.69785839]\n",
            " [-0.06815167  0.5426987   0.62083089  0.39166883 -1.54450773  0.04599188\n",
            "  -0.48559984  0.16339094  0.6365385   0.18223658  1.55973994]\n",
            " [ 1.48796314  0.5426987  -0.47327817  0.39166883 -1.017886   -0.48444305\n",
            "  -0.69415325 -0.87386102 -1.83953282  0.50543311 -1.90728606]]\n",
            "Processed target data: \n",
            " [[ 0.32795028  0.5426987   0.62083089  0.39166883  0.03535748  0.31120935\n",
            "   0.76572063  0.64212262  1.03590484  1.55582182 -1.74602904]\n",
            " [ 0.07331331  0.5426987  -0.1997509   0.39166883  1.35191182 -1.54531292\n",
            "  -1.5283669  -1.91111299  0.15729889  0.90942877  0.18905524]\n",
            " [ 0.65331974  0.5426987   0.62083089 -3.23642708  0.29866834  0.04599188\n",
            "  -0.48559984  0.40275678 -0.80118033 -0.62575473  0.10842673]\n",
            " [ 0.51892801  0.5426987   0.34730362  0.39166883  0.03535748 -1.54531292\n",
            "   0.76572063 -0.79407241  0.15729889  0.10143745  0.18905524]\n",
            " [-1.440362    0.5426987   0.62083089  0.39166883  0.29866834  1.63729668\n",
            "  -0.06849302  0.40275678 -1.44016648 -0.62575473  0.5921978 ]]\n"
          ]
        }
      ],
      "source": [
        "#Displaying the preprocessed features and target\n",
        "print(\"Processed features data: \\n\", X_train_scaled[:5, :]) # Prints the first 5 rows of the array\n",
        "print(\"Processed target data: \\n\", X_test_scaled[:5, :]) # Prints the first 5 rows of the array"
      ]
    },
    {
      "cell_type": "markdown",
      "metadata": {
        "id": "7a9Vox1FivIM"
      },
      "source": [
        "\n",
        "\n",
        "---\n",
        "\n"
      ]
    },
    {
      "cell_type": "markdown",
      "metadata": {
        "id": "AqND4oSvLeh2"
      },
      "source": [
        "# (4) Model Selection:\n",
        "\n",
        "1. **Models Considered**:\n",
        "   - Logistic Regression\n",
        "   - Random Forest\n",
        "   - Support Vector Machine\n",
        "   - Neural Network\n",
        "   - Convolutional Neural Network\n",
        "\n",
        "2. **Performance Metrics**:\n",
        "   - Displaying Accuracy, Precision, Recall and F1-score for the training and the test dataset for each model.\n",
        "\n",
        "4. **Visualizations**:\n",
        "   - Plotting Confusion Matrix for all the models to visualize their performance.\n",
        "\n",
        "5. **Selected Model**:\n",
        "   - Will be choosing the model that is best performing in terms of the above stated performance metrics."
      ]
    },
    {
      "cell_type": "markdown",
      "metadata": {
        "id": "Bz_9gyXEOJ2M"
      },
      "source": [
        "\n",
        "\n",
        "---\n",
        "\n"
      ]
    },
    {
      "cell_type": "markdown",
      "metadata": {
        "id": "Ul_nH2vsmbkX"
      },
      "source": [
        "## <b> A. Logistic Regression :</b>"
      ]
    },
    {
      "cell_type": "code",
      "execution_count": null,
      "metadata": {
        "id": "7zLvV3aTEhEn"
      },
      "outputs": [],
      "source": [
        "# 2. Logistic Regression with TensorFlow and Adam Optimizer\n",
        "# Define the model\n",
        "def create_tf_model():\n",
        "    model = Sequential([\n",
        "        Dense(1, input_shape=(X_train_scaled.shape[1],), activation='sigmoid')\n",
        "    ])\n",
        "    model.compile(optimizer='adam',  # Adam optimizer\n",
        "                  loss='binary_crossentropy',\n",
        "                  metrics=['accuracy'])\n",
        "    return model\n",
        "\n",
        "# Create and train the model\n",
        "tf_model = create_tf_model()\n",
        "history = tf_model.fit(X_train_scaled, y_train, epochs=150, batch_size=32, validation_data=(X_test_scaled, y_test), verbose=0)\n"
      ]
    },
    {
      "cell_type": "code",
      "execution_count": null,
      "metadata": {
        "colab": {
          "base_uri": "https://localhost:8080/"
        },
        "id": "R2fQeRQnFny-",
        "outputId": "30bcef04-544a-4c74-aafc-667afe3bac1f"
      },
      "outputs": [
        {
          "name": "stdout",
          "output_type": "stream",
          "text": [
            "350/350 [==============================] - 0s 1ms/step\n",
            "88/88 [==============================] - 0s 1ms/step\n",
            "TensorFlow Training Accuracy: 51.30885374787814\n",
            "TensorFlow Testing Accuracy: 51.446945337620576\n",
            "TensorFlow Training Confusion Matrix:\n",
            "[[2875 2727]\n",
            " [2723 2868]]\n",
            "TensorFlow Testing Confusion Matrix:\n",
            "[[734 704]\n",
            " [655 706]]\n"
          ]
        }
      ],
      "source": [
        "# Predictions using TensorFlow model\n",
        "y_train_pred_tf = (tf_model.predict(X_train_scaled) > 0.5).astype(\"int32\")\n",
        "y_test_pred_tf = (tf_model.predict(X_test_scaled) > 0.5).astype(\"int32\")\n",
        "\n",
        "# Print metrics for TensorFlow model\n",
        "print(\"TensorFlow Training Accuracy:\", accuracy_score(y_train, y_train_pred_tf) * 100)\n",
        "print(\"TensorFlow Testing Accuracy:\", accuracy_score(y_test, y_test_pred_tf) * 100)\n"
      ]
    },
    {
      "cell_type": "code",
      "execution_count": null,
      "metadata": {
        "colab": {
          "base_uri": "https://localhost:8080/"
        },
        "id": "4ylfQ-hoHY7u",
        "outputId": "4fc774bd-9fd5-4ec4-efb8-20789f4f741e"
      },
      "outputs": [
        {
          "name": "stdout",
          "output_type": "stream",
          "text": [
            "TensorFlow Classification Report (Train Data):\n",
            "              precision    recall  f1-score   support\n",
            "\n",
            "         0.0       0.51      0.51      0.51      5602\n",
            "         1.0       0.51      0.51      0.51      5591\n",
            "\n",
            "    accuracy                           0.51     11193\n",
            "   macro avg       0.51      0.51      0.51     11193\n",
            "weighted avg       0.51      0.51      0.51     11193\n",
            "\n",
            "TensorFlow Classification Report (Test Data):\n",
            "              precision    recall  f1-score   support\n",
            "\n",
            "         0.0       0.53      0.51      0.52      1438\n",
            "         1.0       0.50      0.52      0.51      1361\n",
            "\n",
            "    accuracy                           0.51      2799\n",
            "   macro avg       0.51      0.51      0.51      2799\n",
            "weighted avg       0.51      0.51      0.51      2799\n",
            "\n"
          ]
        }
      ],
      "source": [
        "# Print classification report for Train data\n",
        "print(\"TensorFlow Classification Report (Train Data):\")\n",
        "print(classification_report(y_train, y_train_pred_tf))\n",
        "\n",
        "# Print classification report for Test\n",
        "print(\"TensorFlow Classification Report (Test Data):\")\n",
        "print(classification_report(y_test, y_test_pred_tf))"
      ]
    },
    {
      "cell_type": "code",
      "execution_count": null,
      "metadata": {
        "colab": {
          "base_uri": "https://localhost:8080/",
          "height": 410
        },
        "id": "IcJSC8DOIIDL",
        "outputId": "cca4cabe-0620-4049-f333-2610c1a24909"
      },
      "outputs": [
        {
          "data": {
            "image/png": "[encoded data removed]",
            "text/plain": [
              "<Figure size 600x400 with 1 Axes>"
            ]
          },
          "metadata": {},
          "output_type": "display_data"
        }
      ],
      "source": [
        "cm = confusion_matrix(y_test, y_test_pred_tf)\n",
        "\n",
        "# Plot the confusion matrix using seaborn\n",
        "plt.figure(figsize=(6, 4))\n",
        "sns.heatmap(cm, annot=True, fmt=\"d\", cmap=\"Blues\", cbar=False)\n",
        "plt.title(\"Confusion Matrix\")\n",
        "plt.xlabel(\"Predicted Label\")\n",
        "plt.ylabel(\"True Label\")\n",
        "plt.show()"
      ]
    },
    {
      "cell_type": "markdown",
      "metadata": {
        "id": "jc1412_nGdZV"
      },
      "source": [
        "## <b> B. Logistic Regression (with polynomial features) :</b>"
      ]
    },
    {
      "cell_type": "code",
      "execution_count": null,
      "metadata": {
        "colab": {
          "base_uri": "https://localhost:8080/"
        },
        "id": "-gcalCWYbopu",
        "outputId": "9c38aafa-db9d-400e-fd64-d4155d23c86b"
      },
      "outputs": [
        {
          "name": "stdout",
          "output_type": "stream",
          "text": [
            "Epoch 1/150\n",
            "350/350 [==============================] - 1s 2ms/step - loss: 0.9782 - accuracy: 0.4887 - val_loss: 0.9397 - val_accuracy: 0.4887\n",
            "Epoch 2/150\n",
            "350/350 [==============================] - 1s 2ms/step - loss: 0.9050 - accuracy: 0.4903 - val_loss: 0.8830 - val_accuracy: 0.4998\n",
            "Epoch 3/150\n",
            "350/350 [==============================] - 1s 2ms/step - loss: 0.8579 - accuracy: 0.4983 - val_loss: 0.8435 - val_accuracy: 0.5063\n",
            "Epoch 4/150\n",
            "350/350 [==============================] - 1s 2ms/step - loss: 0.8234 - accuracy: 0.5018 - val_loss: 0.8144 - val_accuracy: 0.5038\n",
            "Epoch 5/150\n",
            "350/350 [==============================] - 1s 2ms/step - loss: 0.7965 - accuracy: 0.5050 - val_loss: 0.7915 - val_accuracy: 0.5102\n",
            "Epoch 6/150\n",
            "350/350 [==============================] - 1s 2ms/step - loss: 0.7755 - accuracy: 0.5084 - val_loss: 0.7733 - val_accuracy: 0.5102\n",
            "Epoch 7/150\n",
            "350/350 [==============================] - 1s 2ms/step - loss: 0.7581 - accuracy: 0.5148 - val_loss: 0.7585 - val_accuracy: 0.5170\n",
            "Epoch 8/150\n",
            "350/350 [==============================] - 1s 2ms/step - loss: 0.7442 - accuracy: 0.5224 - val_loss: 0.7469 - val_accuracy: 0.5191\n",
            "Epoch 9/150\n",
            "350/350 [==============================] - 1s 2ms/step - loss: 0.7326 - accuracy: 0.5265 - val_loss: 0.7372 - val_accuracy: 0.5234\n",
            "Epoch 10/150\n",
            "350/350 [==============================] - 1s 2ms/step - loss: 0.7231 - accuracy: 0.5307 - val_loss: 0.7293 - val_accuracy: 0.5270\n",
            "Epoch 11/150\n",
            "350/350 [==============================] - 1s 2ms/step - loss: 0.7151 - accuracy: 0.5341 - val_loss: 0.7234 - val_accuracy: 0.5291\n",
            "Epoch 12/150\n",
            "350/350 [==============================] - 1s 2ms/step - loss: 0.7082 - accuracy: 0.5408 - val_loss: 0.7170 - val_accuracy: 0.5373\n",
            "Epoch 13/150\n",
            "350/350 [==============================] - 1s 2ms/step - loss: 0.7022 - accuracy: 0.5461 - val_loss: 0.7122 - val_accuracy: 0.5398\n",
            "Epoch 14/150\n",
            "350/350 [==============================] - 1s 2ms/step - loss: 0.6972 - accuracy: 0.5486 - val_loss: 0.7083 - val_accuracy: 0.5416\n",
            "Epoch 15/150\n",
            "350/350 [==============================] - 1s 2ms/step - loss: 0.6927 - accuracy: 0.5525 - val_loss: 0.7053 - val_accuracy: 0.5441\n",
            "Epoch 16/150\n",
            "350/350 [==============================] - 1s 2ms/step - loss: 0.6887 - accuracy: 0.5568 - val_loss: 0.7018 - val_accuracy: 0.5484\n",
            "Epoch 17/150\n",
            "350/350 [==============================] - 1s 2ms/step - loss: 0.6853 - accuracy: 0.5580 - val_loss: 0.6986 - val_accuracy: 0.5491\n",
            "Epoch 18/150\n",
            "350/350 [==============================] - 1s 2ms/step - loss: 0.6822 - accuracy: 0.5620 - val_loss: 0.6966 - val_accuracy: 0.5470\n",
            "Epoch 19/150\n",
            "350/350 [==============================] - 1s 2ms/step - loss: 0.6795 - accuracy: 0.5638 - val_loss: 0.6947 - val_accuracy: 0.5502\n",
            "Epoch 20/150\n",
            "350/350 [==============================] - 1s 2ms/step - loss: 0.6770 - accuracy: 0.5659 - val_loss: 0.6932 - val_accuracy: 0.5534\n",
            "Epoch 21/150\n",
            "350/350 [==============================] - 1s 2ms/step - loss: 0.6749 - accuracy: 0.5709 - val_loss: 0.6915 - val_accuracy: 0.5563\n",
            "Epoch 22/150\n",
            "350/350 [==============================] - 1s 2ms/step - loss: 0.6729 - accuracy: 0.5741 - val_loss: 0.6901 - val_accuracy: 0.5559\n",
            "Epoch 23/150\n",
            "350/350 [==============================] - 1s 2ms/step - loss: 0.6713 - accuracy: 0.5771 - val_loss: 0.6884 - val_accuracy: 0.5552\n",
            "Epoch 24/150\n",
            "350/350 [==============================] - 1s 2ms/step - loss: 0.6696 - accuracy: 0.5809 - val_loss: 0.6873 - val_accuracy: 0.5563\n",
            "Epoch 25/150\n",
            "350/350 [==============================] - 1s 2ms/step - loss: 0.6681 - accuracy: 0.5835 - val_loss: 0.6862 - val_accuracy: 0.5606\n",
            "Epoch 26/150\n",
            "350/350 [==============================] - 1s 2ms/step - loss: 0.6668 - accuracy: 0.5850 - val_loss: 0.6853 - val_accuracy: 0.5627\n",
            "Epoch 27/150\n",
            "350/350 [==============================] - 1s 2ms/step - loss: 0.6656 - accuracy: 0.5889 - val_loss: 0.6843 - val_accuracy: 0.5620\n",
            "Epoch 28/150\n",
            "350/350 [==============================] - 1s 2ms/step - loss: 0.6644 - accuracy: 0.5900 - val_loss: 0.6843 - val_accuracy: 0.5623\n",
            "Epoch 29/150\n",
            "350/350 [==============================] - 1s 2ms/step - loss: 0.6635 - accuracy: 0.5907 - val_loss: 0.6833 - val_accuracy: 0.5631\n",
            "Epoch 30/150\n",
            "350/350 [==============================] - 1s 2ms/step - loss: 0.6626 - accuracy: 0.5926 - val_loss: 0.6832 - val_accuracy: 0.5634\n",
            "Epoch 31/150\n",
            "350/350 [==============================] - 1s 2ms/step - loss: 0.6616 - accuracy: 0.5964 - val_loss: 0.6823 - val_accuracy: 0.5638\n",
            "Epoch 32/150\n",
            "350/350 [==============================] - 1s 2ms/step - loss: 0.6609 - accuracy: 0.5974 - val_loss: 0.6815 - val_accuracy: 0.5638\n",
            "Epoch 33/150\n",
            "350/350 [==============================] - 1s 2ms/step - loss: 0.6602 - accuracy: 0.5964 - val_loss: 0.6812 - val_accuracy: 0.5652\n",
            "Epoch 34/150\n",
            "350/350 [==============================] - 1s 2ms/step - loss: 0.6595 - accuracy: 0.5982 - val_loss: 0.6808 - val_accuracy: 0.5656\n",
            "Epoch 35/150\n",
            "350/350 [==============================] - 1s 2ms/step - loss: 0.6588 - accuracy: 0.5987 - val_loss: 0.6808 - val_accuracy: 0.5659\n",
            "Epoch 36/150\n",
            "350/350 [==============================] - 1s 2ms/step - loss: 0.6583 - accuracy: 0.5995 - val_loss: 0.6800 - val_accuracy: 0.5638\n",
            "Epoch 37/150\n",
            "350/350 [==============================] - 1s 2ms/step - loss: 0.6578 - accuracy: 0.6003 - val_loss: 0.6800 - val_accuracy: 0.5652\n",
            "Epoch 38/150\n",
            "350/350 [==============================] - 1s 2ms/step - loss: 0.6571 - accuracy: 0.6006 - val_loss: 0.6794 - val_accuracy: 0.5631\n",
            "Epoch 39/150\n",
            "350/350 [==============================] - 1s 2ms/step - loss: 0.6567 - accuracy: 0.6024 - val_loss: 0.6791 - val_accuracy: 0.5666\n",
            "Epoch 40/150\n",
            "350/350 [==============================] - 1s 2ms/step - loss: 0.6563 - accuracy: 0.6045 - val_loss: 0.6793 - val_accuracy: 0.5656\n",
            "Epoch 41/150\n",
            "350/350 [==============================] - 1s 2ms/step - loss: 0.6560 - accuracy: 0.6034 - val_loss: 0.6788 - val_accuracy: 0.5681\n",
            "Epoch 42/150\n",
            "350/350 [==============================] - 1s 2ms/step - loss: 0.6554 - accuracy: 0.6060 - val_loss: 0.6785 - val_accuracy: 0.5681\n",
            "Epoch 43/150\n",
            "350/350 [==============================] - 1s 2ms/step - loss: 0.6552 - accuracy: 0.6054 - val_loss: 0.6786 - val_accuracy: 0.5677\n",
            "Epoch 44/150\n",
            "350/350 [==============================] - 1s 2ms/step - loss: 0.6549 - accuracy: 0.6060 - val_loss: 0.6786 - val_accuracy: 0.5684\n",
            "Epoch 45/150\n",
            "350/350 [==============================] - 1s 2ms/step - loss: 0.6545 - accuracy: 0.6074 - val_loss: 0.6784 - val_accuracy: 0.5677\n",
            "Epoch 46/150\n",
            "350/350 [==============================] - 1s 2ms/step - loss: 0.6542 - accuracy: 0.6061 - val_loss: 0.6782 - val_accuracy: 0.5670\n",
            "Epoch 47/150\n",
            "350/350 [==============================] - 1s 2ms/step - loss: 0.6539 - accuracy: 0.6090 - val_loss: 0.6782 - val_accuracy: 0.5659\n",
            "Epoch 48/150\n",
            "350/350 [==============================] - 1s 2ms/step - loss: 0.6536 - accuracy: 0.6065 - val_loss: 0.6781 - val_accuracy: 0.5670\n",
            "Epoch 49/150\n",
            "350/350 [==============================] - 1s 2ms/step - loss: 0.6534 - accuracy: 0.6086 - val_loss: 0.6780 - val_accuracy: 0.5677\n",
            "Epoch 50/150\n",
            "350/350 [==============================] - 1s 2ms/step - loss: 0.6531 - accuracy: 0.6086 - val_loss: 0.6775 - val_accuracy: 0.5648\n",
            "Epoch 51/150\n",
            "350/350 [==============================] - 1s 2ms/step - loss: 0.6529 - accuracy: 0.6068 - val_loss: 0.6779 - val_accuracy: 0.5656\n",
            "Epoch 52/150\n",
            "350/350 [==============================] - 1s 2ms/step - loss: 0.6527 - accuracy: 0.6101 - val_loss: 0.6775 - val_accuracy: 0.5648\n",
            "Epoch 53/150\n",
            "350/350 [==============================] - 1s 2ms/step - loss: 0.6525 - accuracy: 0.6089 - val_loss: 0.6776 - val_accuracy: 0.5659\n",
            "Epoch 54/150\n",
            "350/350 [==============================] - 1s 2ms/step - loss: 0.6523 - accuracy: 0.6096 - val_loss: 0.6777 - val_accuracy: 0.5659\n",
            "Epoch 55/150\n",
            "350/350 [==============================] - 1s 2ms/step - loss: 0.6521 - accuracy: 0.6090 - val_loss: 0.6777 - val_accuracy: 0.5666\n",
            "Epoch 56/150\n",
            "350/350 [==============================] - 1s 2ms/step - loss: 0.6519 - accuracy: 0.6105 - val_loss: 0.6778 - val_accuracy: 0.5677\n",
            "Epoch 57/150\n",
            "350/350 [==============================] - 1s 2ms/step - loss: 0.6517 - accuracy: 0.6116 - val_loss: 0.6774 - val_accuracy: 0.5663\n",
            "Epoch 58/150\n",
            "350/350 [==============================] - 1s 2ms/step - loss: 0.6516 - accuracy: 0.6106 - val_loss: 0.6774 - val_accuracy: 0.5663\n",
            "Epoch 59/150\n",
            "350/350 [==============================] - 1s 2ms/step - loss: 0.6514 - accuracy: 0.6093 - val_loss: 0.6773 - val_accuracy: 0.5659\n",
            "Epoch 60/150\n",
            "350/350 [==============================] - 1s 2ms/step - loss: 0.6513 - accuracy: 0.6097 - val_loss: 0.6774 - val_accuracy: 0.5652\n",
            "Epoch 61/150\n",
            "350/350 [==============================] - 1s 2ms/step - loss: 0.6512 - accuracy: 0.6100 - val_loss: 0.6771 - val_accuracy: 0.5656\n",
            "Epoch 62/150\n",
            "350/350 [==============================] - 1s 2ms/step - loss: 0.6510 - accuracy: 0.6105 - val_loss: 0.6769 - val_accuracy: 0.5670\n",
            "Epoch 63/150\n",
            "350/350 [==============================] - 1s 2ms/step - loss: 0.6508 - accuracy: 0.6108 - val_loss: 0.6770 - val_accuracy: 0.5681\n",
            "Epoch 64/150\n",
            "350/350 [==============================] - 1s 2ms/step - loss: 0.6508 - accuracy: 0.6117 - val_loss: 0.6768 - val_accuracy: 0.5673\n",
            "Epoch 65/150\n",
            "350/350 [==============================] - 1s 2ms/step - loss: 0.6506 - accuracy: 0.6112 - val_loss: 0.6768 - val_accuracy: 0.5681\n",
            "Epoch 66/150\n",
            "350/350 [==============================] - 1s 2ms/step - loss: 0.6505 - accuracy: 0.6121 - val_loss: 0.6765 - val_accuracy: 0.5698\n",
            "Epoch 67/150\n",
            "350/350 [==============================] - 1s 2ms/step - loss: 0.6504 - accuracy: 0.6111 - val_loss: 0.6770 - val_accuracy: 0.5670\n",
            "Epoch 68/150\n",
            "350/350 [==============================] - 1s 2ms/step - loss: 0.6502 - accuracy: 0.6105 - val_loss: 0.6766 - val_accuracy: 0.5691\n",
            "Epoch 69/150\n",
            "350/350 [==============================] - 1s 2ms/step - loss: 0.6502 - accuracy: 0.6115 - val_loss: 0.6772 - val_accuracy: 0.5666\n",
            "Epoch 70/150\n",
            "350/350 [==============================] - 1s 2ms/step - loss: 0.6501 - accuracy: 0.6124 - val_loss: 0.6772 - val_accuracy: 0.5691\n",
            "Epoch 71/150\n",
            "350/350 [==============================] - 1s 2ms/step - loss: 0.6498 - accuracy: 0.6105 - val_loss: 0.6766 - val_accuracy: 0.5681\n",
            "Epoch 72/150\n",
            "350/350 [==============================] - 1s 2ms/step - loss: 0.6498 - accuracy: 0.6127 - val_loss: 0.6769 - val_accuracy: 0.5677\n",
            "Epoch 73/150\n",
            "350/350 [==============================] - 1s 2ms/step - loss: 0.6498 - accuracy: 0.6118 - val_loss: 0.6767 - val_accuracy: 0.5670\n",
            "Epoch 74/150\n",
            "350/350 [==============================] - 1s 2ms/step - loss: 0.6496 - accuracy: 0.6137 - val_loss: 0.6768 - val_accuracy: 0.5691\n",
            "Epoch 75/150\n",
            "350/350 [==============================] - 1s 2ms/step - loss: 0.6496 - accuracy: 0.6112 - val_loss: 0.6769 - val_accuracy: 0.5681\n",
            "Epoch 76/150\n",
            "350/350 [==============================] - 1s 2ms/step - loss: 0.6496 - accuracy: 0.6139 - val_loss: 0.6768 - val_accuracy: 0.5670\n",
            "Epoch 77/150\n",
            "350/350 [==============================] - 1s 2ms/step - loss: 0.6493 - accuracy: 0.6132 - val_loss: 0.6767 - val_accuracy: 0.5688\n",
            "Epoch 78/150\n",
            "350/350 [==============================] - 1s 2ms/step - loss: 0.6494 - accuracy: 0.6119 - val_loss: 0.6764 - val_accuracy: 0.5702\n",
            "Epoch 79/150\n",
            "350/350 [==============================] - 1s 2ms/step - loss: 0.6492 - accuracy: 0.6133 - val_loss: 0.6768 - val_accuracy: 0.5713\n",
            "Epoch 80/150\n",
            "350/350 [==============================] - 1s 2ms/step - loss: 0.6491 - accuracy: 0.6112 - val_loss: 0.6762 - val_accuracy: 0.5748\n",
            "Epoch 81/150\n",
            "350/350 [==============================] - 1s 2ms/step - loss: 0.6492 - accuracy: 0.6121 - val_loss: 0.6764 - val_accuracy: 0.5709\n",
            "Epoch 82/150\n",
            "350/350 [==============================] - 1s 2ms/step - loss: 0.6491 - accuracy: 0.6114 - val_loss: 0.6762 - val_accuracy: 0.5731\n",
            "Epoch 83/150\n",
            "350/350 [==============================] - 1s 2ms/step - loss: 0.6490 - accuracy: 0.6129 - val_loss: 0.6767 - val_accuracy: 0.5720\n",
            "Epoch 84/150\n",
            "350/350 [==============================] - 1s 2ms/step - loss: 0.6489 - accuracy: 0.6133 - val_loss: 0.6768 - val_accuracy: 0.5720\n",
            "Epoch 85/150\n",
            "350/350 [==============================] - 1s 2ms/step - loss: 0.6489 - accuracy: 0.6114 - val_loss: 0.6762 - val_accuracy: 0.5709\n",
            "Epoch 86/150\n",
            "350/350 [==============================] - 1s 2ms/step - loss: 0.6488 - accuracy: 0.6107 - val_loss: 0.6764 - val_accuracy: 0.5706\n",
            "Epoch 87/150\n",
            "350/350 [==============================] - 1s 2ms/step - loss: 0.6487 - accuracy: 0.6123 - val_loss: 0.6764 - val_accuracy: 0.5727\n",
            "Epoch 88/150\n",
            "350/350 [==============================] - 1s 2ms/step - loss: 0.6487 - accuracy: 0.6127 - val_loss: 0.6763 - val_accuracy: 0.5702\n",
            "Epoch 89/150\n",
            "350/350 [==============================] - 1s 2ms/step - loss: 0.6487 - accuracy: 0.6127 - val_loss: 0.6765 - val_accuracy: 0.5716\n",
            "Epoch 90/150\n",
            "350/350 [==============================] - 1s 2ms/step - loss: 0.6486 - accuracy: 0.6124 - val_loss: 0.6766 - val_accuracy: 0.5709\n",
            "Epoch 91/150\n",
            "350/350 [==============================] - 1s 2ms/step - loss: 0.6485 - accuracy: 0.6115 - val_loss: 0.6762 - val_accuracy: 0.5716\n",
            "Epoch 92/150\n",
            "350/350 [==============================] - 1s 2ms/step - loss: 0.6485 - accuracy: 0.6129 - val_loss: 0.6763 - val_accuracy: 0.5720\n",
            "Epoch 93/150\n",
            "350/350 [==============================] - 1s 2ms/step - loss: 0.6484 - accuracy: 0.6123 - val_loss: 0.6766 - val_accuracy: 0.5731\n",
            "Epoch 94/150\n",
            "350/350 [==============================] - 1s 2ms/step - loss: 0.6483 - accuracy: 0.6125 - val_loss: 0.6761 - val_accuracy: 0.5731\n",
            "Epoch 95/150\n",
            "350/350 [==============================] - 1s 2ms/step - loss: 0.6483 - accuracy: 0.6122 - val_loss: 0.6762 - val_accuracy: 0.5748\n",
            "Epoch 96/150\n",
            "350/350 [==============================] - 1s 2ms/step - loss: 0.6482 - accuracy: 0.6136 - val_loss: 0.6765 - val_accuracy: 0.5731\n",
            "Epoch 97/150\n",
            "350/350 [==============================] - 1s 2ms/step - loss: 0.6483 - accuracy: 0.6126 - val_loss: 0.6763 - val_accuracy: 0.5727\n",
            "Epoch 98/150\n",
            "350/350 [==============================] - 1s 2ms/step - loss: 0.6482 - accuracy: 0.6124 - val_loss: 0.6760 - val_accuracy: 0.5745\n",
            "Epoch 99/150\n",
            "350/350 [==============================] - 1s 2ms/step - loss: 0.6482 - accuracy: 0.6122 - val_loss: 0.6763 - val_accuracy: 0.5752\n",
            "Epoch 100/150\n",
            "350/350 [==============================] - 1s 2ms/step - loss: 0.6480 - accuracy: 0.6115 - val_loss: 0.6766 - val_accuracy: 0.5763\n",
            "Epoch 101/150\n",
            "350/350 [==============================] - 1s 2ms/step - loss: 0.6481 - accuracy: 0.6137 - val_loss: 0.6763 - val_accuracy: 0.5756\n",
            "Epoch 102/150\n",
            "350/350 [==============================] - 1s 2ms/step - loss: 0.6480 - accuracy: 0.6115 - val_loss: 0.6760 - val_accuracy: 0.5723\n",
            "Epoch 103/150\n",
            "350/350 [==============================] - 1s 2ms/step - loss: 0.6479 - accuracy: 0.6114 - val_loss: 0.6764 - val_accuracy: 0.5741\n",
            "Epoch 104/150\n",
            "350/350 [==============================] - 1s 2ms/step - loss: 0.6480 - accuracy: 0.6130 - val_loss: 0.6763 - val_accuracy: 0.5777\n",
            "Epoch 105/150\n",
            "350/350 [==============================] - 1s 2ms/step - loss: 0.6479 - accuracy: 0.6115 - val_loss: 0.6765 - val_accuracy: 0.5748\n",
            "Epoch 106/150\n",
            "350/350 [==============================] - 1s 2ms/step - loss: 0.6479 - accuracy: 0.6133 - val_loss: 0.6759 - val_accuracy: 0.5763\n",
            "Epoch 107/150\n",
            "350/350 [==============================] - 1s 2ms/step - loss: 0.6479 - accuracy: 0.6119 - val_loss: 0.6759 - val_accuracy: 0.5752\n",
            "Epoch 108/150\n",
            "350/350 [==============================] - 1s 2ms/step - loss: 0.6477 - accuracy: 0.6113 - val_loss: 0.6759 - val_accuracy: 0.5784\n",
            "Epoch 109/150\n",
            "350/350 [==============================] - 1s 2ms/step - loss: 0.6478 - accuracy: 0.6120 - val_loss: 0.6760 - val_accuracy: 0.5763\n",
            "Epoch 110/150\n",
            "350/350 [==============================] - 1s 2ms/step - loss: 0.6476 - accuracy: 0.6113 - val_loss: 0.6766 - val_accuracy: 0.5777\n",
            "Epoch 111/150\n",
            "350/350 [==============================] - 1s 2ms/step - loss: 0.6477 - accuracy: 0.6124 - val_loss: 0.6766 - val_accuracy: 0.5781\n",
            "Epoch 112/150\n",
            "350/350 [==============================] - 1s 2ms/step - loss: 0.6477 - accuracy: 0.6118 - val_loss: 0.6760 - val_accuracy: 0.5766\n",
            "Epoch 113/150\n",
            "350/350 [==============================] - 1s 2ms/step - loss: 0.6477 - accuracy: 0.6125 - val_loss: 0.6760 - val_accuracy: 0.5748\n",
            "Epoch 114/150\n",
            "350/350 [==============================] - 1s 2ms/step - loss: 0.6476 - accuracy: 0.6124 - val_loss: 0.6762 - val_accuracy: 0.5763\n",
            "Epoch 115/150\n",
            "350/350 [==============================] - 1s 2ms/step - loss: 0.6476 - accuracy: 0.6105 - val_loss: 0.6761 - val_accuracy: 0.5773\n",
            "Epoch 116/150\n",
            "350/350 [==============================] - 1s 2ms/step - loss: 0.6475 - accuracy: 0.6121 - val_loss: 0.6762 - val_accuracy: 0.5759\n",
            "Epoch 117/150\n",
            "350/350 [==============================] - 1s 2ms/step - loss: 0.6475 - accuracy: 0.6130 - val_loss: 0.6759 - val_accuracy: 0.5788\n",
            "Epoch 118/150\n",
            "350/350 [==============================] - 1s 2ms/step - loss: 0.6474 - accuracy: 0.6131 - val_loss: 0.6757 - val_accuracy: 0.5788\n",
            "Epoch 119/150\n",
            "350/350 [==============================] - 1s 2ms/step - loss: 0.6475 - accuracy: 0.6132 - val_loss: 0.6755 - val_accuracy: 0.5795\n",
            "Epoch 120/150\n",
            "350/350 [==============================] - 1s 2ms/step - loss: 0.6474 - accuracy: 0.6117 - val_loss: 0.6759 - val_accuracy: 0.5752\n",
            "Epoch 121/150\n",
            "350/350 [==============================] - 1s 2ms/step - loss: 0.6474 - accuracy: 0.6126 - val_loss: 0.6759 - val_accuracy: 0.5788\n",
            "Epoch 122/150\n",
            "350/350 [==============================] - 1s 2ms/step - loss: 0.6474 - accuracy: 0.6111 - val_loss: 0.6759 - val_accuracy: 0.5798\n",
            "Epoch 123/150\n",
            "350/350 [==============================] - 1s 2ms/step - loss: 0.6473 - accuracy: 0.6134 - val_loss: 0.6760 - val_accuracy: 0.5788\n",
            "Epoch 124/150\n",
            "350/350 [==============================] - 1s 2ms/step - loss: 0.6473 - accuracy: 0.6119 - val_loss: 0.6760 - val_accuracy: 0.5752\n",
            "Epoch 125/150\n",
            "350/350 [==============================] - 1s 2ms/step - loss: 0.6473 - accuracy: 0.6116 - val_loss: 0.6761 - val_accuracy: 0.5777\n",
            "Epoch 126/150\n",
            "350/350 [==============================] - 1s 2ms/step - loss: 0.6472 - accuracy: 0.6126 - val_loss: 0.6762 - val_accuracy: 0.5788\n",
            "Epoch 127/150\n",
            "350/350 [==============================] - 1s 2ms/step - loss: 0.6473 - accuracy: 0.6111 - val_loss: 0.6759 - val_accuracy: 0.5784\n",
            "Epoch 128/150\n",
            "350/350 [==============================] - 1s 2ms/step - loss: 0.6472 - accuracy: 0.6136 - val_loss: 0.6757 - val_accuracy: 0.5788\n",
            "Epoch 129/150\n",
            "350/350 [==============================] - 1s 2ms/step - loss: 0.6471 - accuracy: 0.6128 - val_loss: 0.6756 - val_accuracy: 0.5798\n",
            "Epoch 130/150\n",
            "350/350 [==============================] - 1s 2ms/step - loss: 0.6471 - accuracy: 0.6141 - val_loss: 0.6759 - val_accuracy: 0.5788\n",
            "Epoch 131/150\n",
            "350/350 [==============================] - 1s 2ms/step - loss: 0.6471 - accuracy: 0.6117 - val_loss: 0.6759 - val_accuracy: 0.5788\n",
            "Epoch 132/150\n",
            "350/350 [==============================] - 1s 2ms/step - loss: 0.6470 - accuracy: 0.6132 - val_loss: 0.6765 - val_accuracy: 0.5752\n",
            "Epoch 133/150\n",
            "350/350 [==============================] - 1s 2ms/step - loss: 0.6471 - accuracy: 0.6138 - val_loss: 0.6756 - val_accuracy: 0.5784\n",
            "Epoch 134/150\n",
            "350/350 [==============================] - 1s 2ms/step - loss: 0.6470 - accuracy: 0.6133 - val_loss: 0.6757 - val_accuracy: 0.5770\n",
            "Epoch 135/150\n",
            "350/350 [==============================] - 1s 2ms/step - loss: 0.6470 - accuracy: 0.6125 - val_loss: 0.6760 - val_accuracy: 0.5788\n",
            "Epoch 136/150\n",
            "350/350 [==============================] - 1s 2ms/step - loss: 0.6471 - accuracy: 0.6125 - val_loss: 0.6758 - val_accuracy: 0.5777\n",
            "Epoch 137/150\n",
            "350/350 [==============================] - 1s 2ms/step - loss: 0.6469 - accuracy: 0.6127 - val_loss: 0.6760 - val_accuracy: 0.5813\n",
            "Epoch 138/150\n",
            "350/350 [==============================] - 1s 2ms/step - loss: 0.6469 - accuracy: 0.6143 - val_loss: 0.6762 - val_accuracy: 0.5813\n",
            "Epoch 139/150\n",
            "350/350 [==============================] - 1s 2ms/step - loss: 0.6469 - accuracy: 0.6115 - val_loss: 0.6762 - val_accuracy: 0.5791\n",
            "Epoch 140/150\n",
            "350/350 [==============================] - 1s 2ms/step - loss: 0.6469 - accuracy: 0.6133 - val_loss: 0.6761 - val_accuracy: 0.5781\n",
            "Epoch 141/150\n",
            "350/350 [==============================] - 1s 2ms/step - loss: 0.6468 - accuracy: 0.6127 - val_loss: 0.6760 - val_accuracy: 0.5806\n",
            "Epoch 142/150\n",
            "350/350 [==============================] - 1s 2ms/step - loss: 0.6468 - accuracy: 0.6130 - val_loss: 0.6758 - val_accuracy: 0.5806\n",
            "Epoch 143/150\n",
            "350/350 [==============================] - 1s 2ms/step - loss: 0.6469 - accuracy: 0.6123 - val_loss: 0.6754 - val_accuracy: 0.5806\n",
            "Epoch 144/150\n",
            "350/350 [==============================] - 1s 2ms/step - loss: 0.6468 - accuracy: 0.6151 - val_loss: 0.6762 - val_accuracy: 0.5788\n",
            "Epoch 145/150\n",
            "350/350 [==============================] - 1s 2ms/step - loss: 0.6468 - accuracy: 0.6129 - val_loss: 0.6761 - val_accuracy: 0.5824\n",
            "Epoch 146/150\n",
            "350/350 [==============================] - 1s 2ms/step - loss: 0.6468 - accuracy: 0.6143 - val_loss: 0.6759 - val_accuracy: 0.5788\n",
            "Epoch 147/150\n",
            "350/350 [==============================] - 1s 2ms/step - loss: 0.6467 - accuracy: 0.6152 - val_loss: 0.6765 - val_accuracy: 0.5795\n",
            "Epoch 148/150\n",
            "350/350 [==============================] - 1s 2ms/step - loss: 0.6467 - accuracy: 0.6106 - val_loss: 0.6759 - val_accuracy: 0.5813\n",
            "Epoch 149/150\n",
            "350/350 [==============================] - 1s 2ms/step - loss: 0.6468 - accuracy: 0.6123 - val_loss: 0.6755 - val_accuracy: 0.5791\n",
            "Epoch 150/150\n",
            "350/350 [==============================] - 1s 2ms/step - loss: 0.6467 - accuracy: 0.6134 - val_loss: 0.6759 - val_accuracy: 0.5784\n",
            "350/350 [==============================] - 0s 1ms/step\n",
            "88/88 [==============================] - 0s 1ms/step\n"
          ]
        }
      ],
      "source": [
        "# Polynomial features transformation (degree 2 or 3 might perform better)\n",
        "poly = PolynomialFeatures(degree=3)\n",
        "X_train_poly = poly.fit_transform(X_train_scaled)\n",
        "X_test_poly = poly.transform(X_test_scaled)\n",
        "\n",
        "# Define the Logistic Regression model with polynomial features\n",
        "model = Sequential([\n",
        "    Dense(1, input_shape=(X_train_poly.shape[1],), activation='sigmoid')\n",
        "])\n",
        "\n",
        "# Compile the model with tuned hyperparameters\n",
        "model.compile(optimizer=tf.keras.optimizers.Adam(learning_rate=0.0001),  # Deccreased learning rate\n",
        "              loss='binary_crossentropy',  # Binary cross-entropy for binary classification\n",
        "              metrics=['accuracy'])\n",
        "\n",
        "# Train the model (increase epochs, and adjust batch size)\n",
        "history = model.fit(X_train_poly, y_train,\n",
        "                    epochs=150,              # Adjusted epochs for better convergence\n",
        "                    batch_size=32,           # Experiment with smaller batch size\n",
        "                    validation_data=(X_test_poly, y_test),  # Validate on test data\n",
        "                    verbose=1)               # Verbose output during training\n",
        "\n",
        "# Make predictions on the test set\n",
        "y_train_pred = (model.predict(X_train_poly) > 0.5).astype(\"int32\")  # Threshold at 0.5\n",
        "y_test_pred = (model.predict(X_test_poly) > 0.5).astype(\"int32\")\n",
        "\n"
      ]
    },
    {
      "cell_type": "code",
      "execution_count": null,
      "metadata": {
        "colab": {
          "base_uri": "https://localhost:8080/"
        },
        "id": "W90ZhEby0cUJ",
        "outputId": "d4a296d4-59ea-4ca2-b01b-a79b456513ae"
      },
      "outputs": [
        {
          "name": "stdout",
          "output_type": "stream",
          "text": [
            "Training Accuracy: 61.46698829625659\n",
            "Testing Accuracy: 57.8420864594498\n",
            "Training Precision: 0.6132577100319035\n",
            "Testing Precision: 0.5641389085754784\n",
            "Training Recall: 0.6188517259881953\n",
            "Testing Recall: 0.5848640705363704\n",
            "Training F1 Score: 0.6160420190510104\n",
            "Testing F1 Score: 0.5743145743145743\n"
          ]
        }
      ],
      "source": [
        "# Evaluate the model using classification metrics\n",
        "print(\"Training Accuracy:\", accuracy_score(y_train, y_train_pred) * 100)\n",
        "print(\"Testing Accuracy:\", accuracy_score(y_test, y_test_pred) * 100)\n",
        "\n",
        "print(\"Training Precision:\", precision_score(y_train, y_train_pred))\n",
        "print(\"Testing Precision:\", precision_score(y_test, y_test_pred))\n",
        "\n",
        "print(\"Training Recall:\", recall_score(y_train, y_train_pred))\n",
        "print(\"Testing Recall:\", recall_score(y_test, y_test_pred))\n",
        "\n",
        "print(\"Training F1 Score:\", f1_score(y_train, y_train_pred))\n",
        "print(\"Testing F1 Score:\", f1_score(y_test, y_test_pred))"
      ]
    },
    {
      "cell_type": "code",
      "execution_count": null,
      "metadata": {
        "colab": {
          "base_uri": "https://localhost:8080/",
          "height": 410
        },
        "id": "3Ko4hgp0cSDp",
        "outputId": "29e811c9-2338-46b2-c6c7-87c940350dd8"
      },
      "outputs": [
        {
          "data": {
            "image/png": "[encoded data removed]",
            "text/plain": [
              "<Figure size 600x400 with 1 Axes>"
            ]
          },
          "metadata": {},
          "output_type": "display_data"
        }
      ],
      "source": [
        "cm = confusion_matrix(y_test, y_test_pred)\n",
        "\n",
        "# Plot the confusion matrix using seaborn\n",
        "plt.figure(figsize=(6, 4))\n",
        "sns.heatmap(cm, annot=True, fmt=\"d\", cmap=\"Blues\", cbar=False)\n",
        "plt.title(\"Confusion Matrix\")\n",
        "plt.xlabel(\"Predicted Label\")\n",
        "plt.ylabel(\"True Label\")\n",
        "plt.show()"
      ]
    },
    {
      "cell_type": "markdown",
      "metadata": {
        "id": "iClmGE0G8NAZ"
      },
      "source": [
        "**`Remark:`** The results obtained even after proper hyperparameter tuning and using polynomial features fail to provide acceptable train and test accuracies. This shows that the logistic regression is not suitable for the task."
      ]
    },
    {
      "cell_type": "markdown",
      "metadata": {
        "id": "mPs2wp4HOO8o"
      },
      "source": [
        "\n",
        "\n",
        "---\n",
        "\n"
      ]
    },
    {
      "cell_type": "markdown",
      "metadata": {
        "id": "-X50ex9g8osO"
      },
      "source": [
        "## <b> C. Support Vector Machine :</b>"
      ]
    },
    {
      "cell_type": "code",
      "execution_count": null,
      "metadata": {
        "id": "XhFUGIzvpQRf"
      },
      "outputs": [],
      "source": [
        "# Initialize the SVM model (without regularization)\n",
        "svm_model = SVC(kernel='linear', C=1.0, random_state=42)  # C=1.0 is the default value, can tune this\n",
        "\n",
        "# Train the SVM model\n",
        "svm_model.fit(X_train_scaled, y_train)\n",
        "\n",
        "# Make predictions on the training and testing data\n",
        "y_train_pred = svm_model.predict(X_train_scaled)\n",
        "y_test_pred = svm_model.predict(X_test_scaled)"
      ]
    },
    {
      "cell_type": "code",
      "execution_count": null,
      "metadata": {
        "colab": {
          "base_uri": "https://localhost:8080/"
        },
        "id": "Dn264sKq9aAq",
        "outputId": "7a3d0c43-2b83-47da-da75-e6a2e6d32304"
      },
      "outputs": [
        {
          "name": "stdout",
          "output_type": "stream",
          "text": [
            "Training Accuracy: 50.906816760475294\n",
            "Testing Accuracy: 52.69739192568774\n",
            "Training Precision: 0.5094191522762951\n",
            "Testing Precision: 0.5146476642913698\n",
            "Training Recall: 0.4643176533714899\n",
            "Testing Recall: 0.4775900073475386\n",
            "Training F1 Score: 0.48582389819406757\n",
            "Testing F1 Score: 0.4954268292682927\n"
          ]
        }
      ],
      "source": [
        "# Make predictions on the training and testing data\n",
        "y_train_pred = svm_model.predict(X_train_scaled)\n",
        "y_test_pred = svm_model.predict(X_test_scaled)\n",
        "\n",
        "# Evaluate the model using classification metrics\n",
        "print(\"Training Accuracy:\", accuracy_score(y_train, y_train_pred) * 100)\n",
        "print(\"Testing Accuracy:\", accuracy_score(y_test, y_test_pred) * 100)\n",
        "\n",
        "print(\"Training Precision:\", precision_score(y_train, y_train_pred))\n",
        "print(\"Testing Precision:\", precision_score(y_test, y_test_pred))\n",
        "\n",
        "print(\"Training Recall:\", recall_score(y_train, y_train_pred))\n",
        "print(\"Testing Recall:\", recall_score(y_test, y_test_pred))\n",
        "\n",
        "print(\"Training F1 Score:\", f1_score(y_train, y_train_pred))\n",
        "print(\"Testing F1 Score:\", f1_score(y_test, y_test_pred))"
      ]
    },
    {
      "cell_type": "code",
      "execution_count": null,
      "metadata": {
        "colab": {
          "base_uri": "https://localhost:8080/",
          "height": 487
        },
        "id": "kR3SKy2kMYPq",
        "outputId": "75aaac14-b897-4c9d-ead6-cd411074698f"
      },
      "outputs": [
        {
          "data": {
            "image/png": "[encoded data removed]",
            "text/plain": [
              "<Figure size 1200x500 with 1 Axes>"
            ]
          },
          "metadata": {},
          "output_type": "display_data"
        }
      ],
      "source": [
        "confusion_matrix = confusion_matrix(y_test, y_test_pred)\n",
        "\n",
        "def plot_confusion_matrix(cm, title='Confusion Matrix'):\n",
        "    sns.heatmap(cm, annot=True, fmt='d', cmap='Blues', cbar=False,\n",
        "                xticklabels=['Predicted 0', 'Predicted 1'],\n",
        "                yticklabels=['Actual 0', 'Actual 1'])\n",
        "    plt.title(title)\n",
        "    plt.xlabel('Predicted Labels')\n",
        "    plt.ylabel('True Labels')\n",
        "    plt.show()\n",
        "\n",
        "# Plotting the confusion matrices\n",
        "plt.figure(figsize=(12, 5))\n",
        "\n",
        "plt.subplot(1, 2, 2)\n",
        "plot_confusion_matrix(confusion_matrix, title='Testing Confusion Matrix')"
      ]
    },
    {
      "cell_type": "markdown",
      "metadata": {
        "id": "NO34fxhaVrP4"
      },
      "source": [
        "\n",
        "\n",
        "---\n",
        "\n"
      ]
    },
    {
      "cell_type": "markdown",
      "metadata": {
        "id": "FcYzArXkMGpw"
      },
      "source": [
        "## <b> D. Support Vector Machine (after hyperparameter-tuning) :</b>"
      ]
    },
    {
      "cell_type": "code",
      "execution_count": null,
      "metadata": {
        "id": "JYlKsPUG9wtt"
      },
      "outputs": [],
      "source": [
        "# Create a pipeline that scales the data and fits the SVM model\n",
        "svm_pipeline = make_pipeline(StandardScaler(), SVC(kernel='rbf', C=1.0, gamma='scale', random_state=42))\n",
        "\n",
        "# Train the model using the training data\n",
        "svm_pipeline.fit(X_train_poly, y_train)\n",
        "\n",
        "# Make predictions on the training and testing data\n",
        "y_train_pred = svm_pipeline.predict(X_train_poly)\n",
        "y_test_pred = svm_pipeline.predict(X_test_poly)\n"
      ]
    },
    {
      "cell_type": "code",
      "execution_count": null,
      "metadata": {
        "colab": {
          "base_uri": "https://localhost:8080/"
        },
        "id": "yxeF05NcJKMC",
        "outputId": "8e6e7ca1-70d5-423c-9abe-050a8eec6777"
      },
      "outputs": [
        {
          "name": "stdout",
          "output_type": "stream",
          "text": [
            "Training Accuracy: 70.97292950951487\n",
            "Testing Accuracy: 59.66416577349053\n",
            "Training Precision: 0.704006968641115\n",
            "Testing Precision: 0.5841799709724238\n",
            "Training Recall: 0.7227687354677159\n",
            "Testing Recall: 0.59147685525349\n",
            "Training F1 Score: 0.7132644956314536\n",
            "Testing F1 Score: 0.5878057685286601\n"
          ]
        }
      ],
      "source": [
        "# Evaluate the model using classification metrics\n",
        "print(\"Training Accuracy:\", accuracy_score(y_train, y_train_pred) * 100)\n",
        "print(\"Testing Accuracy:\", accuracy_score(y_test, y_test_pred) * 100)\n",
        "\n",
        "print(\"Training Precision:\", precision_score(y_train, y_train_pred))\n",
        "print(\"Testing Precision:\", precision_score(y_test, y_test_pred))\n",
        "\n",
        "print(\"Training Recall:\", recall_score(y_train, y_train_pred))\n",
        "print(\"Testing Recall:\", recall_score(y_test, y_test_pred))\n",
        "\n",
        "print(\"Training F1 Score:\", f1_score(y_train, y_train_pred))\n",
        "print(\"Testing F1 Score:\", f1_score(y_test, y_test_pred))\n"
      ]
    },
    {
      "cell_type": "code",
      "execution_count": null,
      "metadata": {
        "colab": {
          "base_uri": "https://localhost:8080/",
          "height": 487
        },
        "id": "dEhnrkEqJbC8",
        "outputId": "50294041-9079-48f9-f04d-bbf2b3474153"
      },
      "outputs": [
        {
          "data": {
            "image/png": "[encoded data removed]",
            "text/plain": [
              "<Figure size 1200x500 with 1 Axes>"
            ]
          },
          "metadata": {},
          "output_type": "display_data"
        }
      ],
      "source": [
        "confusion_matrix = confusion_matrix(y_test, y_test_pred)\n",
        "\n",
        "def plot_confusion_matrix(cm, title='Confusion Matrix'):\n",
        "    sns.heatmap(cm, annot=True, fmt='d', cmap='Blues', cbar=False,\n",
        "                xticklabels=['Predicted 0', 'Predicted 1'],\n",
        "                yticklabels=['Actual 0', 'Actual 1'])\n",
        "    plt.title(title)\n",
        "    plt.xlabel('Predicted Labels')\n",
        "    plt.ylabel('True Labels')\n",
        "    plt.show()\n",
        "\n",
        "# Plotting the confusion matrices\n",
        "plt.figure(figsize=(12, 5))\n",
        "\n",
        "plt.subplot(1, 2, 2)\n",
        "plot_confusion_matrix(confusion_matrix, title='Testing Confusion Matrix')"
      ]
    },
    {
      "cell_type": "markdown",
      "metadata": {
        "id": "BAjXzMNMMfZR"
      },
      "source": [
        "**`Remark:`** The results obtained using SVM even after proper hyperparameter tuning and using polynomial features fail to provide acceptable train and test accuracies. SVM does not appear fit for the task."
      ]
    },
    {
      "cell_type": "markdown",
      "metadata": {
        "id": "MCeZxivpOREz"
      },
      "source": [
        "\n",
        "\n",
        "---\n",
        "\n"
      ]
    },
    {
      "cell_type": "markdown",
      "metadata": {
        "id": "jQK1igagmvcl"
      },
      "source": [
        "## <b>E. Random Forest :</b>"
      ]
    },
    {
      "cell_type": "code",
      "execution_count": null,
      "metadata": {
        "colab": {
          "base_uri": "https://localhost:8080/"
        },
        "id": "wgWFcN1inTB-",
        "outputId": "671f0a66-b3e0-4411-dc36-8eb2c007b106"
      },
      "outputs": [
        {
          "name": "stdout",
          "output_type": "stream",
          "text": [
            "Training Classification Report:\n",
            "              precision    recall  f1-score   support\n",
            "\n",
            "         0.0       0.93      0.94      0.93      5602\n",
            "         1.0       0.94      0.93      0.93      5591\n",
            "\n",
            "    accuracy                           0.93     11193\n",
            "   macro avg       0.93      0.93      0.93     11193\n",
            "weighted avg       0.93      0.93      0.93     11193\n",
            "\n",
            "Testing Classification Report:\n",
            "              precision    recall  f1-score   support\n",
            "\n",
            "         0.0       0.80      0.78      0.79      1438\n",
            "         1.0       0.78      0.79      0.78      1361\n",
            "\n",
            "    accuracy                           0.79      2799\n",
            "   macro avg       0.79      0.79      0.79      2799\n",
            "weighted avg       0.79      0.79      0.79      2799\n",
            "\n"
          ]
        }
      ],
      "source": [
        "rf_model = RandomForestClassifier(random_state=42)\n",
        "rf_model.fit(X_train_scaled, y_train)\n",
        "\n",
        "# Make predictions on training and testing data\n",
        "y_train_pred = rf_model.predict(X_train_scaled)\n",
        "y_test_pred = rf_model.predict(X_test_scaled)\n",
        "\n",
        "# Generate classification reports\n",
        "train_report = classification_report(y_train, y_train_pred)\n",
        "test_report = classification_report(y_test, y_test_pred)\n",
        "\n",
        "# Print the classification reports\n",
        "print(\"Training Classification Report:\")\n",
        "print(train_report)\n",
        "\n",
        "print(\"Testing Classification Report:\")\n",
        "print(test_report)"
      ]
    },
    {
      "cell_type": "code",
      "execution_count": null,
      "metadata": {
        "colab": {
          "base_uri": "https://localhost:8080/",
          "height": 487
        },
        "id": "oWyNxkyC8JAo",
        "outputId": "922752f6-1a71-4a6f-a744-cd5cd4a31c99"
      },
      "outputs": [
        {
          "data": {
            "image/png": "[encoded data removed]",
            "text/plain": [
              "<Figure size 1200x500 with 1 Axes>"
            ]
          },
          "metadata": {},
          "output_type": "display_data"
        }
      ],
      "source": [
        "confusion_matrix = confusion_matrix(y_test, y_test_pred)\n",
        "\n",
        "def plot_confusion_matrix(cm, title='Confusion Matrix'):\n",
        "    sns.heatmap(cm, annot=True, fmt='d', cmap='Blues', cbar=False,\n",
        "                xticklabels=['Predicted 0', 'Predicted 1'],\n",
        "                yticklabels=['Actual 0', 'Actual 1'])\n",
        "    plt.title(title)\n",
        "    plt.xlabel('Predicted Labels')\n",
        "    plt.ylabel('True Labels')\n",
        "    plt.show()\n",
        "\n",
        "# Plotting the confusion matrices\n",
        "plt.figure(figsize=(12, 5))\n",
        "\n",
        "plt.subplot(1, 2, 2)\n",
        "plot_confusion_matrix(confusion_matrix, title='Testing Confusion Matrix')"
      ]
    },
    {
      "cell_type": "markdown",
      "metadata": {
        "id": "CafGwjbMNTW0"
      },
      "source": [
        "**`Remark:`** The results obtained after proper hyperparameter tuning appear to be better than earlier models but the a better setting still seems to be required.\n",
        "\n",
        "\n",
        "\n"
      ]
    },
    {
      "cell_type": "markdown",
      "metadata": {
        "id": "N-8Jp-UZOTX-"
      },
      "source": [
        "\n",
        "\n",
        "---\n",
        "\n"
      ]
    },
    {
      "cell_type": "markdown",
      "metadata": {
        "id": "Icquw6RON3OW"
      },
      "source": [
        "## **<b>F. XGBoost : </b>**"
      ]
    },
    {
      "cell_type": "code",
      "execution_count": null,
      "metadata": {
        "colab": {
          "base_uri": "https://localhost:8080/",
          "height": 280
        },
        "id": "XKqg4t4udfvu",
        "outputId": "01cc336f-1462-4e05-801c-8ea7eec04558"
      },
      "outputs": [
        {
          "name": "stdout",
          "output_type": "stream",
          "text": [
            "Requirement already satisfied: xgboost in /usr/local/lib/python3.10/dist-packages (2.1.1)\n",
            "Requirement already satisfied: numpy in /usr/local/lib/python3.10/dist-packages (from xgboost) (1.26.4)\n",
            "Requirement already satisfied: nvidia-nccl-cu12 in /usr/local/lib/python3.10/dist-packages (from xgboost) (2.23.4)\n",
            "Requirement already satisfied: scipy in /usr/local/lib/python3.10/dist-packages (from xgboost) (1.13.1)\n"
          ]
        },
        {
          "ename": "NameError",
          "evalue": "name 'X_train_scaled' is not defined",
          "output_type": "error",
          "traceback": [
            "\u001b[0;31m---------------------------------------------------------------------------\u001b[0m",
            "\u001b[0;31mNameError\u001b[0m                                 Traceback (most recent call last)",
            "\u001b[0;32m<ipython-input-2-4048c1f2c8cd>\u001b[0m in \u001b[0;36m<cell line: 7>\u001b[0;34m()\u001b[0m\n\u001b[1;32m      5\u001b[0m \u001b[0;31m# Initialize and train XGBoost\u001b[0m\u001b[0;34m\u001b[0m\u001b[0;34m\u001b[0m\u001b[0m\n\u001b[1;32m      6\u001b[0m \u001b[0mxgboost_model\u001b[0m \u001b[0;34m=\u001b[0m \u001b[0mxgb\u001b[0m\u001b[0;34m.\u001b[0m\u001b[0mXGBClassifier\u001b[0m\u001b[0;34m(\u001b[0m\u001b[0mrandom_state\u001b[0m\u001b[0;34m=\u001b[0m\u001b[0;36m42\u001b[0m\u001b[0;34m)\u001b[0m\u001b[0;34m\u001b[0m\u001b[0;34m\u001b[0m\u001b[0m\n\u001b[0;32m----> 7\u001b[0;31m \u001b[0mxgboost_model\u001b[0m\u001b[0;34m.\u001b[0m\u001b[0mfit\u001b[0m\u001b[0;34m(\u001b[0m\u001b[0mX_train_scaled\u001b[0m\u001b[0;34m,\u001b[0m \u001b[0my_train\u001b[0m\u001b[0;34m)\u001b[0m\u001b[0;34m\u001b[0m\u001b[0;34m\u001b[0m\u001b[0m\n\u001b[0m\u001b[1;32m      8\u001b[0m \u001b[0;34m\u001b[0m\u001b[0m\n\u001b[1;32m      9\u001b[0m \u001b[0;31m# Evaluate on Training Data\u001b[0m\u001b[0;34m\u001b[0m\u001b[0;34m\u001b[0m\u001b[0m\n",
            "\u001b[0;31mNameError\u001b[0m: name 'X_train_scaled' is not defined"
          ]
        }
      ],
      "source": [
        "# Install and import the XGBoost library\n",
        "!pip install xgboost\n",
        "import xgboost as xgb\n",
        "\n",
        "# Initialize and train XGBoost\n",
        "xgboost_model = xgb.XGBClassifier(random_state=42)\n",
        "xgboost_model.fit(X_train_scaled, y_train)\n",
        "\n",
        "# Evaluate on Training Data\n",
        "y_train_pred_xgb = xgboost_model.predict(X_train_scaled)\n",
        "train_accuracy_xgb = accuracy_score(y_train, y_train_pred_xgb)\n",
        "\n",
        "# Evaluate on Testing Data\n",
        "y_pred_xgb = xgboost_model.predict(X_test_scaled)\n",
        "test_accuracy_xgb = accuracy_score(y_test, y_pred_xgb)\n",
        "\n",
        "# Print train and test accuracy\n",
        "print(f\"Train Accuracy with XGBoost: {train_accuracy_xgb * 100:.2f}%\")\n",
        "print(f\"Test Accuracy with XGBoost: {test_accuracy_xgb * 100:.2f}%\")\n",
        "\n",
        "# Classification report for train set\n",
        "print(\"\\nClassification Report on Train Data:\")\n",
        "print(classification_report(y_test, y_pred_xgb))\n",
        "\n",
        "# Classification report for test set\n",
        "print(\"\\nClassification Report on Test Data:\")\n",
        "print(classification_report(y_test, y_pred_xgb))\n",
        "\n",
        "\n"
      ]
    },
    {
      "cell_type": "markdown",
      "metadata": {
        "id": "PdDsjAttNytS"
      },
      "source": []
    },
    {
      "cell_type": "code",
      "execution_count": null,
      "metadata": {
        "colab": {
          "base_uri": "https://localhost:8080/",
          "height": 410
        },
        "id": "HbmwZrRULoV0",
        "outputId": "6051a32d-efc1-45ce-c44c-d4e050d7782a"
      },
      "outputs": [
        {
          "data": {
            "image/png": "[encoded data removed]",
            "text/plain": [
              "<Figure size 600x400 with 2 Axes>"
            ]
          },
          "metadata": {},
          "output_type": "display_data"
        }
      ],
      "source": [
        "# Confusion Matrix\n",
        "cm_xgb = confusion_matrix(y_test, y_pred_xgb)\n",
        "plt.figure(figsize=(6, 4))\n",
        "sns.heatmap(cm_xgb, annot=True, fmt='d', cmap='Blues', xticklabels=['Lost', 'Won'], yticklabels=['Lost', 'Won'])\n",
        "plt.title('Confusion Matrix (XGBoost)')\n",
        "plt.xlabel('Predicted')\n",
        "plt.ylabel('Actual')\n",
        "plt.show()\n"
      ]
    },
    {
      "cell_type": "markdown",
      "metadata": {
        "id": "742Tlik9OB8x"
      },
      "source": [
        "**`Remark:`** The results obtained using XGBoost appear to be decent. More exploration can be done to find out a better suited model."
      ]
    },
    {
      "cell_type": "markdown",
      "metadata": {
        "id": "olDPCI1tUp_X"
      },
      "source": [
        "\n",
        "\n",
        "---\n",
        "\n"
      ]
    },
    {
      "cell_type": "markdown",
      "metadata": {
        "id": "0P4wISa4O3eW"
      },
      "source": [
        "## <b>G. Artifical Neural Network : </b>"
      ]
    },
    {
      "cell_type": "code",
      "execution_count": null,
      "metadata": {
        "colab": {
          "base_uri": "https://localhost:8080/"
        },
        "id": "vPp9MA5NLyBi",
        "outputId": "f4d1eefd-790c-4c73-b033-dab4e9331e6b"
      },
      "outputs": [
        {
          "name": "stdout",
          "output_type": "stream",
          "text": [
            "Epoch 1/100\n",
            "700/700 [==============================] - 4s 5ms/step - loss: 0.6936 - accuracy: 0.5105 - val_loss: 0.6909 - val_accuracy: 0.5148\n",
            "Epoch 2/100\n",
            "700/700 [==============================] - 3s 4ms/step - loss: 0.6845 - accuracy: 0.5567 - val_loss: 0.6805 - val_accuracy: 0.5606\n",
            "Epoch 3/100\n",
            "700/700 [==============================] - 3s 4ms/step - loss: 0.6666 - accuracy: 0.5909 - val_loss: 0.6621 - val_accuracy: 0.5959\n",
            "Epoch 4/100\n",
            "700/700 [==============================] - 3s 4ms/step - loss: 0.6373 - accuracy: 0.6351 - val_loss: 0.6315 - val_accuracy: 0.6338\n",
            "Epoch 5/100\n",
            "700/700 [==============================] - 3s 4ms/step - loss: 0.6014 - accuracy: 0.6710 - val_loss: 0.5974 - val_accuracy: 0.6742\n",
            "Epoch 6/100\n",
            "700/700 [==============================] - 3s 4ms/step - loss: 0.5613 - accuracy: 0.7007 - val_loss: 0.5678 - val_accuracy: 0.6860\n",
            "Epoch 7/100\n",
            "700/700 [==============================] - 3s 4ms/step - loss: 0.5220 - accuracy: 0.7301 - val_loss: 0.5452 - val_accuracy: 0.7081\n",
            "Epoch 8/100\n",
            "700/700 [==============================] - 3s 4ms/step - loss: 0.4886 - accuracy: 0.7432 - val_loss: 0.5157 - val_accuracy: 0.7178\n",
            "Epoch 9/100\n",
            "700/700 [==============================] - 3s 4ms/step - loss: 0.4514 - accuracy: 0.7657 - val_loss: 0.4994 - val_accuracy: 0.7481\n",
            "Epoch 10/100\n",
            "700/700 [==============================] - 3s 4ms/step - loss: 0.4233 - accuracy: 0.7847 - val_loss: 0.4677 - val_accuracy: 0.7528\n",
            "Epoch 11/100\n",
            "700/700 [==============================] - 3s 4ms/step - loss: 0.3954 - accuracy: 0.8018 - val_loss: 0.4566 - val_accuracy: 0.7631\n",
            "Epoch 12/100\n",
            "700/700 [==============================] - 3s 4ms/step - loss: 0.3791 - accuracy: 0.8043 - val_loss: 0.4228 - val_accuracy: 0.7728\n",
            "Epoch 13/100\n",
            "700/700 [==============================] - 3s 4ms/step - loss: 0.3711 - accuracy: 0.8114 - val_loss: 0.4102 - val_accuracy: 0.7810\n",
            "Epoch 14/100\n",
            "700/700 [==============================] - 3s 4ms/step - loss: 0.3492 - accuracy: 0.8199 - val_loss: 0.3899 - val_accuracy: 0.7899\n",
            "Epoch 15/100\n",
            "700/700 [==============================] - 3s 4ms/step - loss: 0.3474 - accuracy: 0.8237 - val_loss: 0.4073 - val_accuracy: 0.7924\n",
            "Epoch 16/100\n",
            "700/700 [==============================] - 3s 4ms/step - loss: 0.3280 - accuracy: 0.8326 - val_loss: 0.3865 - val_accuracy: 0.7939\n",
            "Epoch 17/100\n",
            "700/700 [==============================] - 3s 4ms/step - loss: 0.3306 - accuracy: 0.8252 - val_loss: 0.3904 - val_accuracy: 0.7974\n",
            "Epoch 18/100\n",
            "700/700 [==============================] - 3s 5ms/step - loss: 0.3267 - accuracy: 0.8277 - val_loss: 0.3561 - val_accuracy: 0.7996\n",
            "Epoch 19/100\n",
            "700/700 [==============================] - 3s 4ms/step - loss: 0.3197 - accuracy: 0.8311 - val_loss: 0.3627 - val_accuracy: 0.8142\n",
            "Epoch 20/100\n",
            "700/700 [==============================] - 3s 4ms/step - loss: 0.3069 - accuracy: 0.8377 - val_loss: 0.3431 - val_accuracy: 0.8114\n",
            "Epoch 21/100\n",
            "700/700 [==============================] - 3s 4ms/step - loss: 0.3052 - accuracy: 0.8368 - val_loss: 0.3637 - val_accuracy: 0.8092\n",
            "Epoch 22/100\n",
            "700/700 [==============================] - 3s 4ms/step - loss: 0.3126 - accuracy: 0.8396 - val_loss: 0.3446 - val_accuracy: 0.8071\n",
            "Epoch 23/100\n",
            "700/700 [==============================] - 3s 4ms/step - loss: 0.2927 - accuracy: 0.8426 - val_loss: 0.3380 - val_accuracy: 0.8085\n",
            "Epoch 24/100\n",
            "700/700 [==============================] - 3s 5ms/step - loss: 0.2917 - accuracy: 0.8421 - val_loss: 0.3549 - val_accuracy: 0.8081\n",
            "Epoch 25/100\n",
            "700/700 [==============================] - 3s 5ms/step - loss: 0.2967 - accuracy: 0.8431 - val_loss: 0.3434 - val_accuracy: 0.8192\n",
            "Epoch 26/100\n",
            "700/700 [==============================] - 3s 5ms/step - loss: 0.2853 - accuracy: 0.8463 - val_loss: 0.3910 - val_accuracy: 0.7903\n",
            "Epoch 27/100\n",
            "700/700 [==============================] - 3s 4ms/step - loss: 0.2885 - accuracy: 0.8487 - val_loss: 0.3567 - val_accuracy: 0.7999\n",
            "Epoch 28/100\n",
            "700/700 [==============================] - 3s 4ms/step - loss: 0.2863 - accuracy: 0.8456 - val_loss: 0.3414 - val_accuracy: 0.8096\n",
            "Epoch 29/100\n",
            "700/700 [==============================] - 3s 4ms/step - loss: 0.2857 - accuracy: 0.8468 - val_loss: 0.3565 - val_accuracy: 0.8121\n",
            "Epoch 30/100\n",
            "700/700 [==============================] - 3s 4ms/step - loss: 0.2879 - accuracy: 0.8479 - val_loss: 0.3337 - val_accuracy: 0.8149\n",
            "Epoch 31/100\n",
            "700/700 [==============================] - 3s 4ms/step - loss: 0.2767 - accuracy: 0.8528 - val_loss: 0.3515 - val_accuracy: 0.8178\n",
            "Epoch 32/100\n",
            "700/700 [==============================] - 3s 4ms/step - loss: 0.2751 - accuracy: 0.8487 - val_loss: 0.3672 - val_accuracy: 0.8067\n",
            "Epoch 33/100\n",
            "700/700 [==============================] - 3s 5ms/step - loss: 0.2882 - accuracy: 0.8491 - val_loss: 0.3565 - val_accuracy: 0.8067\n",
            "Epoch 34/100\n",
            "700/700 [==============================] - 3s 4ms/step - loss: 0.2782 - accuracy: 0.8535 - val_loss: 0.3714 - val_accuracy: 0.8042\n",
            "Epoch 35/100\n",
            "700/700 [==============================] - 3s 4ms/step - loss: 0.2799 - accuracy: 0.8475 - val_loss: 0.3558 - val_accuracy: 0.8106\n",
            "Epoch 36/100\n",
            "700/700 [==============================] - 3s 4ms/step - loss: 0.2707 - accuracy: 0.8522 - val_loss: 0.4351 - val_accuracy: 0.7935\n",
            "Epoch 37/100\n",
            "700/700 [==============================] - 3s 4ms/step - loss: 0.2774 - accuracy: 0.8508 - val_loss: 0.3640 - val_accuracy: 0.8053\n",
            "Epoch 38/100\n",
            "700/700 [==============================] - 3s 4ms/step - loss: 0.2744 - accuracy: 0.8533 - val_loss: 0.3416 - val_accuracy: 0.8164\n",
            "Epoch 39/100\n",
            "700/700 [==============================] - 3s 4ms/step - loss: 0.2654 - accuracy: 0.8534 - val_loss: 0.3633 - val_accuracy: 0.8053\n",
            "Epoch 40/100\n",
            "700/700 [==============================] - 3s 4ms/step - loss: 0.2685 - accuracy: 0.8528 - val_loss: 0.3837 - val_accuracy: 0.8110\n",
            "Epoch 41/100\n",
            "700/700 [==============================] - 3s 4ms/step - loss: 0.2763 - accuracy: 0.8537 - val_loss: 0.3894 - val_accuracy: 0.8049\n",
            "Epoch 42/100\n",
            "700/700 [==============================] - 3s 4ms/step - loss: 0.2679 - accuracy: 0.8555 - val_loss: 0.3646 - val_accuracy: 0.8067\n",
            "Epoch 43/100\n",
            "700/700 [==============================] - 3s 4ms/step - loss: 0.2641 - accuracy: 0.8562 - val_loss: 0.3657 - val_accuracy: 0.8071\n",
            "Epoch 44/100\n",
            "700/700 [==============================] - 3s 4ms/step - loss: 0.2651 - accuracy: 0.8530 - val_loss: 0.3486 - val_accuracy: 0.8178\n",
            "Epoch 45/100\n",
            "700/700 [==============================] - 3s 4ms/step - loss: 0.2643 - accuracy: 0.8557 - val_loss: 0.3603 - val_accuracy: 0.8071\n",
            "Epoch 46/100\n",
            "700/700 [==============================] - 3s 4ms/step - loss: 0.2620 - accuracy: 0.8565 - val_loss: 0.3773 - val_accuracy: 0.8014\n",
            "Epoch 47/100\n",
            "700/700 [==============================] - 3s 4ms/step - loss: 0.2621 - accuracy: 0.8551 - val_loss: 0.3803 - val_accuracy: 0.8024\n",
            "Epoch 48/100\n",
            "700/700 [==============================] - 3s 4ms/step - loss: 0.2633 - accuracy: 0.8577 - val_loss: 0.3916 - val_accuracy: 0.8064\n",
            "Epoch 49/100\n",
            "700/700 [==============================] - 3s 4ms/step - loss: 0.2584 - accuracy: 0.8562 - val_loss: 0.3935 - val_accuracy: 0.8078\n",
            "Epoch 50/100\n",
            "700/700 [==============================] - 3s 4ms/step - loss: 0.2604 - accuracy: 0.8585 - val_loss: 0.3641 - val_accuracy: 0.8085\n",
            "Epoch 51/100\n",
            "700/700 [==============================] - 3s 4ms/step - loss: 0.2622 - accuracy: 0.8577 - val_loss: 0.3570 - val_accuracy: 0.8053\n",
            "Epoch 52/100\n",
            "700/700 [==============================] - 3s 4ms/step - loss: 0.2561 - accuracy: 0.8587 - val_loss: 0.3584 - val_accuracy: 0.8135\n",
            "Epoch 53/100\n",
            "700/700 [==============================] - 3s 4ms/step - loss: 0.2599 - accuracy: 0.8604 - val_loss: 0.3973 - val_accuracy: 0.7992\n",
            "Epoch 54/100\n",
            "700/700 [==============================] - 3s 4ms/step - loss: 0.2543 - accuracy: 0.8623 - val_loss: 0.3928 - val_accuracy: 0.8114\n",
            "Epoch 55/100\n",
            "700/700 [==============================] - 3s 4ms/step - loss: 0.2522 - accuracy: 0.8617 - val_loss: 0.3931 - val_accuracy: 0.8064\n",
            "Epoch 56/100\n",
            "700/700 [==============================] - 3s 4ms/step - loss: 0.2499 - accuracy: 0.8615 - val_loss: 0.3536 - val_accuracy: 0.8160\n",
            "Epoch 57/100\n",
            "700/700 [==============================] - 3s 4ms/step - loss: 0.2527 - accuracy: 0.8608 - val_loss: 0.4070 - val_accuracy: 0.8106\n",
            "Epoch 58/100\n",
            "700/700 [==============================] - 3s 4ms/step - loss: 0.2568 - accuracy: 0.8629 - val_loss: 0.3925 - val_accuracy: 0.8092\n",
            "Epoch 59/100\n",
            "700/700 [==============================] - 3s 4ms/step - loss: 0.2448 - accuracy: 0.8638 - val_loss: 0.4423 - val_accuracy: 0.8139\n",
            "Epoch 60/100\n",
            "700/700 [==============================] - 3s 4ms/step - loss: 0.2485 - accuracy: 0.8626 - val_loss: 0.4271 - val_accuracy: 0.8128\n",
            "Epoch 61/100\n",
            "700/700 [==============================] - 3s 4ms/step - loss: 0.2524 - accuracy: 0.8630 - val_loss: 0.4055 - val_accuracy: 0.7992\n",
            "Epoch 62/100\n",
            "700/700 [==============================] - 3s 4ms/step - loss: 0.2487 - accuracy: 0.8650 - val_loss: 0.3882 - val_accuracy: 0.8131\n",
            "Epoch 63/100\n",
            "700/700 [==============================] - 3s 4ms/step - loss: 0.2451 - accuracy: 0.8651 - val_loss: 0.3976 - val_accuracy: 0.8089\n",
            "Epoch 64/100\n",
            "700/700 [==============================] - 3s 4ms/step - loss: 0.2530 - accuracy: 0.8630 - val_loss: 0.4099 - val_accuracy: 0.8071\n",
            "Epoch 65/100\n",
            "700/700 [==============================] - 3s 4ms/step - loss: 0.2496 - accuracy: 0.8646 - val_loss: 0.4333 - val_accuracy: 0.8071\n",
            "Epoch 66/100\n",
            "700/700 [==============================] - 3s 4ms/step - loss: 0.2415 - accuracy: 0.8676 - val_loss: 0.4426 - val_accuracy: 0.8171\n",
            "Epoch 67/100\n",
            "700/700 [==============================] - 3s 4ms/step - loss: 0.2455 - accuracy: 0.8663 - val_loss: 0.4332 - val_accuracy: 0.8099\n",
            "Epoch 68/100\n",
            "700/700 [==============================] - 3s 4ms/step - loss: 0.2480 - accuracy: 0.8670 - val_loss: 0.3991 - val_accuracy: 0.8049\n",
            "Epoch 69/100\n",
            "700/700 [==============================] - 3s 4ms/step - loss: 0.2378 - accuracy: 0.8649 - val_loss: 0.4694 - val_accuracy: 0.8056\n",
            "Epoch 70/100\n",
            "700/700 [==============================] - 3s 4ms/step - loss: 0.2395 - accuracy: 0.8698 - val_loss: 0.4486 - val_accuracy: 0.8071\n",
            "Epoch 71/100\n",
            "700/700 [==============================] - 3s 4ms/step - loss: 0.2413 - accuracy: 0.8665 - val_loss: 0.4720 - val_accuracy: 0.8042\n",
            "Epoch 72/100\n",
            "700/700 [==============================] - 3s 4ms/step - loss: 0.2400 - accuracy: 0.8677 - val_loss: 0.4707 - val_accuracy: 0.8049\n",
            "Epoch 73/100\n",
            "700/700 [==============================] - 3s 4ms/step - loss: 0.2454 - accuracy: 0.8671 - val_loss: 0.5086 - val_accuracy: 0.8139\n",
            "Epoch 74/100\n",
            "700/700 [==============================] - 3s 4ms/step - loss: 0.2360 - accuracy: 0.8712 - val_loss: 0.5112 - val_accuracy: 0.7992\n",
            "Epoch 75/100\n",
            "700/700 [==============================] - 3s 4ms/step - loss: 0.2379 - accuracy: 0.8694 - val_loss: 0.5593 - val_accuracy: 0.7985\n",
            "Epoch 76/100\n",
            "700/700 [==============================] - 3s 5ms/step - loss: 0.2483 - accuracy: 0.8650 - val_loss: 0.4477 - val_accuracy: 0.8074\n",
            "Epoch 77/100\n",
            "700/700 [==============================] - 3s 4ms/step - loss: 0.2379 - accuracy: 0.8703 - val_loss: 0.4998 - val_accuracy: 0.8056\n",
            "Epoch 78/100\n",
            "700/700 [==============================] - 3s 4ms/step - loss: 0.2359 - accuracy: 0.8712 - val_loss: 0.4838 - val_accuracy: 0.8021\n",
            "Epoch 79/100\n",
            "700/700 [==============================] - 3s 4ms/step - loss: 0.2420 - accuracy: 0.8698 - val_loss: 0.4208 - val_accuracy: 0.8131\n",
            "Epoch 80/100\n",
            "700/700 [==============================] - 3s 4ms/step - loss: 0.2311 - accuracy: 0.8718 - val_loss: 0.4692 - val_accuracy: 0.8039\n",
            "Epoch 81/100\n",
            "700/700 [==============================] - 3s 4ms/step - loss: 0.2401 - accuracy: 0.8703 - val_loss: 0.4528 - val_accuracy: 0.8071\n",
            "Epoch 82/100\n",
            "700/700 [==============================] - 3s 4ms/step - loss: 0.2349 - accuracy: 0.8728 - val_loss: 0.4797 - val_accuracy: 0.7989\n",
            "Epoch 83/100\n",
            "700/700 [==============================] - 3s 4ms/step - loss: 0.2282 - accuracy: 0.8725 - val_loss: 0.5660 - val_accuracy: 0.8085\n",
            "Epoch 84/100\n",
            "700/700 [==============================] - 3s 4ms/step - loss: 0.2348 - accuracy: 0.8722 - val_loss: 0.4452 - val_accuracy: 0.8053\n",
            "Epoch 85/100\n",
            "700/700 [==============================] - 3s 4ms/step - loss: 0.2351 - accuracy: 0.8724 - val_loss: 0.4507 - val_accuracy: 0.8067\n",
            "Epoch 86/100\n",
            "700/700 [==============================] - 3s 4ms/step - loss: 0.2340 - accuracy: 0.8718 - val_loss: 0.5243 - val_accuracy: 0.8039\n",
            "Epoch 87/100\n",
            "700/700 [==============================] - 3s 4ms/step - loss: 0.2391 - accuracy: 0.8705 - val_loss: 0.5164 - val_accuracy: 0.8021\n",
            "Epoch 88/100\n",
            "700/700 [==============================] - 3s 4ms/step - loss: 0.2332 - accuracy: 0.8731 - val_loss: 0.5293 - val_accuracy: 0.8053\n",
            "Epoch 89/100\n",
            "700/700 [==============================] - 3s 4ms/step - loss: 0.2275 - accuracy: 0.8722 - val_loss: 0.5443 - val_accuracy: 0.8042\n",
            "Epoch 90/100\n",
            "700/700 [==============================] - 3s 4ms/step - loss: 0.2277 - accuracy: 0.8761 - val_loss: 0.5127 - val_accuracy: 0.7946\n",
            "Epoch 91/100\n",
            "700/700 [==============================] - 3s 4ms/step - loss: 0.2379 - accuracy: 0.8718 - val_loss: 0.5120 - val_accuracy: 0.8031\n",
            "Epoch 92/100\n",
            "700/700 [==============================] - 3s 4ms/step - loss: 0.2292 - accuracy: 0.8751 - val_loss: 0.4606 - val_accuracy: 0.8017\n",
            "Epoch 93/100\n",
            "700/700 [==============================] - 3s 4ms/step - loss: 0.2339 - accuracy: 0.8728 - val_loss: 0.5045 - val_accuracy: 0.8006\n",
            "Epoch 94/100\n",
            "700/700 [==============================] - 3s 4ms/step - loss: 0.2292 - accuracy: 0.8772 - val_loss: 0.5354 - val_accuracy: 0.7992\n",
            "Epoch 95/100\n",
            "700/700 [==============================] - 3s 4ms/step - loss: 0.2270 - accuracy: 0.8769 - val_loss: 0.5747 - val_accuracy: 0.8006\n",
            "Epoch 96/100\n",
            "700/700 [==============================] - 3s 4ms/step - loss: 0.2292 - accuracy: 0.8762 - val_loss: 0.4950 - val_accuracy: 0.7956\n",
            "Epoch 97/100\n",
            "700/700 [==============================] - 3s 4ms/step - loss: 0.2279 - accuracy: 0.8750 - val_loss: 0.4852 - val_accuracy: 0.8031\n",
            "Epoch 98/100\n",
            "700/700 [==============================] - 3s 4ms/step - loss: 0.2291 - accuracy: 0.8749 - val_loss: 0.6419 - val_accuracy: 0.8003\n",
            "Epoch 99/100\n",
            "700/700 [==============================] - 3s 4ms/step - loss: 0.2319 - accuracy: 0.8755 - val_loss: 0.5337 - val_accuracy: 0.8028\n",
            "Epoch 100/100\n",
            "700/700 [==============================] - 3s 4ms/step - loss: 0.2200 - accuracy: 0.8779 - val_loss: 0.5056 - val_accuracy: 0.8021\n",
            "350/350 [==============================] - 1s 2ms/step\n",
            "88/88 [==============================] - 0s 2ms/step\n"
          ]
        }
      ],
      "source": [
        "# Define the model\n",
        "def create_model():\n",
        "    model = Sequential()\n",
        "    model.add(Dense(512, input_shape=(X_train_scaled.shape[1],), activation='relu'))  # Increased number of neurons\n",
        "    model.add(Dense(512, activation='relu'))  # Added another hidden layer with more neurons\n",
        "    model.add(Dense(256, activation='relu'))  # Added an additional hidden layer\n",
        "    model.add(Dense(128, activation='relu'))  # Added another hidden layer\n",
        "    model.add(Dense(64, activation='relu'))   # Added more hidden layers\n",
        "    model.add(Dense(1, activation='sigmoid'))  # Output layer for binary classification\n",
        "    model.compile(optimizer='adam', loss='binary_crossentropy', metrics=['accuracy'])  # Adam optimizer\n",
        "    return model\n",
        "\n",
        "# Create and train the model\n",
        "ann_model = create_model()\n",
        "history = ann_model.fit(X_train_scaled, y_train, epochs=100, batch_size=16, validation_data=(X_test_scaled, y_test), verbose=1)  # Increased epochs and reduced batch size\n",
        "\n",
        "# Predictions using ANN model\n",
        "y_train_pred = (ann_model.predict(X_train_scaled) > 0.5).astype(\"int32\")\n",
        "y_test_pred = (ann_model.predict(X_test_scaled) > 0.5).astype(\"int32\")\n"
      ]
    },
    {
      "cell_type": "code",
      "execution_count": null,
      "metadata": {
        "colab": {
          "base_uri": "https://localhost:8080/"
        },
        "id": "JVqmaXpURtRh",
        "outputId": "1de5ad08-cbda-4b3a-9cd2-5201e7ac99d2"
      },
      "outputs": [
        {
          "name": "stdout",
          "output_type": "stream",
          "text": [
            "350/350 [==============================] - 1s 2ms/step\n",
            "88/88 [==============================] - 0s 2ms/step\n",
            "Training Accuracy: 88.39453229697132\n",
            "Testing Accuracy: 80.20721686316541\n"
          ]
        }
      ],
      "source": [
        "y_train_pred = (ann_model.predict(X_train_scaled) > 0.5).astype(\"int32\")\n",
        "y_test_pred = (ann_model.predict(X_test_scaled) > 0.5).astype(\"int32\")\n",
        "\n",
        "# Print metrics for ANN model\n",
        "print(\"Training Accuracy:\", accuracy_score(y_train, y_train_pred) * 100)\n",
        "print(\"Testing Accuracy:\", accuracy_score(y_test, y_test_pred) * 100)\n"
      ]
    },
    {
      "cell_type": "code",
      "execution_count": null,
      "metadata": {
        "colab": {
          "base_uri": "https://localhost:8080/",
          "height": 410
        },
        "id": "5um1_4X0Tvqs",
        "outputId": "7602416e-6a6f-440f-883b-f222e8cd6a35"
      },
      "outputs": [
        {
          "data": {
            "image/png": "[encoded data removed]",
            "text/plain": [
              "<Figure size 600x400 with 2 Axes>"
            ]
          },
          "metadata": {},
          "output_type": "display_data"
        }
      ],
      "source": [
        "# Confusion Matrix\n",
        "cm_xgb = confusion_matrix(y_test, y_pred_xgb)\n",
        "plt.figure(figsize=(6, 4))\n",
        "sns.heatmap(cm_xgb, annot=True, fmt='d', cmap='Blues', xticklabels=['Lost', 'Won'], yticklabels=['Lost', 'Won'])\n",
        "plt.title('Confusion Matrix (XGBoost)')\n",
        "plt.xlabel('Predicted')\n",
        "plt.ylabel('Actual')\n",
        "plt.show()\n"
      ]
    },
    {
      "cell_type": "markdown",
      "metadata": {
        "id": "b5P8sd-JV_SA"
      },
      "source": [
        "**`Remark:`** The results obtained using ANN appear to be decent and acceptable."
      ]
    },
    {
      "cell_type": "markdown",
      "metadata": {
        "id": "UsasLd9ta2tk"
      },
      "source": [
        "\n",
        "\n",
        "---\n",
        "\n"
      ]
    },
    {
      "cell_type": "markdown",
      "metadata": {
        "id": "GCu7ZJoMZGHn"
      },
      "source": [
        "## <b>G. Convolutional Neural Network : </b>"
      ]
    },
    {
      "cell_type": "code",
      "execution_count": null,
      "metadata": {
        "colab": {
          "base_uri": "https://localhost:8080/"
        },
        "id": "-jsq1cW3V71N",
        "outputId": "30c983d4-2e48-43f3-a262-b4de9ec8b54e"
      },
      "outputs": [
        {
          "name": "stdout",
          "output_type": "stream",
          "text": [
            "Epoch 1/100\n",
            "700/700 [==============================] - 4s 5ms/step - loss: 0.7005 - accuracy: 0.5079 - val_loss: 0.6925 - val_accuracy: 0.5102\n",
            "Epoch 2/100\n",
            "700/700 [==============================] - 3s 5ms/step - loss: 0.6925 - accuracy: 0.5130 - val_loss: 0.6905 - val_accuracy: 0.5245\n",
            "Epoch 3/100\n",
            "700/700 [==============================] - 3s 5ms/step - loss: 0.6923 - accuracy: 0.5164 - val_loss: 0.6940 - val_accuracy: 0.4816\n",
            "Epoch 4/100\n",
            "700/700 [==============================] - 3s 5ms/step - loss: 0.6923 - accuracy: 0.5184 - val_loss: 0.6890 - val_accuracy: 0.5402\n",
            "Epoch 5/100\n",
            "700/700 [==============================] - 3s 5ms/step - loss: 0.6911 - accuracy: 0.5117 - val_loss: 0.6912 - val_accuracy: 0.5088\n",
            "Epoch 6/100\n",
            "700/700 [==============================] - 3s 5ms/step - loss: 0.6851 - accuracy: 0.5442 - val_loss: 0.6797 - val_accuracy: 0.5570\n",
            "Epoch 7/100\n",
            "700/700 [==============================] - 3s 5ms/step - loss: 0.6736 - accuracy: 0.5663 - val_loss: 0.6723 - val_accuracy: 0.5763\n",
            "Epoch 8/100\n",
            "700/700 [==============================] - 3s 5ms/step - loss: 0.6596 - accuracy: 0.5930 - val_loss: 0.6614 - val_accuracy: 0.5856\n",
            "Epoch 9/100\n",
            "700/700 [==============================] - 3s 5ms/step - loss: 0.6415 - accuracy: 0.6208 - val_loss: 0.6487 - val_accuracy: 0.6045\n",
            "Epoch 10/100\n",
            "700/700 [==============================] - 3s 5ms/step - loss: 0.6213 - accuracy: 0.6407 - val_loss: 0.6185 - val_accuracy: 0.6395\n",
            "Epoch 11/100\n",
            "700/700 [==============================] - 3s 5ms/step - loss: 0.5943 - accuracy: 0.6694 - val_loss: 0.5916 - val_accuracy: 0.6713\n",
            "Epoch 12/100\n",
            "700/700 [==============================] - 3s 5ms/step - loss: 0.5705 - accuracy: 0.6922 - val_loss: 0.5894 - val_accuracy: 0.6870\n",
            "Epoch 13/100\n",
            "700/700 [==============================] - 3s 5ms/step - loss: 0.5398 - accuracy: 0.7174 - val_loss: 0.5763 - val_accuracy: 0.6949\n",
            "Epoch 14/100\n",
            "700/700 [==============================] - 3s 5ms/step - loss: 0.5156 - accuracy: 0.7325 - val_loss: 0.5391 - val_accuracy: 0.7167\n",
            "Epoch 15/100\n",
            "700/700 [==============================] - 3s 5ms/step - loss: 0.4909 - accuracy: 0.7485 - val_loss: 0.5323 - val_accuracy: 0.7285\n",
            "Epoch 16/100\n",
            "700/700 [==============================] - 3s 5ms/step - loss: 0.4725 - accuracy: 0.7607 - val_loss: 0.4929 - val_accuracy: 0.7492\n",
            "Epoch 17/100\n",
            "700/700 [==============================] - 3s 5ms/step - loss: 0.4556 - accuracy: 0.7699 - val_loss: 0.4791 - val_accuracy: 0.7549\n",
            "Epoch 18/100\n",
            "700/700 [==============================] - 3s 5ms/step - loss: 0.4383 - accuracy: 0.7774 - val_loss: 0.4695 - val_accuracy: 0.7492\n",
            "Epoch 19/100\n",
            "700/700 [==============================] - 3s 5ms/step - loss: 0.4226 - accuracy: 0.7836 - val_loss: 0.4903 - val_accuracy: 0.7456\n",
            "Epoch 20/100\n",
            "700/700 [==============================] - 3s 5ms/step - loss: 0.4112 - accuracy: 0.7913 - val_loss: 0.4772 - val_accuracy: 0.7499\n",
            "Epoch 21/100\n",
            "700/700 [==============================] - 3s 5ms/step - loss: 0.4007 - accuracy: 0.7907 - val_loss: 0.4719 - val_accuracy: 0.7506\n",
            "Epoch 22/100\n",
            "700/700 [==============================] - 3s 5ms/step - loss: 0.3893 - accuracy: 0.7992 - val_loss: 0.4799 - val_accuracy: 0.7542\n",
            "Epoch 23/100\n",
            "700/700 [==============================] - 3s 5ms/step - loss: 0.3836 - accuracy: 0.8040 - val_loss: 0.4279 - val_accuracy: 0.7788\n",
            "Epoch 24/100\n",
            "700/700 [==============================] - 3s 5ms/step - loss: 0.3702 - accuracy: 0.8090 - val_loss: 0.4136 - val_accuracy: 0.7978\n",
            "Epoch 25/100\n",
            "700/700 [==============================] - 3s 5ms/step - loss: 0.3667 - accuracy: 0.8111 - val_loss: 0.4393 - val_accuracy: 0.7756\n",
            "Epoch 26/100\n",
            "700/700 [==============================] - 3s 5ms/step - loss: 0.3609 - accuracy: 0.8154 - val_loss: 0.4237 - val_accuracy: 0.7806\n",
            "Epoch 27/100\n",
            "700/700 [==============================] - 3s 5ms/step - loss: 0.3509 - accuracy: 0.8215 - val_loss: 0.4065 - val_accuracy: 0.7939\n",
            "Epoch 28/100\n",
            "700/700 [==============================] - 3s 5ms/step - loss: 0.3452 - accuracy: 0.8227 - val_loss: 0.3974 - val_accuracy: 0.7946\n",
            "Epoch 29/100\n",
            "700/700 [==============================] - 3s 5ms/step - loss: 0.3386 - accuracy: 0.8254 - val_loss: 0.4405 - val_accuracy: 0.7756\n",
            "Epoch 30/100\n",
            "700/700 [==============================] - 3s 5ms/step - loss: 0.3393 - accuracy: 0.8279 - val_loss: 0.4500 - val_accuracy: 0.7867\n",
            "Epoch 31/100\n",
            "700/700 [==============================] - 3s 5ms/step - loss: 0.3350 - accuracy: 0.8292 - val_loss: 0.4175 - val_accuracy: 0.7839\n",
            "Epoch 32/100\n",
            "700/700 [==============================] - 3s 5ms/step - loss: 0.3301 - accuracy: 0.8314 - val_loss: 0.4015 - val_accuracy: 0.8039\n",
            "Epoch 33/100\n",
            "700/700 [==============================] - 3s 5ms/step - loss: 0.3242 - accuracy: 0.8386 - val_loss: 0.3989 - val_accuracy: 0.7892\n",
            "Epoch 34/100\n",
            "700/700 [==============================] - 3s 5ms/step - loss: 0.3185 - accuracy: 0.8345 - val_loss: 0.4141 - val_accuracy: 0.7949\n",
            "Epoch 35/100\n",
            "700/700 [==============================] - 3s 5ms/step - loss: 0.3157 - accuracy: 0.8370 - val_loss: 0.3840 - val_accuracy: 0.7974\n",
            "Epoch 36/100\n",
            "700/700 [==============================] - 3s 5ms/step - loss: 0.3168 - accuracy: 0.8389 - val_loss: 0.4055 - val_accuracy: 0.7981\n",
            "Epoch 37/100\n",
            "700/700 [==============================] - 3s 5ms/step - loss: 0.3127 - accuracy: 0.8363 - val_loss: 0.4002 - val_accuracy: 0.7814\n",
            "Epoch 38/100\n",
            "700/700 [==============================] - 3s 5ms/step - loss: 0.3074 - accuracy: 0.8416 - val_loss: 0.4129 - val_accuracy: 0.7889\n",
            "Epoch 39/100\n",
            "700/700 [==============================] - 3s 5ms/step - loss: 0.3083 - accuracy: 0.8364 - val_loss: 0.4020 - val_accuracy: 0.8031\n",
            "Epoch 40/100\n",
            "700/700 [==============================] - 3s 5ms/step - loss: 0.3014 - accuracy: 0.8443 - val_loss: 0.4178 - val_accuracy: 0.7892\n",
            "Epoch 41/100\n",
            "700/700 [==============================] - 3s 5ms/step - loss: 0.3042 - accuracy: 0.8415 - val_loss: 0.3966 - val_accuracy: 0.7999\n",
            "Epoch 42/100\n",
            "700/700 [==============================] - 3s 5ms/step - loss: 0.2996 - accuracy: 0.8454 - val_loss: 0.3805 - val_accuracy: 0.8024\n",
            "Epoch 43/100\n",
            "700/700 [==============================] - 3s 5ms/step - loss: 0.2924 - accuracy: 0.8475 - val_loss: 0.3888 - val_accuracy: 0.8024\n",
            "Epoch 44/100\n",
            "700/700 [==============================] - 3s 5ms/step - loss: 0.2953 - accuracy: 0.8464 - val_loss: 0.3808 - val_accuracy: 0.8042\n",
            "Epoch 45/100\n",
            "700/700 [==============================] - 3s 5ms/step - loss: 0.2909 - accuracy: 0.8470 - val_loss: 0.3835 - val_accuracy: 0.7989\n",
            "Epoch 46/100\n",
            "700/700 [==============================] - 3s 5ms/step - loss: 0.2887 - accuracy: 0.8502 - val_loss: 0.3861 - val_accuracy: 0.7992\n",
            "Epoch 47/100\n",
            "700/700 [==============================] - 3s 5ms/step - loss: 0.2925 - accuracy: 0.8458 - val_loss: 0.3854 - val_accuracy: 0.8085\n",
            "Epoch 48/100\n",
            "700/700 [==============================] - 3s 5ms/step - loss: 0.2870 - accuracy: 0.8513 - val_loss: 0.3849 - val_accuracy: 0.8056\n",
            "Epoch 49/100\n",
            "700/700 [==============================] - 3s 5ms/step - loss: 0.2822 - accuracy: 0.8527 - val_loss: 0.4054 - val_accuracy: 0.8035\n",
            "Epoch 50/100\n",
            "700/700 [==============================] - 3s 5ms/step - loss: 0.2887 - accuracy: 0.8510 - val_loss: 0.3804 - val_accuracy: 0.8078\n",
            "Epoch 51/100\n",
            "700/700 [==============================] - 3s 5ms/step - loss: 0.2776 - accuracy: 0.8544 - val_loss: 0.3772 - val_accuracy: 0.8092\n",
            "Epoch 52/100\n",
            "700/700 [==============================] - 3s 5ms/step - loss: 0.2780 - accuracy: 0.8527 - val_loss: 0.3965 - val_accuracy: 0.7981\n",
            "Epoch 53/100\n",
            "700/700 [==============================] - 3s 5ms/step - loss: 0.2819 - accuracy: 0.8538 - val_loss: 0.4119 - val_accuracy: 0.7935\n",
            "Epoch 54/100\n",
            "700/700 [==============================] - 3s 5ms/step - loss: 0.2777 - accuracy: 0.8524 - val_loss: 0.4006 - val_accuracy: 0.7942\n",
            "Epoch 55/100\n",
            "700/700 [==============================] - 3s 5ms/step - loss: 0.2758 - accuracy: 0.8557 - val_loss: 0.3773 - val_accuracy: 0.8056\n",
            "Epoch 56/100\n",
            "700/700 [==============================] - 3s 5ms/step - loss: 0.2752 - accuracy: 0.8571 - val_loss: 0.3999 - val_accuracy: 0.8060\n",
            "Epoch 57/100\n",
            "700/700 [==============================] - 3s 5ms/step - loss: 0.2737 - accuracy: 0.8557 - val_loss: 0.3768 - val_accuracy: 0.8053\n",
            "Epoch 58/100\n",
            "700/700 [==============================] - 3s 5ms/step - loss: 0.2700 - accuracy: 0.8605 - val_loss: 0.3808 - val_accuracy: 0.8099\n",
            "Epoch 59/100\n",
            "700/700 [==============================] - 3s 5ms/step - loss: 0.2751 - accuracy: 0.8580 - val_loss: 0.4184 - val_accuracy: 0.8014\n",
            "Epoch 60/100\n",
            "700/700 [==============================] - 3s 5ms/step - loss: 0.2696 - accuracy: 0.8588 - val_loss: 0.3797 - val_accuracy: 0.8103\n",
            "Epoch 61/100\n",
            "700/700 [==============================] - 3s 5ms/step - loss: 0.2675 - accuracy: 0.8596 - val_loss: 0.3845 - val_accuracy: 0.8039\n",
            "Epoch 62/100\n",
            "700/700 [==============================] - 3s 5ms/step - loss: 0.2751 - accuracy: 0.8604 - val_loss: 0.3971 - val_accuracy: 0.8074\n",
            "Epoch 63/100\n",
            "700/700 [==============================] - 3s 5ms/step - loss: 0.2678 - accuracy: 0.8605 - val_loss: 0.4054 - val_accuracy: 0.8028\n",
            "Epoch 64/100\n",
            "700/700 [==============================] - 3s 5ms/step - loss: 0.2611 - accuracy: 0.8606 - val_loss: 0.3891 - val_accuracy: 0.7971\n",
            "Epoch 65/100\n",
            "700/700 [==============================] - 3s 5ms/step - loss: 0.2642 - accuracy: 0.8621 - val_loss: 0.4161 - val_accuracy: 0.8042\n",
            "Epoch 66/100\n",
            "700/700 [==============================] - 3s 5ms/step - loss: 0.2627 - accuracy: 0.8626 - val_loss: 0.3900 - val_accuracy: 0.8053\n",
            "Epoch 67/100\n",
            "700/700 [==============================] - 3s 5ms/step - loss: 0.2645 - accuracy: 0.8653 - val_loss: 0.3830 - val_accuracy: 0.8042\n",
            "Epoch 68/100\n",
            "700/700 [==============================] - 3s 5ms/step - loss: 0.2664 - accuracy: 0.8608 - val_loss: 0.3885 - val_accuracy: 0.8010\n",
            "Epoch 69/100\n",
            "700/700 [==============================] - 3s 5ms/step - loss: 0.2576 - accuracy: 0.8655 - val_loss: 0.4091 - val_accuracy: 0.8056\n",
            "Epoch 70/100\n",
            "700/700 [==============================] - 3s 5ms/step - loss: 0.2612 - accuracy: 0.8612 - val_loss: 0.3968 - val_accuracy: 0.8056\n",
            "Epoch 71/100\n",
            "700/700 [==============================] - 3s 5ms/step - loss: 0.2626 - accuracy: 0.8579 - val_loss: 0.4101 - val_accuracy: 0.7971\n",
            "Epoch 72/100\n",
            "700/700 [==============================] - 3s 5ms/step - loss: 0.2575 - accuracy: 0.8618 - val_loss: 0.4090 - val_accuracy: 0.8121\n",
            "Epoch 73/100\n",
            "700/700 [==============================] - 3s 5ms/step - loss: 0.2521 - accuracy: 0.8654 - val_loss: 0.3992 - val_accuracy: 0.8135\n",
            "Epoch 74/100\n",
            "700/700 [==============================] - 3s 5ms/step - loss: 0.2623 - accuracy: 0.8644 - val_loss: 0.4360 - val_accuracy: 0.7914\n",
            "Epoch 75/100\n",
            "700/700 [==============================] - 3s 5ms/step - loss: 0.2582 - accuracy: 0.8648 - val_loss: 0.3933 - val_accuracy: 0.8074\n",
            "Epoch 76/100\n",
            "700/700 [==============================] - 3s 5ms/step - loss: 0.2536 - accuracy: 0.8661 - val_loss: 0.4043 - val_accuracy: 0.8064\n",
            "Epoch 77/100\n",
            "700/700 [==============================] - 3s 5ms/step - loss: 0.2602 - accuracy: 0.8628 - val_loss: 0.3859 - val_accuracy: 0.8160\n",
            "Epoch 78/100\n",
            "700/700 [==============================] - 3s 5ms/step - loss: 0.2509 - accuracy: 0.8675 - val_loss: 0.3963 - val_accuracy: 0.8074\n",
            "Epoch 79/100\n",
            "700/700 [==============================] - 3s 5ms/step - loss: 0.2557 - accuracy: 0.8663 - val_loss: 0.3923 - val_accuracy: 0.8071\n",
            "Epoch 80/100\n",
            "700/700 [==============================] - 3s 5ms/step - loss: 0.2513 - accuracy: 0.8692 - val_loss: 0.4100 - val_accuracy: 0.7989\n",
            "Epoch 81/100\n",
            "700/700 [==============================] - 3s 5ms/step - loss: 0.2505 - accuracy: 0.8674 - val_loss: 0.4072 - val_accuracy: 0.8135\n",
            "Epoch 82/100\n",
            "700/700 [==============================] - 3s 5ms/step - loss: 0.2479 - accuracy: 0.8670 - val_loss: 0.3982 - val_accuracy: 0.8024\n",
            "Epoch 83/100\n",
            "700/700 [==============================] - 3s 5ms/step - loss: 0.2514 - accuracy: 0.8681 - val_loss: 0.3904 - val_accuracy: 0.8067\n",
            "Epoch 84/100\n",
            "700/700 [==============================] - 3s 5ms/step - loss: 0.2522 - accuracy: 0.8666 - val_loss: 0.4040 - val_accuracy: 0.8081\n",
            "Epoch 85/100\n",
            "700/700 [==============================] - 3s 5ms/step - loss: 0.2507 - accuracy: 0.8687 - val_loss: 0.3958 - val_accuracy: 0.8078\n",
            "Epoch 86/100\n",
            "700/700 [==============================] - 3s 5ms/step - loss: 0.2494 - accuracy: 0.8680 - val_loss: 0.3961 - val_accuracy: 0.8139\n",
            "Epoch 87/100\n",
            "700/700 [==============================] - 3s 5ms/step - loss: 0.2444 - accuracy: 0.8715 - val_loss: 0.3902 - val_accuracy: 0.8117\n",
            "Epoch 88/100\n",
            "700/700 [==============================] - 3s 5ms/step - loss: 0.2449 - accuracy: 0.8682 - val_loss: 0.3979 - val_accuracy: 0.8131\n",
            "Epoch 89/100\n",
            "700/700 [==============================] - 3s 5ms/step - loss: 0.2454 - accuracy: 0.8694 - val_loss: 0.4201 - val_accuracy: 0.8046\n",
            "Epoch 90/100\n",
            "700/700 [==============================] - 3s 5ms/step - loss: 0.2458 - accuracy: 0.8662 - val_loss: 0.3918 - val_accuracy: 0.8028\n",
            "Epoch 91/100\n",
            "700/700 [==============================] - 3s 5ms/step - loss: 0.2446 - accuracy: 0.8699 - val_loss: 0.4237 - val_accuracy: 0.7996\n",
            "Epoch 92/100\n",
            "700/700 [==============================] - 3s 5ms/step - loss: 0.2455 - accuracy: 0.8688 - val_loss: 0.4267 - val_accuracy: 0.8014\n",
            "Epoch 93/100\n",
            "700/700 [==============================] - 3s 5ms/step - loss: 0.2518 - accuracy: 0.8702 - val_loss: 0.4023 - val_accuracy: 0.8060\n",
            "Epoch 94/100\n",
            "700/700 [==============================] - 3s 5ms/step - loss: 0.2411 - accuracy: 0.8709 - val_loss: 0.3808 - val_accuracy: 0.8081\n",
            "Epoch 95/100\n",
            "700/700 [==============================] - 3s 5ms/step - loss: 0.2414 - accuracy: 0.8734 - val_loss: 0.3892 - val_accuracy: 0.8142\n",
            "Epoch 96/100\n",
            "700/700 [==============================] - 3s 5ms/step - loss: 0.2391 - accuracy: 0.8754 - val_loss: 0.4139 - val_accuracy: 0.8142\n",
            "Epoch 97/100\n",
            "700/700 [==============================] - 3s 5ms/step - loss: 0.2377 - accuracy: 0.8723 - val_loss: 0.4747 - val_accuracy: 0.7978\n",
            "Epoch 98/100\n",
            "700/700 [==============================] - 3s 5ms/step - loss: 0.2421 - accuracy: 0.8672 - val_loss: 0.4106 - val_accuracy: 0.8092\n",
            "Epoch 99/100\n",
            "700/700 [==============================] - 3s 5ms/step - loss: 0.2458 - accuracy: 0.8697 - val_loss: 0.4194 - val_accuracy: 0.7999\n",
            "Epoch 100/100\n",
            "700/700 [==============================] - 3s 5ms/step - loss: 0.2394 - accuracy: 0.8711 - val_loss: 0.4120 - val_accuracy: 0.8078\n",
            "350/350 [==============================] - 1s 2ms/step - loss: 0.2152 - accuracy: 0.8850\n",
            "88/88 [==============================] - 0s 2ms/step - loss: 0.4120 - accuracy: 0.8078\n"
          ]
        }
      ],
      "source": [
        "X_train_scaled = X_train_scaled.reshape(X_train_scaled.shape[0], X_train_scaled.shape[1], 1)\n",
        "X_test_scaled = X_test_scaled.reshape(X_test_scaled.shape[0], X_test_scaled.shape[1], 1)\n",
        "\n",
        "def create_cnn_model():\n",
        "    model = Sequential()\n",
        "    model.add(Conv1D(64, kernel_size=3, activation='relu', input_shape=(X_train.shape[1], 1)))  # First Conv layer\n",
        "    model.add(Conv1D(128, kernel_size=3, activation='relu'))  # Second Conv layer\n",
        "    model.add(Conv1D(256, kernel_size=3, activation='relu'))  # Third Conv layer\n",
        "    model.add(Flatten())  # Flatten the output from Conv layers\n",
        "    model.add(Dense(128, activation='relu'))  # Dense layer\n",
        "    model.add(Dense(1, activation='sigmoid'))  # Output layer for binary classification\n",
        "    model.compile(optimizer='adam', loss='binary_crossentropy', metrics=['accuracy'])  # Adam optimizer\n",
        "    return model\n",
        "\n",
        "# Create and train the model\n",
        "cnn_model = create_cnn_model()\n",
        "history = cnn_model.fit(X_train, y_train, epochs=100, batch_size=16, validation_data=(X_test, y_test), verbose=1)\n",
        "\n",
        "# Evaluate the model\n",
        "train_loss, train_accuracy = cnn_model.evaluate(X_train, y_train)\n",
        "test_loss, test_accuracy = cnn_model.evaluate(X_test, y_test)"
      ]
    },
    {
      "cell_type": "code",
      "execution_count": null,
      "metadata": {
        "colab": {
          "base_uri": "https://localhost:8080/"
        },
        "id": "ZNmZ5VGsXnQu",
        "outputId": "ded3685b-9e5c-42e6-89e2-82cb70eb3ca1"
      },
      "outputs": [
        {
          "name": "stdout",
          "output_type": "stream",
          "text": [
            "350/350 [==============================] - 1s 2ms/step\n",
            "88/88 [==============================] - 0s 2ms/step\n",
            "Training Loss: 0.2151809185743332\n",
            "Training Accuracy: 88.50173950195312\n",
            "Training Precision: 0.8618022864828514\n",
            "Training Recall: 0.9168306206403148\n",
            "Training F1 Score: 0.888465204957102\n",
            "Training Confusion Matrix:\n",
            " [[4780  822]\n",
            " [ 465 5126]]\n",
            "\n",
            "Testing Loss: 0.41204312443733215\n",
            "Testing Accuracy: 80.77884912490845\n",
            "Testing Precision: 0.7786052809749492\n",
            "Testing Recall: 0.8449669360764144\n",
            "Testing F1 Score: 0.8104298801973221\n",
            "Testing Confusion Matrix:\n",
            " [[1111  327]\n",
            " [ 211 1150]]\n"
          ]
        }
      ],
      "source": [
        "# Evaluate the model on training and testing data\n",
        "train_loss, train_accuracy = cnn_model.evaluate(X_train, y_train, verbose=0)\n",
        "test_loss, test_accuracy = cnn_model.evaluate(X_test, y_test, verbose=0)\n",
        "\n",
        "# Make predictions on the training and testing data\n",
        "y_train_pred = (cnn_model.predict(X_train) > 0.5).astype(\"int32\")\n",
        "y_test_pred = (cnn_model.predict(X_test) > 0.5).astype(\"int32\")\n",
        "\n",
        "# Calculate additional performance metrics\n",
        "train_precision = precision_score(y_train, y_train_pred)\n",
        "test_precision = precision_score(y_test, y_test_pred)\n",
        "\n",
        "train_recall = recall_score(y_train, y_train_pred)\n",
        "test_recall = recall_score(y_test, y_test_pred)\n",
        "\n",
        "train_f1 = f1_score(y_train, y_train_pred)\n",
        "test_f1 = f1_score(y_test, y_test_pred)\n",
        "\n",
        "# Calculate confusion matrices\n",
        "train_confusion = confusion_matrix(y_train, y_train_pred)\n",
        "test_confusion = confusion_matrix(y_test, y_test_pred)\n",
        "\n",
        "# Print the results\n",
        "print(\"Training Loss:\", train_loss)\n",
        "print(\"Training Accuracy:\", train_accuracy * 100)\n",
        "print(\"Training Precision:\", train_precision)\n",
        "print(\"Training Recall:\", train_recall)\n",
        "print(\"Training F1 Score:\", train_f1)\n",
        "print(\"Training Confusion Matrix:\\n\", train_confusion)\n",
        "\n",
        "print(\"\\nTesting Loss:\", test_loss)\n",
        "print(\"Testing Accuracy:\", test_accuracy * 100)\n",
        "print(\"Testing Precision:\", test_precision)\n",
        "print(\"Testing Recall:\", test_recall)\n",
        "print(\"Testing F1 Score:\", test_f1)\n",
        "print(\"Testing Confusion Matrix:\\n\", test_confusion)"
      ]
    },
    {
      "cell_type": "code",
      "execution_count": null,
      "metadata": {
        "colab": {
          "base_uri": "https://localhost:8080/",
          "height": 410
        },
        "id": "KSVeQ3zrag8e",
        "outputId": "4cfb4bba-b191-4ecd-fe42-34677c3329b1"
      },
      "outputs": [
        {
          "data": {
            "image/png": "[encoded data removed]",
            "text/plain": [
              "<Figure size 600x400 with 2 Axes>"
            ]
          },
          "metadata": {},
          "output_type": "display_data"
        }
      ],
      "source": [
        "# Confusion Matrix\n",
        "cm_xgb = confusion_matrix(y_test, y_test_pred)\n",
        "plt.figure(figsize=(6, 4))\n",
        "sns.heatmap(cm_xgb, annot=True, fmt='d', cmap='Blues', xticklabels=['Lost', 'Won'], yticklabels=['Lost', 'Won'])\n",
        "plt.title('Confusion Matrix (XGBoost)')\n",
        "plt.xlabel('Predicted')\n",
        "plt.ylabel('Actual')\n",
        "plt.show()\n"
      ]
    },
    {
      "cell_type": "markdown",
      "metadata": {
        "id": "UBRwmQQ2a5jj"
      },
      "source": [
        "**`Remark:`** The results obtained using CNN appear to be decent and acceptable. The obtained results suggest that the model is neither overfit nor underfit. Therefore, can be chosen for the task."
      ]
    },
    {
      "cell_type": "markdown",
      "metadata": {
        "id": "H2ldZJbra1Rt"
      },
      "source": [
        "\n",
        "\n",
        "---\n",
        "\n",
        "\n",
        "\n",
        "\n",
        "\n"
      ]
    },
    {
      "cell_type": "markdown",
      "metadata": {
        "id": "CV-fOF7GTjVM"
      },
      "source": [
        "# **5. Visualization of the obtained results:**"
      ]
    },
    {
      "cell_type": "markdown",
      "metadata": {
        "id": "eiiboSEhT5Kn"
      },
      "source": [
        "## ***Plotting to depict the importance given by the chosen model to each feature.***"
      ]
    },
    {
      "cell_type": "code",
      "execution_count": null,
      "metadata": {
        "colab": {
          "base_uri": "https://localhost:8080/",
          "height": 211
        },
        "id": "iQbSXlqyTw0d",
        "outputId": "9cb3d36a-36fb-4b15-c8c9-4ac4665674df"
      },
      "outputs": [
        {
          "ename": "NameError",
          "evalue": "name 'model' is not defined",
          "output_type": "error",
          "traceback": [
            "\u001b[0;31m---------------------------------------------------------------------------\u001b[0m",
            "\u001b[0;31mNameError\u001b[0m                                 Traceback (most recent call last)",
            "\u001b[0;32m<ipython-input-1-a5a030c5f9ac>\u001b[0m in \u001b[0;36m<cell line: 1>\u001b[0;34m()\u001b[0m\n\u001b[0;32m----> 1\u001b[0;31m \u001b[0mimportances\u001b[0m \u001b[0;34m=\u001b[0m \u001b[0mmodel\u001b[0m\u001b[0;34m.\u001b[0m\u001b[0mfeature_importances_\u001b[0m\u001b[0;34m\u001b[0m\u001b[0;34m\u001b[0m\u001b[0m\n\u001b[0m\u001b[1;32m      2\u001b[0m \u001b[0mfeature_names\u001b[0m \u001b[0;34m=\u001b[0m \u001b[0mX\u001b[0m\u001b[0;34m.\u001b[0m\u001b[0mcolumns\u001b[0m\u001b[0;34m\u001b[0m\u001b[0;34m\u001b[0m\u001b[0m\n\u001b[1;32m      3\u001b[0m \u001b[0mfeature_importance_df\u001b[0m \u001b[0;34m=\u001b[0m \u001b[0mpd\u001b[0m\u001b[0;34m.\u001b[0m\u001b[0mDataFrame\u001b[0m\u001b[0;34m(\u001b[0m\u001b[0;34m{\u001b[0m\u001b[0;34m'Feature'\u001b[0m\u001b[0;34m:\u001b[0m \u001b[0mfeature_names\u001b[0m\u001b[0;34m,\u001b[0m \u001b[0;34m'Importance'\u001b[0m\u001b[0;34m:\u001b[0m \u001b[0mimportances\u001b[0m\u001b[0;34m}\u001b[0m\u001b[0;34m)\u001b[0m\u001b[0;34m\u001b[0m\u001b[0;34m\u001b[0m\u001b[0m\n\u001b[1;32m      4\u001b[0m \u001b[0;34m\u001b[0m\u001b[0m\n\u001b[1;32m      5\u001b[0m \u001b[0;31m# Sort and plot feature importance\u001b[0m\u001b[0;34m\u001b[0m\u001b[0;34m\u001b[0m\u001b[0m\n",
            "\u001b[0;31mNameError\u001b[0m: name 'model' is not defined"
          ]
        }
      ],
      "source": [
        "importances = model.feature_importances_\n",
        "feature_names = X.columns\n",
        "feature_importance_df = pd.DataFrame({'Feature': feature_names, 'Importance': importances})\n",
        "\n",
        "# Sort and plot feature importance\n",
        "feature_importance_df = feature_importance_df.sort_values(by='Importance', ascending=False)\n",
        "plt.figure(figsize=(10, 6))\n",
        "sns.barplot(x='Importance', y='Feature', data=feature_importance_df)\n",
        "plt.title('Feature Importance After Dropping Irrelevant Features')\n",
        "plt.show()"
      ]
    }
  ],
  "metadata": {
    "accelerator": "TPU",
    "colab": {
      "gpuType": "V28",
      "provenance": []
    },
    "kernelspec": {
      "display_name": "Python 3",
      "name": "python3"
    },
    "language_info": {
      "name": "python"
    }
  },
  "nbformat": 4,
  "nbformat_minor": 0
}
