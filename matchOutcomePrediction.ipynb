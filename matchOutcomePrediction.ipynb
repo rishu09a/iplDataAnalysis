{
 "cells": [
  {
   "cell_type": "markdown",
   "metadata": {
    "id": "K9Fzq63QenTZ"
   },
   "source": [
    "\n",
    "\n",
    "---\n",
    "\n"
   ]
  },
  {
   "cell_type": "markdown",
   "metadata": {
    "id": "gkHXHWnHetI6"
   },
   "source": [
    "<center>\n",
    "  <b><font size=\"+3\">IPL Match Outcome Prediction</font></b>\n",
    "</center>\n"
   ]
  },
  {
   "cell_type": "markdown",
   "metadata": {
    "id": "vVf7BpeXdiwQ"
   },
   "source": [
    "\n",
    "\n",
    "---\n",
    "\n"
   ]
  },
  {
   "cell_type": "markdown",
   "metadata": {
    "id": "ZvyXEA26w1Li",
    "jp-MarkdownHeadingCollapsed": true
   },
   "source": [
    "# (1) Importing the necessary libraries for the following :\n",
    "- File uploads\n",
    "- Data manipulation\n",
    "- Data splitting\n",
    "- Preprocessing\n",
    "- Model building\n",
    "- Accuracy evaluation.\n"
   ]
  },
  {
   "cell_type": "code",
   "execution_count": 1,
   "metadata": {
    "id": "e00y7gpCw1dY"
   },
   "outputs": [
    {
     "name": "stdout",
     "output_type": "stream",
     "text": [
      "Collecting xgboost\n",
      "  Downloading xgboost-2.1.1-py3-none-win_amd64.whl.metadata (2.1 kB)\n",
      "Requirement already satisfied: numpy in c:\\users\\risha\\appdata\\local\\programs\\python\\python312\\lib\\site-packages (from xgboost) (1.26.0)\n",
      "Requirement already satisfied: scipy in c:\\users\\risha\\appdata\\local\\programs\\python\\python312\\lib\\site-packages (from xgboost) (1.13.1)\n",
      "Downloading xgboost-2.1.1-py3-none-win_amd64.whl (124.9 MB)\n",
      "   ---------------------------------------- 0.0/124.9 MB ? eta -:--:--\n",
      "    --------------------------------------- 2.1/124.9 MB 13.0 MB/s eta 0:00:10\n",
      "   - -------------------------------------- 3.9/124.9 MB 8.4 MB/s eta 0:00:15\n",
      "   - -------------------------------------- 5.2/124.9 MB 7.6 MB/s eta 0:00:16\n",
      "   - -------------------------------------- 5.8/124.9 MB 6.5 MB/s eta 0:00:19\n",
      "   -- ------------------------------------- 6.6/124.9 MB 5.8 MB/s eta 0:00:21\n",
      "   -- ------------------------------------- 7.3/124.9 MB 5.5 MB/s eta 0:00:22\n",
      "   -- ------------------------------------- 8.4/124.9 MB 5.4 MB/s eta 0:00:22\n",
      "   --- ------------------------------------ 9.7/124.9 MB 5.3 MB/s eta 0:00:22\n",
      "   --- ------------------------------------ 11.0/124.9 MB 5.4 MB/s eta 0:00:22\n",
      "   --- ------------------------------------ 12.3/124.9 MB 5.6 MB/s eta 0:00:21\n",
      "   ---- ----------------------------------- 13.9/124.9 MB 5.7 MB/s eta 0:00:20\n",
      "   ----- ---------------------------------- 15.7/124.9 MB 5.9 MB/s eta 0:00:19\n",
      "   ----- ---------------------------------- 16.5/124.9 MB 5.8 MB/s eta 0:00:19\n",
      "   ----- ---------------------------------- 17.3/124.9 MB 5.6 MB/s eta 0:00:20\n",
      "   ----- ---------------------------------- 18.1/124.9 MB 5.5 MB/s eta 0:00:20\n",
      "   ------ --------------------------------- 19.1/124.9 MB 5.5 MB/s eta 0:00:20\n",
      "   ------ --------------------------------- 20.2/124.9 MB 5.4 MB/s eta 0:00:20\n",
      "   ------ --------------------------------- 21.5/124.9 MB 5.5 MB/s eta 0:00:19\n",
      "   ------- -------------------------------- 22.8/124.9 MB 5.5 MB/s eta 0:00:19\n",
      "   ------- -------------------------------- 24.1/124.9 MB 5.6 MB/s eta 0:00:19\n",
      "   -------- ------------------------------- 25.7/124.9 MB 5.7 MB/s eta 0:00:18\n",
      "   -------- ------------------------------- 27.0/124.9 MB 5.7 MB/s eta 0:00:18\n",
      "   --------- ------------------------------ 28.3/124.9 MB 5.7 MB/s eta 0:00:17\n",
      "   --------- ------------------------------ 29.6/124.9 MB 5.7 MB/s eta 0:00:17\n",
      "   --------- ------------------------------ 30.4/124.9 MB 5.7 MB/s eta 0:00:17\n",
      "   ---------- ----------------------------- 31.7/124.9 MB 5.7 MB/s eta 0:00:17\n",
      "   ---------- ----------------------------- 33.0/124.9 MB 5.7 MB/s eta 0:00:17\n",
      "   ---------- ----------------------------- 34.3/124.9 MB 5.7 MB/s eta 0:00:16\n",
      "   ----------- ---------------------------- 35.7/124.9 MB 5.7 MB/s eta 0:00:16\n",
      "   ------------ --------------------------- 37.5/124.9 MB 5.8 MB/s eta 0:00:16\n",
      "   ------------ --------------------------- 38.3/124.9 MB 5.8 MB/s eta 0:00:15\n",
      "   ------------ --------------------------- 39.3/124.9 MB 5.7 MB/s eta 0:00:15\n",
      "   ------------- -------------------------- 40.6/124.9 MB 5.7 MB/s eta 0:00:15\n",
      "   ------------- -------------------------- 41.7/124.9 MB 5.7 MB/s eta 0:00:15\n",
      "   ------------- -------------------------- 43.0/124.9 MB 5.7 MB/s eta 0:00:15\n",
      "   -------------- ------------------------- 44.3/124.9 MB 5.8 MB/s eta 0:00:15\n",
      "   -------------- ------------------------- 45.9/124.9 MB 5.8 MB/s eta 0:00:14\n",
      "   --------------- ------------------------ 47.4/124.9 MB 5.9 MB/s eta 0:00:14\n",
      "   --------------- ------------------------ 48.5/124.9 MB 5.8 MB/s eta 0:00:14\n",
      "   --------------- ------------------------ 49.5/124.9 MB 5.8 MB/s eta 0:00:14\n",
      "   ---------------- ----------------------- 50.6/124.9 MB 5.8 MB/s eta 0:00:13\n",
      "   ---------------- ----------------------- 51.9/124.9 MB 5.8 MB/s eta 0:00:13\n",
      "   ----------------- ---------------------- 53.5/124.9 MB 5.8 MB/s eta 0:00:13\n",
      "   ----------------- ---------------------- 55.1/124.9 MB 5.9 MB/s eta 0:00:12\n",
      "   ----------------- ---------------------- 56.1/124.9 MB 5.9 MB/s eta 0:00:12\n",
      "   ------------------ --------------------- 56.9/124.9 MB 5.8 MB/s eta 0:00:12\n",
      "   ------------------ --------------------- 57.7/124.9 MB 5.8 MB/s eta 0:00:12\n",
      "   ------------------ --------------------- 58.5/124.9 MB 5.7 MB/s eta 0:00:12\n",
      "   ------------------- -------------------- 59.5/124.9 MB 5.7 MB/s eta 0:00:12\n",
      "   ------------------- -------------------- 60.8/124.9 MB 5.7 MB/s eta 0:00:12\n",
      "   ------------------- -------------------- 62.1/124.9 MB 5.7 MB/s eta 0:00:11\n",
      "   -------------------- ------------------- 63.4/124.9 MB 5.7 MB/s eta 0:00:11\n",
      "   -------------------- ------------------- 65.0/124.9 MB 5.8 MB/s eta 0:00:11\n",
      "   --------------------- ------------------ 66.3/124.9 MB 5.8 MB/s eta 0:00:11\n",
      "   --------------------- ------------------ 67.6/124.9 MB 5.8 MB/s eta 0:00:10\n",
      "   ---------------------- ----------------- 69.2/124.9 MB 5.8 MB/s eta 0:00:10\n",
      "   ---------------------- ----------------- 70.5/124.9 MB 5.8 MB/s eta 0:00:10\n",
      "   ---------------------- ----------------- 71.6/124.9 MB 5.8 MB/s eta 0:00:10\n",
      "   ----------------------- ---------------- 72.9/124.9 MB 5.8 MB/s eta 0:00:09\n",
      "   ----------------------- ---------------- 74.4/124.9 MB 5.8 MB/s eta 0:00:09\n",
      "   ------------------------ --------------- 75.8/124.9 MB 5.8 MB/s eta 0:00:09\n",
      "   ------------------------ --------------- 76.8/124.9 MB 5.8 MB/s eta 0:00:09\n",
      "   ------------------------- -------------- 78.4/124.9 MB 5.8 MB/s eta 0:00:08\n",
      "   ------------------------- -------------- 79.4/124.9 MB 5.8 MB/s eta 0:00:08\n",
      "   ------------------------- -------------- 80.5/124.9 MB 5.8 MB/s eta 0:00:08\n",
      "   -------------------------- ------------- 81.8/124.9 MB 5.8 MB/s eta 0:00:08\n",
      "   -------------------------- ------------- 83.4/124.9 MB 5.8 MB/s eta 0:00:08\n",
      "   --------------------------- ------------ 84.9/124.9 MB 5.9 MB/s eta 0:00:07\n",
      "   --------------------------- ------------ 86.2/124.9 MB 5.9 MB/s eta 0:00:07\n",
      "   --------------------------- ------------ 87.0/124.9 MB 5.8 MB/s eta 0:00:07\n",
      "   ---------------------------- ----------- 88.3/124.9 MB 5.8 MB/s eta 0:00:07\n",
      "   ---------------------------- ----------- 89.4/124.9 MB 5.8 MB/s eta 0:00:07\n",
      "   ----------------------------- ---------- 90.7/124.9 MB 5.8 MB/s eta 0:00:06\n",
      "   ----------------------------- ---------- 92.0/124.9 MB 5.8 MB/s eta 0:00:06\n",
      "   ----------------------------- ---------- 93.6/124.9 MB 5.9 MB/s eta 0:00:06\n",
      "   ------------------------------ --------- 95.2/124.9 MB 5.9 MB/s eta 0:00:06\n",
      "   ------------------------------ --------- 96.7/124.9 MB 5.9 MB/s eta 0:00:05\n",
      "   ------------------------------- -------- 97.5/124.9 MB 5.9 MB/s eta 0:00:05\n",
      "   ------------------------------- -------- 98.3/124.9 MB 5.8 MB/s eta 0:00:05\n",
      "   ------------------------------- -------- 99.1/124.9 MB 5.8 MB/s eta 0:00:05\n",
      "   -------------------------------- ------- 100.1/124.9 MB 5.8 MB/s eta 0:00:05\n",
      "   -------------------------------- ------- 101.4/124.9 MB 5.8 MB/s eta 0:00:05\n",
      "   -------------------------------- ------- 102.8/124.9 MB 5.8 MB/s eta 0:00:04\n",
      "   --------------------------------- ------ 104.1/124.9 MB 5.8 MB/s eta 0:00:04\n",
      "   --------------------------------- ------ 105.6/124.9 MB 5.8 MB/s eta 0:00:04\n",
      "   ---------------------------------- ----- 107.2/124.9 MB 5.9 MB/s eta 0:00:04\n",
      "   ---------------------------------- ----- 108.5/124.9 MB 5.9 MB/s eta 0:00:03\n",
      "   ----------------------------------- ---- 109.3/124.9 MB 5.9 MB/s eta 0:00:03\n",
      "   ----------------------------------- ---- 110.1/124.9 MB 5.8 MB/s eta 0:00:03\n",
      "   ----------------------------------- ---- 110.9/124.9 MB 5.8 MB/s eta 0:00:03\n",
      "   ----------------------------------- ---- 111.9/124.9 MB 5.8 MB/s eta 0:00:03\n",
      "   ------------------------------------ --- 113.2/124.9 MB 5.8 MB/s eta 0:00:03\n",
      "   ------------------------------------ --- 114.6/124.9 MB 5.8 MB/s eta 0:00:02\n",
      "   ------------------------------------- -- 115.9/124.9 MB 5.8 MB/s eta 0:00:02\n",
      "   ------------------------------------- -- 117.4/124.9 MB 5.8 MB/s eta 0:00:02\n",
      "   -------------------------------------- - 119.3/124.9 MB 5.8 MB/s eta 0:00:01\n",
      "   -------------------------------------- - 120.3/124.9 MB 5.8 MB/s eta 0:00:01\n",
      "   -------------------------------------- - 121.4/124.9 MB 5.8 MB/s eta 0:00:01\n",
      "   ---------------------------------------  122.4/124.9 MB 5.8 MB/s eta 0:00:01\n",
      "   ---------------------------------------  123.7/124.9 MB 5.8 MB/s eta 0:00:01\n",
      "   ---------------------------------------  124.8/124.9 MB 5.8 MB/s eta 0:00:01\n",
      "   ---------------------------------------  124.8/124.9 MB 5.8 MB/s eta 0:00:01\n",
      "   ---------------------------------------  124.8/124.9 MB 5.8 MB/s eta 0:00:01\n",
      "   ---------------------------------------  124.8/124.9 MB 5.8 MB/s eta 0:00:01\n",
      "   ---------------------------------------  124.8/124.9 MB 5.8 MB/s eta 0:00:01\n",
      "   ---------------------------------------- 124.9/124.9 MB 5.6 MB/s eta 0:00:00\n",
      "Installing collected packages: xgboost\n",
      "Successfully installed xgboost-2.1.1\n",
      "Note: you may need to restart the kernel to use updated packages.\n"
     ]
    }
   ],
   "source": [
    "# %pip install -r requirements.txt\n",
    "import pandas as pd\n",
    "import numpy as np\n",
    "from sklearn.linear_model import LogisticRegression\n",
    "import tensorflow as tf\n",
    "from tensorflow.keras.models import Sequential\n",
    "from tensorflow.keras.layers import Conv1D, Flatten, MaxPooling1D, Dense\n",
    "from tensorflow import keras\n",
    "from tensorflow.keras.models import Sequential\n",
    "from tensorflow.keras.layers import Dense\n",
    "from tensorflow.keras import layers\n",
    "from sklearn.metrics import accuracy_score, precision_score, recall_score, f1_score\n",
    "from sklearn.metrics import precision_score, recall_score, f1_score\n",
    "from sklearn.preprocessing import PolynomialFeatures\n",
    "from sklearn.model_selection import train_test_split, cross_val_score\n",
    "from sklearn.preprocessing import LabelEncoder, StandardScaler\n",
    "from sklearn.ensemble import RandomForestClassifier\n",
    "from sklearn.ensemble import VotingClassifier, GradientBoostingClassifier\n",
    "from sklearn.svm import SVC\n",
    "from sklearn.metrics import accuracy_score, classification_report, confusion_matrix\n",
    "import matplotlib.pyplot as plt\n",
    "import seaborn as sns\n",
    "%pip install xgboost\n",
    "import xgboost as xgb\n",
    "# from google.colab import files"
   ]
  },
  {
   "cell_type": "markdown",
   "metadata": {
    "id": "tP0F_NxSdfR_"
   },
   "source": [
    "\n",
    "\n",
    "---\n",
    "\n"
   ]
  },
  {
   "cell_type": "markdown",
   "metadata": {
    "id": "3Wm0WdvPzCda",
    "jp-MarkdownHeadingCollapsed": true
   },
   "source": [
    "# (2) Uploading and reading the dataset :\n",
    "- Uploading the csv file and then loading it into a dataframe.\n",
    "- Displaying the first few rows."
   ]
  },
  {
   "cell_type": "code",
   "execution_count": 2,
   "metadata": {
    "colab": {
     "base_uri": "https://localhost:8080/",
     "height": 381
    },
    "id": "ztOJepOd7I-e",
    "outputId": "719a2aa7-c8a9-4db1-e0d2-ffc83a953bdd"
   },
   "outputs": [
    {
     "data": {
      "text/html": [
       "<div>\n",
       "<style scoped>\n",
       "    .dataframe tbody tr th:only-of-type {\n",
       "        vertical-align: middle;\n",
       "    }\n",
       "\n",
       "    .dataframe tbody tr th {\n",
       "        vertical-align: top;\n",
       "    }\n",
       "\n",
       "    .dataframe thead th {\n",
       "        text-align: right;\n",
       "    }\n",
       "</style>\n",
       "<table border=\"1\" class=\"dataframe\">\n",
       "  <thead>\n",
       "    <tr style=\"text-align: right;\">\n",
       "      <th></th>\n",
       "      <th>Player_match_SK</th>\n",
       "      <th>PlayerMatch_key</th>\n",
       "      <th>Match_Id</th>\n",
       "      <th>Player_Id</th>\n",
       "      <th>Player_Name</th>\n",
       "      <th>DOB</th>\n",
       "      <th>Batting_hand</th>\n",
       "      <th>Bowling_skill</th>\n",
       "      <th>Country_Name</th>\n",
       "      <th>Role_Desc</th>\n",
       "      <th>...</th>\n",
       "      <th>Season_year</th>\n",
       "      <th>is_manofThematch</th>\n",
       "      <th>Age_As_on_match</th>\n",
       "      <th>IsPlayers_Team_won</th>\n",
       "      <th>Batting_Status</th>\n",
       "      <th>Bowling_Status</th>\n",
       "      <th>Player_Captain</th>\n",
       "      <th>Opposit_captain</th>\n",
       "      <th>Player_keeper</th>\n",
       "      <th>Opposit_keeper</th>\n",
       "    </tr>\n",
       "  </thead>\n",
       "  <tbody>\n",
       "    <tr>\n",
       "      <th>0</th>\n",
       "      <td>-1</td>\n",
       "      <td>-1.000000e+00</td>\n",
       "      <td>-1</td>\n",
       "      <td>-1</td>\n",
       "      <td>NaN</td>\n",
       "      <td>NaN</td>\n",
       "      <td>NaN</td>\n",
       "      <td>NaN</td>\n",
       "      <td>NaN</td>\n",
       "      <td>NaN</td>\n",
       "      <td>...</td>\n",
       "      <td>NaN</td>\n",
       "      <td>NaN</td>\n",
       "      <td>NaN</td>\n",
       "      <td>NaN</td>\n",
       "      <td>NaN</td>\n",
       "      <td>NaN</td>\n",
       "      <td>NaN</td>\n",
       "      <td>NaN</td>\n",
       "      <td>NaN</td>\n",
       "      <td>NaN</td>\n",
       "    </tr>\n",
       "    <tr>\n",
       "      <th>1</th>\n",
       "      <td>12694</td>\n",
       "      <td>3.359870e+10</td>\n",
       "      <td>335987</td>\n",
       "      <td>6</td>\n",
       "      <td>R Dravid</td>\n",
       "      <td>1/11/1973</td>\n",
       "      <td>Right-hand bat</td>\n",
       "      <td>Right-arm offbreak</td>\n",
       "      <td>India</td>\n",
       "      <td>Captain</td>\n",
       "      <td>...</td>\n",
       "      <td>2008.0</td>\n",
       "      <td>0.0</td>\n",
       "      <td>35.0</td>\n",
       "      <td>0.0</td>\n",
       "      <td>NaN</td>\n",
       "      <td>NaN</td>\n",
       "      <td>R Dravid</td>\n",
       "      <td>SC Ganguly</td>\n",
       "      <td>MV Boucher</td>\n",
       "      <td>WP Saha</td>\n",
       "    </tr>\n",
       "    <tr>\n",
       "      <th>2</th>\n",
       "      <td>12695</td>\n",
       "      <td>3.359870e+10</td>\n",
       "      <td>335987</td>\n",
       "      <td>7</td>\n",
       "      <td>W Jaffer</td>\n",
       "      <td>2/16/1978</td>\n",
       "      <td>Right-hand bat</td>\n",
       "      <td>Right-arm offbreak</td>\n",
       "      <td>India</td>\n",
       "      <td>Player</td>\n",
       "      <td>...</td>\n",
       "      <td>2008.0</td>\n",
       "      <td>0.0</td>\n",
       "      <td>30.0</td>\n",
       "      <td>0.0</td>\n",
       "      <td>NaN</td>\n",
       "      <td>NaN</td>\n",
       "      <td>R Dravid</td>\n",
       "      <td>SC Ganguly</td>\n",
       "      <td>MV Boucher</td>\n",
       "      <td>WP Saha</td>\n",
       "    </tr>\n",
       "    <tr>\n",
       "      <th>3</th>\n",
       "      <td>12696</td>\n",
       "      <td>3.359870e+10</td>\n",
       "      <td>335987</td>\n",
       "      <td>8</td>\n",
       "      <td>V Kohli</td>\n",
       "      <td>11/5/1988</td>\n",
       "      <td>Right-hand bat</td>\n",
       "      <td>Right-arm medium</td>\n",
       "      <td>India</td>\n",
       "      <td>Player</td>\n",
       "      <td>...</td>\n",
       "      <td>2008.0</td>\n",
       "      <td>0.0</td>\n",
       "      <td>20.0</td>\n",
       "      <td>0.0</td>\n",
       "      <td>NaN</td>\n",
       "      <td>NaN</td>\n",
       "      <td>R Dravid</td>\n",
       "      <td>SC Ganguly</td>\n",
       "      <td>MV Boucher</td>\n",
       "      <td>WP Saha</td>\n",
       "    </tr>\n",
       "    <tr>\n",
       "      <th>4</th>\n",
       "      <td>12697</td>\n",
       "      <td>3.359870e+10</td>\n",
       "      <td>335987</td>\n",
       "      <td>9</td>\n",
       "      <td>JH Kallis</td>\n",
       "      <td>10/16/1975</td>\n",
       "      <td>Right-hand bat</td>\n",
       "      <td>Right-arm fast-medium</td>\n",
       "      <td>South Africa</td>\n",
       "      <td>Player</td>\n",
       "      <td>...</td>\n",
       "      <td>2008.0</td>\n",
       "      <td>0.0</td>\n",
       "      <td>33.0</td>\n",
       "      <td>0.0</td>\n",
       "      <td>NaN</td>\n",
       "      <td>NaN</td>\n",
       "      <td>R Dravid</td>\n",
       "      <td>SC Ganguly</td>\n",
       "      <td>MV Boucher</td>\n",
       "      <td>WP Saha</td>\n",
       "    </tr>\n",
       "  </tbody>\n",
       "</table>\n",
       "<p>5 rows × 22 columns</p>\n",
       "</div>"
      ],
      "text/plain": [
       "   Player_match_SK  PlayerMatch_key  Match_Id  Player_Id Player_Name  \\\n",
       "0               -1    -1.000000e+00        -1         -1         NaN   \n",
       "1            12694     3.359870e+10    335987          6    R Dravid   \n",
       "2            12695     3.359870e+10    335987          7    W Jaffer   \n",
       "3            12696     3.359870e+10    335987          8     V Kohli   \n",
       "4            12697     3.359870e+10    335987          9   JH Kallis   \n",
       "\n",
       "          DOB    Batting_hand          Bowling_skill  Country_Name Role_Desc  \\\n",
       "0         NaN             NaN                    NaN           NaN       NaN   \n",
       "1   1/11/1973  Right-hand bat     Right-arm offbreak         India   Captain   \n",
       "2   2/16/1978  Right-hand bat     Right-arm offbreak         India    Player   \n",
       "3   11/5/1988  Right-hand bat       Right-arm medium         India    Player   \n",
       "4  10/16/1975  Right-hand bat  Right-arm fast-medium  South Africa    Player   \n",
       "\n",
       "   ... Season_year is_manofThematch  Age_As_on_match  IsPlayers_Team_won  \\\n",
       "0  ...         NaN              NaN              NaN                 NaN   \n",
       "1  ...      2008.0              0.0             35.0                 0.0   \n",
       "2  ...      2008.0              0.0             30.0                 0.0   \n",
       "3  ...      2008.0              0.0             20.0                 0.0   \n",
       "4  ...      2008.0              0.0             33.0                 0.0   \n",
       "\n",
       "   Batting_Status  Bowling_Status  Player_Captain  Opposit_captain  \\\n",
       "0             NaN             NaN             NaN              NaN   \n",
       "1             NaN             NaN        R Dravid       SC Ganguly   \n",
       "2             NaN             NaN        R Dravid       SC Ganguly   \n",
       "3             NaN             NaN        R Dravid       SC Ganguly   \n",
       "4             NaN             NaN        R Dravid       SC Ganguly   \n",
       "\n",
       "  Player_keeper Opposit_keeper  \n",
       "0           NaN            NaN  \n",
       "1    MV Boucher        WP Saha  \n",
       "2    MV Boucher        WP Saha  \n",
       "3    MV Boucher        WP Saha  \n",
       "4    MV Boucher        WP Saha  \n",
       "\n",
       "[5 rows x 22 columns]"
      ]
     },
     "execution_count": 2,
     "metadata": {},
     "output_type": "execute_result"
    }
   ],
   "source": [
    "# uploaded = files.upload()\n",
    "df = pd.read_csv('data/Player_match.csv', low_memory=False, encoding='latin-1')\n",
    "df.head()"
   ]
  },
  {
   "cell_type": "markdown",
   "metadata": {
    "id": "RvZIg9g1dqSE"
   },
   "source": [
    "\n",
    "\n",
    "---\n",
    "\n"
   ]
  },
  {
   "cell_type": "markdown",
   "metadata": {
    "id": "QNqUyYFECMTw",
    "jp-MarkdownHeadingCollapsed": true
   },
   "source": [
    "# (3) Pre-processing the dataset.\n",
    "1.   **Dropping irrelevant rows and columns** that do not contribute to the model.\n",
    "2.  **Encoding categorical variables**\n",
    "3. **Defining features and target**\n",
    "4. **Splitting the data** into train data and test data in the 8:2 ratio.\n",
    "5. **Standardising the dataset**: After this step, the features will have a mean of 0 and a standard deviation of 1.\n",
    "\n",
    "\n",
    "\n",
    "\n"
   ]
  },
  {
   "cell_type": "code",
   "execution_count": 3,
   "metadata": {
    "colab": {
     "base_uri": "https://localhost:8080/"
    },
    "id": "tE5H6jij7JFY",
    "outputId": "204c8795-a96f-41db-cb59-af3fc8795710"
   },
   "outputs": [
    {
     "name": "stdout",
     "output_type": "stream",
     "text": [
      "   Player_Name  Batting_hand  Bowling_skill  Role_Desc  Player_team  \\\n",
      "1          331             1             12          0           11   \n",
      "2          479             1             12          3           11   \n",
      "3          467             1              9          3           11   \n",
      "4          186             1              8          3           11   \n",
      "5          101             1              5          3           11   \n",
      "\n",
      "   Opposit_Team  Age_As_on_match  IsPlayers_Team_won  Player_Captain  \\\n",
      "1             6             35.0                 0.0              28   \n",
      "2             6             30.0                 0.0              28   \n",
      "3             6             20.0                 0.0              28   \n",
      "4             6             33.0                 0.0              28   \n",
      "5             6             25.0                 0.0              28   \n",
      "\n",
      "   Opposit_captain  Player_keeper  Opposit_keeper  \n",
      "1               32             28              44  \n",
      "2               32             28              44  \n",
      "3               32             28              44  \n",
      "4               32             28              44  \n",
      "5               32             28              44  \n"
     ]
    }
   ],
   "source": [
    "df = df[1:]\n",
    "\n",
    "df_clean = df.drop(['Player_Id', 'DOB', 'PlayerMatch_key', 'Batting_Status', 'Bowling_Status', 'Country_Name', 'Match_Id', 'Player_match_SK', 'is_manofThematch','Season_year'], axis=1)\n",
    "\n",
    "label_encoders = {}\n",
    "for column in ['Batting_hand', 'Player_Name', 'Bowling_skill', 'Role_Desc', 'Player_team', 'Opposit_Team',\n",
    "               'Player_Captain', 'Opposit_captain', 'Player_keeper', 'Opposit_keeper']:\n",
    "    le = LabelEncoder()\n",
    "    df_clean[column] = le.fit_transform(df_clean[column].astype(str))\n",
    "    label_encoders[column] = le \n",
    "\n",
    "print(df_clean.head())\n"
   ]
  },
  {
   "cell_type": "code",
   "execution_count": 4,
   "metadata": {
    "colab": {
     "base_uri": "https://localhost:8080/"
    },
    "id": "ldJWej1JAPUP",
    "outputId": "bad1087f-d9d9-468d-bb00-f1087be6570d"
   },
   "outputs": [
    {
     "name": "stdout",
     "output_type": "stream",
     "text": [
      "IsPlayers_Team_won\n",
      "0.0    7040\n",
      "1.0    6952\n",
      "Name: count, dtype: int64\n"
     ]
    }
   ],
   "source": [
    "value_counts = print(df_clean['IsPlayers_Team_won'].value_counts())\n"
   ]
  },
  {
   "cell_type": "code",
   "execution_count": 5,
   "metadata": {
    "colab": {
     "base_uri": "https://localhost:8080/",
     "height": 519
    },
    "id": "Ppe6NXc4hCnO",
    "outputId": "e6c44adc-7e70-4630-c5ab-6518dc8a0c9b"
   },
   "outputs": [
    {
     "name": "stderr",
     "output_type": "stream",
     "text": [
      "C:\\Users\\risha\\AppData\\Local\\Temp\\ipykernel_57716\\3167918850.py:4: FutureWarning: \n",
      "\n",
      "Passing `palette` without assigning `hue` is deprecated and will be removed in v0.14.0. Assign the `x` variable to `hue` and set `legend=False` for the same effect.\n",
      "\n",
      "  sns.barplot(x=value_counts.index, y=value_counts.values, palette=\"viridis\")\n"
     ]
    },
    {
     "data": {
      "text/plain": [
       "Text(0, 0.5, 'Count')"
      ]
     },
     "execution_count": 5,
     "metadata": {},
     "output_type": "execute_result"
    },
    {
     "data": {
      "image/png": "[encoded data removed]",
      "text/plain": [
       "<Figure size 600x400 with 1 Axes>"
      ]
     },
     "metadata": {},
     "output_type": "display_data"
    }
   ],
   "source": [
    "value_counts = df_clean['IsPlayers_Team_won'].value_counts()\n",
    "\n",
    "plt.figure(figsize=(6, 4))\n",
    "sns.barplot(x=value_counts.index, y=value_counts.values, palette=\"viridis\")\n",
    "\n",
    "plt.title(\"Distribution of 'IsPlayers_Team_won'\", fontsize=14)\n",
    "plt.xlabel(\"IsPlayers_Team_won\", fontsize=12)\n",
    "plt.ylabel(\"Count\", fontsize=12)"
   ]
  },
  {
   "cell_type": "code",
   "execution_count": 6,
   "metadata": {
    "id": "of8PXK-Sh-41"
   },
   "outputs": [],
   "source": [
    "\n",
    "X = df_clean.drop(df_clean.columns[7], axis=1)  \n",
    "\n",
    "y = df_clean.iloc[:, 7]  "
   ]
  },
  {
   "cell_type": "code",
   "execution_count": 7,
   "metadata": {
    "colab": {
     "base_uri": "https://localhost:8080/"
    },
    "id": "fDA8NxEQeGZE",
    "outputId": "f9d16083-80d1-4c06-d4da-2ce4685610d3"
   },
   "outputs": [
    {
     "name": "stdout",
     "output_type": "stream",
     "text": [
      "Shape of X (features): (13992, 11)\n",
      "Shape of y (target): (13992,)\n",
      "\n",
      "First 5 rows of X (features):\n",
      "   Player_Name  Batting_hand  Bowling_skill  Role_Desc  Player_team  \\\n",
      "1          331             1             12          0           11   \n",
      "2          479             1             12          3           11   \n",
      "3          467             1              9          3           11   \n",
      "4          186             1              8          3           11   \n",
      "5          101             1              5          3           11   \n",
      "\n",
      "   Opposit_Team  Age_As_on_match  Player_Captain  Opposit_captain  \\\n",
      "1             6             35.0              28               32   \n",
      "2             6             30.0              28               32   \n",
      "3             6             20.0              28               32   \n",
      "4             6             33.0              28               32   \n",
      "5             6             25.0              28               32   \n",
      "\n",
      "   Player_keeper  Opposit_keeper  \n",
      "1             28              44  \n",
      "2             28              44  \n",
      "3             28              44  \n",
      "4             28              44  \n",
      "5             28              44  \n",
      "\n",
      "First 5 values of y (target):\n",
      "1    0.0\n",
      "2    0.0\n",
      "3    0.0\n",
      "4    0.0\n",
      "5    0.0\n",
      "Name: IsPlayers_Team_won, dtype: float64\n"
     ]
    }
   ],
   "source": [
    "\n",
    "print(\"Shape of X (features):\", X.shape)  \n",
    "print(\"Shape of y (target):\", y.shape)    \n",
    "\n",
    "print(\"\\nFirst 5 rows of X (features):\")\n",
    "print(X.head()) \n",
    "\n",
    "print(\"\\nFirst 5 values of y (target):\")\n",
    "print(y.head())\n"
   ]
  },
  {
   "cell_type": "code",
   "execution_count": 8,
   "metadata": {
    "id": "8z6KW42C7JK8"
   },
   "outputs": [],
   "source": [
    "X_train, X_test, y_train, y_test = train_test_split(X, y, test_size=0.2, random_state=42)\n",
    "\n",
    "scaler = StandardScaler()\n",
    "X_train_scaled = scaler.fit_transform(X_train)\n",
    "X_test_scaled = scaler.transform(X_test)\n"
   ]
  },
  {
   "cell_type": "code",
   "execution_count": 9,
   "metadata": {
    "colab": {
     "base_uri": "https://localhost:8080/"
    },
    "id": "1_pMdzNTKDae",
    "outputId": "0cffa795-5acc-4acb-8ae4-58d8121ffa14"
   },
   "outputs": [
    {
     "name": "stdout",
     "output_type": "stream",
     "text": [
      "Processed features data: \n",
      " [[-0.43596062  0.5426987  -2.38796901  0.39166883  0.82529008 -0.48444305\n",
      "  -0.69415325  1.12085429  1.27552464  1.2326253   1.55973994]\n",
      " [-0.70474409  0.5426987   0.62083089  0.39166883 -0.49126426  0.04599188\n",
      "  -0.69415325 -0.7142838  -0.80118033  1.55582182  0.91471184]\n",
      " [ 0.83015097  0.5426987   0.62083089  0.39166883 -1.54450773 -0.48444305\n",
      "   0.34861381  0.16339094 -0.32194072  0.18223658 -0.69785839]\n",
      " [-0.06815167  0.5426987   0.62083089  0.39166883 -1.54450773  0.04599188\n",
      "  -0.48559984  0.16339094  0.6365385   0.18223658  1.55973994]\n",
      " [ 1.48796314  0.5426987  -0.47327817  0.39166883 -1.017886   -0.48444305\n",
      "  -0.69415325 -0.87386102 -1.83953282  0.50543311 -1.90728606]]\n",
      "Processed target data: \n",
      " [[ 0.32795028  0.5426987   0.62083089  0.39166883  0.03535748  0.31120935\n",
      "   0.76572063  0.64212262  1.03590484  1.55582182 -1.74602904]\n",
      " [ 0.07331331  0.5426987  -0.1997509   0.39166883  1.35191182 -1.54531292\n",
      "  -1.5283669  -1.91111299  0.15729889  0.90942877  0.18905524]\n",
      " [ 0.65331974  0.5426987   0.62083089 -3.23642708  0.29866834  0.04599188\n",
      "  -0.48559984  0.40275678 -0.80118033 -0.62575473  0.10842673]\n",
      " [ 0.51892801  0.5426987   0.34730362  0.39166883  0.03535748 -1.54531292\n",
      "   0.76572063 -0.79407241  0.15729889  0.10143745  0.18905524]\n",
      " [-1.440362    0.5426987   0.62083089  0.39166883  0.29866834  1.63729668\n",
      "  -0.06849302  0.40275678 -1.44016648 -0.62575473  0.5921978 ]]\n"
     ]
    }
   ],
   "source": [
    "print(\"Processed features data: \\n\", X_train_scaled[:5, :])\n",
    "print(\"Processed target data: \\n\", X_test_scaled[:5, :])"
   ]
  },
  {
   "cell_type": "markdown",
   "metadata": {
    "id": "7a9Vox1FivIM"
   },
   "source": [
    "\n",
    "\n",
    "---\n",
    "\n"
   ]
  },
  {
   "cell_type": "markdown",
   "metadata": {
    "id": "AqND4oSvLeh2",
    "jp-MarkdownHeadingCollapsed": true
   },
   "source": [
    "# (4) Model Selection:\n",
    "\n",
    "1. **Models Considered**:\n",
    "   - Logistic Regression\n",
    "   - Random Forest\n",
    "   - Support Vector Machine\n",
    "   - Neural Network\n",
    "   - Convolutional Neural Network\n",
    "\n",
    "2. **Performance Metrics**:\n",
    "   - Displaying Accuracy, Precision, Recall and F1-score for the training and the test dataset for each model.\n",
    "\n",
    "4. **Visualizations**:\n",
    "   - Plotting Confusion Matrix for all the models to visualize their performance.\n",
    "\n",
    "5. **Selected Model**:\n",
    "   - Will be choosing the model that is best performing in terms of the above stated performance metrics."
   ]
  },
  {
   "cell_type": "markdown",
   "metadata": {
    "id": "Bz_9gyXEOJ2M"
   },
   "source": [
    "\n",
    "\n",
    "---\n",
    "\n"
   ]
  },
  {
   "cell_type": "markdown",
   "metadata": {
    "id": "Ul_nH2vsmbkX"
   },
   "source": [
    "## <b> A. Logistic Regression :</b>"
   ]
  },
  {
   "cell_type": "code",
   "execution_count": 10,
   "metadata": {
    "id": "7zLvV3aTEhEn"
   },
   "outputs": [
    {
     "name": "stderr",
     "output_type": "stream",
     "text": [
      "C:\\Users\\risha\\AppData\\Local\\Programs\\Python\\Python312\\Lib\\site-packages\\keras\\src\\layers\\core\\dense.py:87: UserWarning: Do not pass an `input_shape`/`input_dim` argument to a layer. When using Sequential models, prefer using an `Input(shape)` object as the first layer in the model instead.\n",
      "  super().__init__(activity_regularizer=activity_regularizer, **kwargs)\n"
     ]
    }
   ],
   "source": [
    "def create_tf_model():\n",
    "    model = Sequential([\n",
    "        Dense(1, input_shape=(X_train_scaled.shape[1],), activation='sigmoid')\n",
    "    ])\n",
    "    model.compile(optimizer='adam', \n",
    "                  loss='binary_crossentropy',\n",
    "                  metrics=['accuracy'])\n",
    "    return model\n",
    "\n",
    "tf_model = create_tf_model()\n",
    "history = tf_model.fit(X_train_scaled, y_train, epochs=150, batch_size=32, validation_data=(X_test_scaled, y_test), verbose=0)\n"
   ]
  },
  {
   "cell_type": "code",
   "execution_count": 11,
   "metadata": {
    "colab": {
     "base_uri": "https://localhost:8080/"
    },
    "id": "R2fQeRQnFny-",
    "outputId": "30bcef04-544a-4c74-aafc-667afe3bac1f"
   },
   "outputs": [
    {
     "name": "stdout",
     "output_type": "stream",
     "text": [
      "\u001b[1m350/350\u001b[0m \u001b[32m━━━━━━━━━━━━━━━━━━━━\u001b[0m\u001b[37m\u001b[0m \u001b[1m1s\u001b[0m 2ms/step\n",
      "\u001b[1m88/88\u001b[0m \u001b[32m━━━━━━━━━━━━━━━━━━━━\u001b[0m\u001b[37m\u001b[0m \u001b[1m0s\u001b[0m 2ms/step\n",
      "TensorFlow Training Accuracy: 51.4339319217368\n",
      "TensorFlow Testing Accuracy: 51.982851018220785\n"
     ]
    }
   ],
   "source": [
    "y_train_pred_tf = (tf_model.predict(X_train_scaled) > 0.5).astype(\"int32\")\n",
    "y_test_pred_tf = (tf_model.predict(X_test_scaled) > 0.5).astype(\"int32\")\n",
    "\n",
    "print(\"TensorFlow Training Accuracy:\", accuracy_score(y_train, y_train_pred_tf) * 100)\n",
    "print(\"TensorFlow Testing Accuracy:\", accuracy_score(y_test, y_test_pred_tf) * 100)\n"
   ]
  },
  {
   "cell_type": "code",
   "execution_count": 12,
   "metadata": {
    "colab": {
     "base_uri": "https://localhost:8080/"
    },
    "id": "4ylfQ-hoHY7u",
    "outputId": "4fc774bd-9fd5-4ec4-efb8-20789f4f741e"
   },
   "outputs": [
    {
     "name": "stdout",
     "output_type": "stream",
     "text": [
      "TensorFlow Classification Report (Train Data):\n",
      "              precision    recall  f1-score   support\n",
      "\n",
      "         0.0       0.51      0.54      0.53      5602\n",
      "         1.0       0.51      0.49      0.50      5591\n",
      "\n",
      "    accuracy                           0.51     11193\n",
      "   macro avg       0.51      0.51      0.51     11193\n",
      "weighted avg       0.51      0.51      0.51     11193\n",
      "\n",
      "TensorFlow Classification Report (Test Data):\n",
      "              precision    recall  f1-score   support\n",
      "\n",
      "         0.0       0.53      0.54      0.53      1438\n",
      "         1.0       0.51      0.50      0.50      1361\n",
      "\n",
      "    accuracy                           0.52      2799\n",
      "   macro avg       0.52      0.52      0.52      2799\n",
      "weighted avg       0.52      0.52      0.52      2799\n",
      "\n"
     ]
    }
   ],
   "source": [
    "print(\"TensorFlow Classification Report (Train Data):\")\n",
    "print(classification_report(y_train, y_train_pred_tf))\n",
    "\n",
    "print(\"TensorFlow Classification Report (Test Data):\")\n",
    "print(classification_report(y_test, y_test_pred_tf))"
   ]
  },
  {
   "cell_type": "code",
   "execution_count": 13,
   "metadata": {
    "colab": {
     "base_uri": "https://localhost:8080/",
     "height": 410
    },
    "id": "IcJSC8DOIIDL",
    "outputId": "cca4cabe-0620-4049-f333-2610c1a24909"
   },
   "outputs": [
    {
     "data": {
      "image/png": "[encoded data removed]",
      "text/plain": [
       "<Figure size 600x400 with 1 Axes>"
      ]
     },
     "metadata": {},
     "output_type": "display_data"
    }
   ],
   "source": [
    "cm = confusion_matrix(y_test, y_test_pred_tf)\n",
    "\n",
    "plt.figure(figsize=(6, 4))\n",
    "sns.heatmap(cm, annot=True, fmt=\"d\", cmap=\"Blues\", cbar=False)\n",
    "plt.title(\"Confusion Matrix\")\n",
    "plt.xlabel(\"Predicted Label\")\n",
    "plt.ylabel(\"True Label\")\n",
    "plt.show()"
   ]
  },
  {
   "cell_type": "markdown",
   "metadata": {
    "id": "jc1412_nGdZV"
   },
   "source": [
    "## <b> B. Logistic Regression (with polynomial features) :</b>"
   ]
  },
  {
   "cell_type": "code",
   "execution_count": 14,
   "metadata": {
    "colab": {
     "base_uri": "https://localhost:8080/"
    },
    "id": "-gcalCWYbopu",
    "outputId": "9c38aafa-db9d-400e-fd64-d4155d23c86b"
   },
   "outputs": [
    {
     "name": "stderr",
     "output_type": "stream",
     "text": [
      "C:\\Users\\risha\\AppData\\Local\\Programs\\Python\\Python312\\Lib\\site-packages\\keras\\src\\layers\\core\\dense.py:87: UserWarning: Do not pass an `input_shape`/`input_dim` argument to a layer. When using Sequential models, prefer using an `Input(shape)` object as the first layer in the model instead.\n",
      "  super().__init__(activity_regularizer=activity_regularizer, **kwargs)\n"
     ]
    },
    {
     "name": "stdout",
     "output_type": "stream",
     "text": [
      "Epoch 1/150\n",
      "\u001b[1m350/350\u001b[0m \u001b[32m━━━━━━━━━━━━━━━━━━━━\u001b[0m\u001b[37m\u001b[0m \u001b[1m2s\u001b[0m 3ms/step - accuracy: 0.4943 - loss: 1.0408 - val_accuracy: 0.4934 - val_loss: 0.9744\n",
      "Epoch 2/150\n",
      "\u001b[1m350/350\u001b[0m \u001b[32m━━━━━━━━━━━━━━━━━━━━\u001b[0m\u001b[37m\u001b[0m \u001b[1m1s\u001b[0m 3ms/step - accuracy: 0.4963 - loss: 0.9597 - val_accuracy: 0.4998 - val_loss: 0.9164\n",
      "Epoch 3/150\n",
      "\u001b[1m350/350\u001b[0m \u001b[32m━━━━━━━━━━━━━━━━━━━━\u001b[0m\u001b[37m\u001b[0m \u001b[1m1s\u001b[0m 3ms/step - accuracy: 0.5068 - loss: 0.9014 - val_accuracy: 0.4970 - val_loss: 0.8779\n",
      "Epoch 4/150\n",
      "\u001b[1m350/350\u001b[0m \u001b[32m━━━━━━━━━━━━━━━━━━━━\u001b[0m\u001b[37m\u001b[0m \u001b[1m1s\u001b[0m 3ms/step - accuracy: 0.5025 - loss: 0.8742 - val_accuracy: 0.5013 - val_loss: 0.8482\n",
      "Epoch 5/150\n",
      "\u001b[1m350/350\u001b[0m \u001b[32m━━━━━━━━━━━━━━━━━━━━\u001b[0m\u001b[37m\u001b[0m \u001b[1m1s\u001b[0m 3ms/step - accuracy: 0.5128 - loss: 0.8300 - val_accuracy: 0.5016 - val_loss: 0.8235\n",
      "Epoch 6/150\n",
      "\u001b[1m350/350\u001b[0m \u001b[32m━━━━━━━━━━━━━━━━━━━━\u001b[0m\u001b[37m\u001b[0m \u001b[1m1s\u001b[0m 3ms/step - accuracy: 0.5211 - loss: 0.8059 - val_accuracy: 0.5063 - val_loss: 0.8022\n",
      "Epoch 7/150\n",
      "\u001b[1m350/350\u001b[0m \u001b[32m━━━━━━━━━━━━━━━━━━━━\u001b[0m\u001b[37m\u001b[0m \u001b[1m1s\u001b[0m 4ms/step - accuracy: 0.5209 - loss: 0.7906 - val_accuracy: 0.5141 - val_loss: 0.7840\n",
      "Epoch 8/150\n",
      "\u001b[1m350/350\u001b[0m \u001b[32m━━━━━━━━━━━━━━━━━━━━\u001b[0m\u001b[37m\u001b[0m \u001b[1m1s\u001b[0m 3ms/step - accuracy: 0.5302 - loss: 0.7667 - val_accuracy: 0.5223 - val_loss: 0.7691\n",
      "Epoch 9/150\n",
      "\u001b[1m350/350\u001b[0m \u001b[32m━━━━━━━━━━━━━━━━━━━━\u001b[0m\u001b[37m\u001b[0m \u001b[1m1s\u001b[0m 3ms/step - accuracy: 0.5301 - loss: 0.7667 - val_accuracy: 0.5198 - val_loss: 0.7569\n",
      "Epoch 10/150\n",
      "\u001b[1m350/350\u001b[0m \u001b[32m━━━━━━━━━━━━━━━━━━━━\u001b[0m\u001b[37m\u001b[0m \u001b[1m1s\u001b[0m 3ms/step - accuracy: 0.5277 - loss: 0.7426 - val_accuracy: 0.5227 - val_loss: 0.7461\n",
      "Epoch 11/150\n",
      "\u001b[1m350/350\u001b[0m \u001b[32m━━━━━━━━━━━━━━━━━━━━\u001b[0m\u001b[37m\u001b[0m \u001b[1m1s\u001b[0m 3ms/step - accuracy: 0.5326 - loss: 0.7366 - val_accuracy: 0.5241 - val_loss: 0.7372\n",
      "Epoch 12/150\n",
      "\u001b[1m350/350\u001b[0m \u001b[32m━━━━━━━━━━━━━━━━━━━━\u001b[0m\u001b[37m\u001b[0m \u001b[1m1s\u001b[0m 4ms/step - accuracy: 0.5352 - loss: 0.7270 - val_accuracy: 0.5291 - val_loss: 0.7301\n",
      "Epoch 13/150\n",
      "\u001b[1m350/350\u001b[0m \u001b[32m━━━━━━━━━━━━━━━━━━━━\u001b[0m\u001b[37m\u001b[0m \u001b[1m1s\u001b[0m 4ms/step - accuracy: 0.5455 - loss: 0.7159 - val_accuracy: 0.5305 - val_loss: 0.7243\n",
      "Epoch 14/150\n",
      "\u001b[1m350/350\u001b[0m \u001b[32m━━━━━━━━━━━━━━━━━━━━\u001b[0m\u001b[37m\u001b[0m \u001b[1m3s\u001b[0m 4ms/step - accuracy: 0.5445 - loss: 0.7082 - val_accuracy: 0.5334 - val_loss: 0.7186\n",
      "Epoch 15/150\n",
      "\u001b[1m350/350\u001b[0m \u001b[32m━━━━━━━━━━━━━━━━━━━━\u001b[0m\u001b[37m\u001b[0m \u001b[1m2s\u001b[0m 4ms/step - accuracy: 0.5604 - loss: 0.6981 - val_accuracy: 0.5366 - val_loss: 0.7139\n",
      "Epoch 16/150\n",
      "\u001b[1m350/350\u001b[0m \u001b[32m━━━━━━━━━━━━━━━━━━━━\u001b[0m\u001b[37m\u001b[0m \u001b[1m2s\u001b[0m 5ms/step - accuracy: 0.5541 - loss: 0.6963 - val_accuracy: 0.5402 - val_loss: 0.7097\n",
      "Epoch 17/150\n",
      "\u001b[1m350/350\u001b[0m \u001b[32m━━━━━━━━━━━━━━━━━━━━\u001b[0m\u001b[37m\u001b[0m \u001b[1m2s\u001b[0m 4ms/step - accuracy: 0.5557 - loss: 0.6920 - val_accuracy: 0.5477 - val_loss: 0.7065\n",
      "Epoch 18/150\n",
      "\u001b[1m350/350\u001b[0m \u001b[32m━━━━━━━━━━━━━━━━━━━━\u001b[0m\u001b[37m\u001b[0m \u001b[1m1s\u001b[0m 4ms/step - accuracy: 0.5676 - loss: 0.6863 - val_accuracy: 0.5523 - val_loss: 0.7036\n",
      "Epoch 19/150\n",
      "\u001b[1m350/350\u001b[0m \u001b[32m━━━━━━━━━━━━━━━━━━━━\u001b[0m\u001b[37m\u001b[0m \u001b[1m2s\u001b[0m 5ms/step - accuracy: 0.5692 - loss: 0.6874 - val_accuracy: 0.5570 - val_loss: 0.7008\n",
      "Epoch 20/150\n",
      "\u001b[1m350/350\u001b[0m \u001b[32m━━━━━━━━━━━━━━━━━━━━\u001b[0m\u001b[37m\u001b[0m \u001b[1m1s\u001b[0m 4ms/step - accuracy: 0.5702 - loss: 0.6798 - val_accuracy: 0.5616 - val_loss: 0.6985\n",
      "Epoch 21/150\n",
      "\u001b[1m350/350\u001b[0m \u001b[32m━━━━━━━━━━━━━━━━━━━━\u001b[0m\u001b[37m\u001b[0m \u001b[1m2s\u001b[0m 5ms/step - accuracy: 0.5698 - loss: 0.6805 - val_accuracy: 0.5645 - val_loss: 0.6969\n",
      "Epoch 22/150\n",
      "\u001b[1m350/350\u001b[0m \u001b[32m━━━━━━━━━━━━━━━━━━━━\u001b[0m\u001b[37m\u001b[0m \u001b[1m2s\u001b[0m 5ms/step - accuracy: 0.5774 - loss: 0.6779 - val_accuracy: 0.5681 - val_loss: 0.6945\n",
      "Epoch 23/150\n",
      "\u001b[1m350/350\u001b[0m \u001b[32m━━━━━━━━━━━━━━━━━━━━\u001b[0m\u001b[37m\u001b[0m \u001b[1m2s\u001b[0m 4ms/step - accuracy: 0.5882 - loss: 0.6738 - val_accuracy: 0.5706 - val_loss: 0.6932\n",
      "Epoch 24/150\n",
      "\u001b[1m350/350\u001b[0m \u001b[32m━━━━━━━━━━━━━━━━━━━━\u001b[0m\u001b[37m\u001b[0m \u001b[1m2s\u001b[0m 7ms/step - accuracy: 0.5874 - loss: 0.6702 - val_accuracy: 0.5734 - val_loss: 0.6919\n",
      "Epoch 25/150\n",
      "\u001b[1m350/350\u001b[0m \u001b[32m━━━━━━━━━━━━━━━━━━━━\u001b[0m\u001b[37m\u001b[0m \u001b[1m2s\u001b[0m 6ms/step - accuracy: 0.5916 - loss: 0.6696 - val_accuracy: 0.5756 - val_loss: 0.6907\n",
      "Epoch 26/150\n",
      "\u001b[1m350/350\u001b[0m \u001b[32m━━━━━━━━━━━━━━━━━━━━\u001b[0m\u001b[37m\u001b[0m \u001b[1m2s\u001b[0m 5ms/step - accuracy: 0.5896 - loss: 0.6713 - val_accuracy: 0.5784 - val_loss: 0.6891\n",
      "Epoch 27/150\n",
      "\u001b[1m350/350\u001b[0m \u001b[32m━━━━━━━━━━━━━━━━━━━━\u001b[0m\u001b[37m\u001b[0m \u001b[1m2s\u001b[0m 6ms/step - accuracy: 0.5956 - loss: 0.6699 - val_accuracy: 0.5770 - val_loss: 0.6880\n",
      "Epoch 28/150\n",
      "\u001b[1m350/350\u001b[0m \u001b[32m━━━━━━━━━━━━━━━━━━━━\u001b[0m\u001b[37m\u001b[0m \u001b[1m2s\u001b[0m 5ms/step - accuracy: 0.5999 - loss: 0.6619 - val_accuracy: 0.5781 - val_loss: 0.6871\n",
      "Epoch 29/150\n",
      "\u001b[1m350/350\u001b[0m \u001b[32m━━━━━━━━━━━━━━━━━━━━\u001b[0m\u001b[37m\u001b[0m \u001b[1m2s\u001b[0m 6ms/step - accuracy: 0.6018 - loss: 0.6648 - val_accuracy: 0.5788 - val_loss: 0.6865\n",
      "Epoch 30/150\n",
      "\u001b[1m350/350\u001b[0m \u001b[32m━━━━━━━━━━━━━━━━━━━━\u001b[0m\u001b[37m\u001b[0m \u001b[1m2s\u001b[0m 6ms/step - accuracy: 0.6047 - loss: 0.6597 - val_accuracy: 0.5763 - val_loss: 0.6868\n",
      "Epoch 31/150\n",
      "\u001b[1m350/350\u001b[0m \u001b[32m━━━━━━━━━━━━━━━━━━━━\u001b[0m\u001b[37m\u001b[0m \u001b[1m2s\u001b[0m 6ms/step - accuracy: 0.5995 - loss: 0.6623 - val_accuracy: 0.5763 - val_loss: 0.6857\n",
      "Epoch 32/150\n",
      "\u001b[1m350/350\u001b[0m \u001b[32m━━━━━━━━━━━━━━━━━━━━\u001b[0m\u001b[37m\u001b[0m \u001b[1m2s\u001b[0m 6ms/step - accuracy: 0.5985 - loss: 0.6604 - val_accuracy: 0.5745 - val_loss: 0.6847\n",
      "Epoch 33/150\n",
      "\u001b[1m350/350\u001b[0m \u001b[32m━━━━━━━━━━━━━━━━━━━━\u001b[0m\u001b[37m\u001b[0m \u001b[1m2s\u001b[0m 7ms/step - accuracy: 0.5970 - loss: 0.6602 - val_accuracy: 0.5748 - val_loss: 0.6845\n",
      "Epoch 34/150\n",
      "\u001b[1m350/350\u001b[0m \u001b[32m━━━━━━━━━━━━━━━━━━━━\u001b[0m\u001b[37m\u001b[0m \u001b[1m2s\u001b[0m 6ms/step - accuracy: 0.6079 - loss: 0.6603 - val_accuracy: 0.5745 - val_loss: 0.6837\n",
      "Epoch 35/150\n",
      "\u001b[1m350/350\u001b[0m \u001b[32m━━━━━━━━━━━━━━━━━━━━\u001b[0m\u001b[37m\u001b[0m \u001b[1m2s\u001b[0m 6ms/step - accuracy: 0.6013 - loss: 0.6623 - val_accuracy: 0.5770 - val_loss: 0.6833\n",
      "Epoch 36/150\n",
      "\u001b[1m350/350\u001b[0m \u001b[32m━━━━━━━━━━━━━━━━━━━━\u001b[0m\u001b[37m\u001b[0m \u001b[1m2s\u001b[0m 6ms/step - accuracy: 0.5924 - loss: 0.6648 - val_accuracy: 0.5777 - val_loss: 0.6828\n",
      "Epoch 37/150\n",
      "\u001b[1m350/350\u001b[0m \u001b[32m━━━━━━━━━━━━━━━━━━━━\u001b[0m\u001b[37m\u001b[0m \u001b[1m2s\u001b[0m 7ms/step - accuracy: 0.6015 - loss: 0.6613 - val_accuracy: 0.5791 - val_loss: 0.6830\n",
      "Epoch 38/150\n",
      "\u001b[1m350/350\u001b[0m \u001b[32m━━━━━━━━━━━━━━━━━━━━\u001b[0m\u001b[37m\u001b[0m \u001b[1m2s\u001b[0m 6ms/step - accuracy: 0.6042 - loss: 0.6558 - val_accuracy: 0.5784 - val_loss: 0.6822\n",
      "Epoch 39/150\n",
      "\u001b[1m350/350\u001b[0m \u001b[32m━━━━━━━━━━━━━━━━━━━━\u001b[0m\u001b[37m\u001b[0m \u001b[1m3s\u001b[0m 8ms/step - accuracy: 0.6008 - loss: 0.6578 - val_accuracy: 0.5773 - val_loss: 0.6816\n",
      "Epoch 40/150\n",
      "\u001b[1m350/350\u001b[0m \u001b[32m━━━━━━━━━━━━━━━━━━━━\u001b[0m\u001b[37m\u001b[0m \u001b[1m3s\u001b[0m 7ms/step - accuracy: 0.6010 - loss: 0.6565 - val_accuracy: 0.5806 - val_loss: 0.6814\n",
      "Epoch 41/150\n",
      "\u001b[1m350/350\u001b[0m \u001b[32m━━━━━━━━━━━━━━━━━━━━\u001b[0m\u001b[37m\u001b[0m \u001b[1m2s\u001b[0m 7ms/step - accuracy: 0.6059 - loss: 0.6544 - val_accuracy: 0.5791 - val_loss: 0.6817\n",
      "Epoch 42/150\n",
      "\u001b[1m350/350\u001b[0m \u001b[32m━━━━━━━━━━━━━━━━━━━━\u001b[0m\u001b[37m\u001b[0m \u001b[1m3s\u001b[0m 8ms/step - accuracy: 0.6027 - loss: 0.6541 - val_accuracy: 0.5802 - val_loss: 0.6809\n",
      "Epoch 43/150\n",
      "\u001b[1m350/350\u001b[0m \u001b[32m━━━━━━━━━━━━━━━━━━━━\u001b[0m\u001b[37m\u001b[0m \u001b[1m3s\u001b[0m 8ms/step - accuracy: 0.6032 - loss: 0.6556 - val_accuracy: 0.5791 - val_loss: 0.6809\n",
      "Epoch 44/150\n",
      "\u001b[1m350/350\u001b[0m \u001b[32m━━━━━━━━━━━━━━━━━━━━\u001b[0m\u001b[37m\u001b[0m \u001b[1m3s\u001b[0m 8ms/step - accuracy: 0.6105 - loss: 0.6529 - val_accuracy: 0.5791 - val_loss: 0.6802\n",
      "Epoch 45/150\n",
      "\u001b[1m350/350\u001b[0m \u001b[32m━━━━━━━━━━━━━━━━━━━━\u001b[0m\u001b[37m\u001b[0m \u001b[1m3s\u001b[0m 7ms/step - accuracy: 0.6051 - loss: 0.6545 - val_accuracy: 0.5795 - val_loss: 0.6799\n",
      "Epoch 46/150\n",
      "\u001b[1m350/350\u001b[0m \u001b[32m━━━━━━━━━━━━━━━━━━━━\u001b[0m\u001b[37m\u001b[0m \u001b[1m3s\u001b[0m 8ms/step - accuracy: 0.6109 - loss: 0.6543 - val_accuracy: 0.5795 - val_loss: 0.6803\n",
      "Epoch 47/150\n",
      "\u001b[1m350/350\u001b[0m \u001b[32m━━━━━━━━━━━━━━━━━━━━\u001b[0m\u001b[37m\u001b[0m \u001b[1m3s\u001b[0m 8ms/step - accuracy: 0.6064 - loss: 0.6564 - val_accuracy: 0.5798 - val_loss: 0.6799\n",
      "Epoch 48/150\n",
      "\u001b[1m350/350\u001b[0m \u001b[32m━━━━━━━━━━━━━━━━━━━━\u001b[0m\u001b[37m\u001b[0m \u001b[1m3s\u001b[0m 8ms/step - accuracy: 0.6103 - loss: 0.6533 - val_accuracy: 0.5795 - val_loss: 0.6796\n",
      "Epoch 49/150\n",
      "\u001b[1m350/350\u001b[0m \u001b[32m━━━━━━━━━━━━━━━━━━━━\u001b[0m\u001b[37m\u001b[0m \u001b[1m3s\u001b[0m 7ms/step - accuracy: 0.6077 - loss: 0.6540 - val_accuracy: 0.5852 - val_loss: 0.6793\n",
      "Epoch 50/150\n",
      "\u001b[1m350/350\u001b[0m \u001b[32m━━━━━━━━━━━━━━━━━━━━\u001b[0m\u001b[37m\u001b[0m \u001b[1m3s\u001b[0m 8ms/step - accuracy: 0.6076 - loss: 0.6542 - val_accuracy: 0.5845 - val_loss: 0.6789\n",
      "Epoch 51/150\n",
      "\u001b[1m350/350\u001b[0m \u001b[32m━━━━━━━━━━━━━━━━━━━━\u001b[0m\u001b[37m\u001b[0m \u001b[1m3s\u001b[0m 7ms/step - accuracy: 0.6082 - loss: 0.6541 - val_accuracy: 0.5834 - val_loss: 0.6790\n",
      "Epoch 52/150\n",
      "\u001b[1m350/350\u001b[0m \u001b[32m━━━━━━━━━━━━━━━━━━━━\u001b[0m\u001b[37m\u001b[0m \u001b[1m3s\u001b[0m 10ms/step - accuracy: 0.6145 - loss: 0.6488 - val_accuracy: 0.5874 - val_loss: 0.6792\n",
      "Epoch 53/150\n",
      "\u001b[1m350/350\u001b[0m \u001b[32m━━━━━━━━━━━━━━━━━━━━\u001b[0m\u001b[37m\u001b[0m \u001b[1m5s\u001b[0m 9ms/step - accuracy: 0.6123 - loss: 0.6514 - val_accuracy: 0.5834 - val_loss: 0.6786\n",
      "Epoch 54/150\n",
      "\u001b[1m350/350\u001b[0m \u001b[32m━━━━━━━━━━━━━━━━━━━━\u001b[0m\u001b[37m\u001b[0m \u001b[1m3s\u001b[0m 9ms/step - accuracy: 0.6120 - loss: 0.6537 - val_accuracy: 0.5852 - val_loss: 0.6785\n",
      "Epoch 55/150\n",
      "\u001b[1m350/350\u001b[0m \u001b[32m━━━━━━━━━━━━━━━━━━━━\u001b[0m\u001b[37m\u001b[0m \u001b[1m6s\u001b[0m 12ms/step - accuracy: 0.6175 - loss: 0.6520 - val_accuracy: 0.5852 - val_loss: 0.6784\n",
      "Epoch 56/150\n",
      "\u001b[1m350/350\u001b[0m \u001b[32m━━━━━━━━━━━━━━━━━━━━\u001b[0m\u001b[37m\u001b[0m \u001b[1m5s\u001b[0m 11ms/step - accuracy: 0.6134 - loss: 0.6526 - val_accuracy: 0.5856 - val_loss: 0.6778\n",
      "Epoch 57/150\n",
      "\u001b[1m350/350\u001b[0m \u001b[32m━━━━━━━━━━━━━━━━━━━━\u001b[0m\u001b[37m\u001b[0m \u001b[1m4s\u001b[0m 11ms/step - accuracy: 0.6141 - loss: 0.6500 - val_accuracy: 0.5841 - val_loss: 0.6784\n",
      "Epoch 58/150\n",
      "\u001b[1m350/350\u001b[0m \u001b[32m━━━━━━━━━━━━━━━━━━━━\u001b[0m\u001b[37m\u001b[0m \u001b[1m5s\u001b[0m 11ms/step - accuracy: 0.6095 - loss: 0.6516 - val_accuracy: 0.5831 - val_loss: 0.6780\n",
      "Epoch 59/150\n",
      "\u001b[1m350/350\u001b[0m \u001b[32m━━━━━━━━━━━━━━━━━━━━\u001b[0m\u001b[37m\u001b[0m \u001b[1m4s\u001b[0m 10ms/step - accuracy: 0.6116 - loss: 0.6514 - val_accuracy: 0.5852 - val_loss: 0.6784\n",
      "Epoch 60/150\n",
      "\u001b[1m350/350\u001b[0m \u001b[32m━━━━━━━━━━━━━━━━━━━━\u001b[0m\u001b[37m\u001b[0m \u001b[1m3s\u001b[0m 9ms/step - accuracy: 0.6148 - loss: 0.6488 - val_accuracy: 0.5831 - val_loss: 0.6780\n",
      "Epoch 61/150\n",
      "\u001b[1m350/350\u001b[0m \u001b[32m━━━━━━━━━━━━━━━━━━━━\u001b[0m\u001b[37m\u001b[0m \u001b[1m3s\u001b[0m 8ms/step - accuracy: 0.6075 - loss: 0.6538 - val_accuracy: 0.5806 - val_loss: 0.6777\n",
      "Epoch 62/150\n",
      "\u001b[1m350/350\u001b[0m \u001b[32m━━━━━━━━━━━━━━━━━━━━\u001b[0m\u001b[37m\u001b[0m \u001b[1m3s\u001b[0m 9ms/step - accuracy: 0.6060 - loss: 0.6538 - val_accuracy: 0.5831 - val_loss: 0.6774\n",
      "Epoch 63/150\n",
      "\u001b[1m350/350\u001b[0m \u001b[32m━━━━━━━━━━━━━━━━━━━━\u001b[0m\u001b[37m\u001b[0m \u001b[1m4s\u001b[0m 11ms/step - accuracy: 0.6114 - loss: 0.6497 - val_accuracy: 0.5845 - val_loss: 0.6775\n",
      "Epoch 64/150\n",
      "\u001b[1m350/350\u001b[0m \u001b[32m━━━━━━━━━━━━━━━━━━━━\u001b[0m\u001b[37m\u001b[0m \u001b[1m3s\u001b[0m 8ms/step - accuracy: 0.6131 - loss: 0.6521 - val_accuracy: 0.5838 - val_loss: 0.6773\n",
      "Epoch 65/150\n",
      "\u001b[1m350/350\u001b[0m \u001b[32m━━━━━━━━━━━━━━━━━━━━\u001b[0m\u001b[37m\u001b[0m \u001b[1m3s\u001b[0m 9ms/step - accuracy: 0.6077 - loss: 0.6515 - val_accuracy: 0.5831 - val_loss: 0.6775\n",
      "Epoch 66/150\n",
      "\u001b[1m350/350\u001b[0m \u001b[32m━━━━━━━━━━━━━━━━━━━━\u001b[0m\u001b[37m\u001b[0m \u001b[1m3s\u001b[0m 8ms/step - accuracy: 0.6116 - loss: 0.6545 - val_accuracy: 0.5816 - val_loss: 0.6773\n",
      "Epoch 67/150\n",
      "\u001b[1m350/350\u001b[0m \u001b[32m━━━━━━━━━━━━━━━━━━━━\u001b[0m\u001b[37m\u001b[0m \u001b[1m5s\u001b[0m 7ms/step - accuracy: 0.6136 - loss: 0.6476 - val_accuracy: 0.5834 - val_loss: 0.6774\n",
      "Epoch 68/150\n",
      "\u001b[1m350/350\u001b[0m \u001b[32m━━━━━━━━━━━━━━━━━━━━\u001b[0m\u001b[37m\u001b[0m \u001b[1m4s\u001b[0m 10ms/step - accuracy: 0.6150 - loss: 0.6467 - val_accuracy: 0.5834 - val_loss: 0.6776\n",
      "Epoch 69/150\n",
      "\u001b[1m350/350\u001b[0m \u001b[32m━━━━━━━━━━━━━━━━━━━━\u001b[0m\u001b[37m\u001b[0m \u001b[1m5s\u001b[0m 8ms/step - accuracy: 0.6055 - loss: 0.6557 - val_accuracy: 0.5802 - val_loss: 0.6771\n",
      "Epoch 70/150\n",
      "\u001b[1m350/350\u001b[0m \u001b[32m━━━━━━━━━━━━━━━━━━━━\u001b[0m\u001b[37m\u001b[0m \u001b[1m3s\u001b[0m 8ms/step - accuracy: 0.6063 - loss: 0.6522 - val_accuracy: 0.5820 - val_loss: 0.6770\n",
      "Epoch 71/150\n",
      "\u001b[1m350/350\u001b[0m \u001b[32m━━━━━━━━━━━━━━━━━━━━\u001b[0m\u001b[37m\u001b[0m \u001b[1m3s\u001b[0m 8ms/step - accuracy: 0.6009 - loss: 0.6518 - val_accuracy: 0.5816 - val_loss: 0.6771\n",
      "Epoch 72/150\n",
      "\u001b[1m350/350\u001b[0m \u001b[32m━━━━━━━━━━━━━━━━━━━━\u001b[0m\u001b[37m\u001b[0m \u001b[1m4s\u001b[0m 10ms/step - accuracy: 0.6172 - loss: 0.6461 - val_accuracy: 0.5813 - val_loss: 0.6774\n",
      "Epoch 73/150\n",
      "\u001b[1m350/350\u001b[0m \u001b[32m━━━━━━━━━━━━━━━━━━━━\u001b[0m\u001b[37m\u001b[0m \u001b[1m3s\u001b[0m 9ms/step - accuracy: 0.6145 - loss: 0.6475 - val_accuracy: 0.5824 - val_loss: 0.6772\n",
      "Epoch 74/150\n",
      "\u001b[1m350/350\u001b[0m \u001b[32m━━━━━━━━━━━━━━━━━━━━\u001b[0m\u001b[37m\u001b[0m \u001b[1m3s\u001b[0m 9ms/step - accuracy: 0.6084 - loss: 0.6500 - val_accuracy: 0.5809 - val_loss: 0.6768\n",
      "Epoch 75/150\n",
      "\u001b[1m350/350\u001b[0m \u001b[32m━━━━━━━━━━━━━━━━━━━━\u001b[0m\u001b[37m\u001b[0m \u001b[1m3s\u001b[0m 8ms/step - accuracy: 0.6076 - loss: 0.6514 - val_accuracy: 0.5809 - val_loss: 0.6767\n",
      "Epoch 76/150\n",
      "\u001b[1m350/350\u001b[0m \u001b[32m━━━━━━━━━━━━━━━━━━━━\u001b[0m\u001b[37m\u001b[0m \u001b[1m3s\u001b[0m 7ms/step - accuracy: 0.5969 - loss: 0.6546 - val_accuracy: 0.5820 - val_loss: 0.6766\n",
      "Epoch 77/150\n",
      "\u001b[1m350/350\u001b[0m \u001b[32m━━━━━━━━━━━━━━━━━━━━\u001b[0m\u001b[37m\u001b[0m \u001b[1m5s\u001b[0m 8ms/step - accuracy: 0.6151 - loss: 0.6471 - val_accuracy: 0.5816 - val_loss: 0.6765\n",
      "Epoch 78/150\n",
      "\u001b[1m350/350\u001b[0m \u001b[32m━━━━━━━━━━━━━━━━━━━━\u001b[0m\u001b[37m\u001b[0m \u001b[1m3s\u001b[0m 8ms/step - accuracy: 0.6039 - loss: 0.6511 - val_accuracy: 0.5813 - val_loss: 0.6769\n",
      "Epoch 79/150\n",
      "\u001b[1m350/350\u001b[0m \u001b[32m━━━━━━━━━━━━━━━━━━━━\u001b[0m\u001b[37m\u001b[0m \u001b[1m3s\u001b[0m 8ms/step - accuracy: 0.6132 - loss: 0.6457 - val_accuracy: 0.5802 - val_loss: 0.6766\n",
      "Epoch 80/150\n",
      "\u001b[1m350/350\u001b[0m \u001b[32m━━━━━━━━━━━━━━━━━━━━\u001b[0m\u001b[37m\u001b[0m \u001b[1m3s\u001b[0m 8ms/step - accuracy: 0.6090 - loss: 0.6521 - val_accuracy: 0.5827 - val_loss: 0.6765\n",
      "Epoch 81/150\n",
      "\u001b[1m350/350\u001b[0m \u001b[32m━━━━━━━━━━━━━━━━━━━━\u001b[0m\u001b[37m\u001b[0m \u001b[1m4s\u001b[0m 11ms/step - accuracy: 0.6131 - loss: 0.6470 - val_accuracy: 0.5834 - val_loss: 0.6764\n",
      "Epoch 82/150\n",
      "\u001b[1m350/350\u001b[0m \u001b[32m━━━━━━━━━━━━━━━━━━━━\u001b[0m\u001b[37m\u001b[0m \u001b[1m3s\u001b[0m 9ms/step - accuracy: 0.6135 - loss: 0.6475 - val_accuracy: 0.5795 - val_loss: 0.6766\n",
      "Epoch 83/150\n",
      "\u001b[1m350/350\u001b[0m \u001b[32m━━━━━━━━━━━━━━━━━━━━\u001b[0m\u001b[37m\u001b[0m \u001b[1m3s\u001b[0m 9ms/step - accuracy: 0.6101 - loss: 0.6518 - val_accuracy: 0.5802 - val_loss: 0.6768\n",
      "Epoch 84/150\n",
      "\u001b[1m350/350\u001b[0m \u001b[32m━━━━━━━━━━━━━━━━━━━━\u001b[0m\u001b[37m\u001b[0m \u001b[1m3s\u001b[0m 9ms/step - accuracy: 0.6161 - loss: 0.6466 - val_accuracy: 0.5806 - val_loss: 0.6766\n",
      "Epoch 85/150\n",
      "\u001b[1m350/350\u001b[0m \u001b[32m━━━━━━━━━━━━━━━━━━━━\u001b[0m\u001b[37m\u001b[0m \u001b[1m3s\u001b[0m 9ms/step - accuracy: 0.6088 - loss: 0.6523 - val_accuracy: 0.5802 - val_loss: 0.6763\n",
      "Epoch 86/150\n",
      "\u001b[1m350/350\u001b[0m \u001b[32m━━━━━━━━━━━━━━━━━━━━\u001b[0m\u001b[37m\u001b[0m \u001b[1m3s\u001b[0m 9ms/step - accuracy: 0.6191 - loss: 0.6462 - val_accuracy: 0.5809 - val_loss: 0.6764\n",
      "Epoch 87/150\n",
      "\u001b[1m350/350\u001b[0m \u001b[32m━━━━━━━━━━━━━━━━━━━━\u001b[0m\u001b[37m\u001b[0m \u001b[1m4s\u001b[0m 10ms/step - accuracy: 0.6088 - loss: 0.6495 - val_accuracy: 0.5791 - val_loss: 0.6765\n",
      "Epoch 88/150\n",
      "\u001b[1m350/350\u001b[0m \u001b[32m━━━━━━━━━━━━━━━━━━━━\u001b[0m\u001b[37m\u001b[0m \u001b[1m3s\u001b[0m 9ms/step - accuracy: 0.6170 - loss: 0.6451 - val_accuracy: 0.5802 - val_loss: 0.6765\n",
      "Epoch 89/150\n",
      "\u001b[1m350/350\u001b[0m \u001b[32m━━━━━━━━━━━━━━━━━━━━\u001b[0m\u001b[37m\u001b[0m \u001b[1m3s\u001b[0m 9ms/step - accuracy: 0.6096 - loss: 0.6498 - val_accuracy: 0.5816 - val_loss: 0.6762\n",
      "Epoch 90/150\n",
      "\u001b[1m350/350\u001b[0m \u001b[32m━━━━━━━━━━━━━━━━━━━━\u001b[0m\u001b[37m\u001b[0m \u001b[1m3s\u001b[0m 9ms/step - accuracy: 0.6064 - loss: 0.6502 - val_accuracy: 0.5809 - val_loss: 0.6765\n",
      "Epoch 91/150\n",
      "\u001b[1m350/350\u001b[0m \u001b[32m━━━━━━━━━━━━━━━━━━━━\u001b[0m\u001b[37m\u001b[0m \u001b[1m4s\u001b[0m 10ms/step - accuracy: 0.6077 - loss: 0.6500 - val_accuracy: 0.5802 - val_loss: 0.6762\n",
      "Epoch 92/150\n",
      "\u001b[1m350/350\u001b[0m \u001b[32m━━━━━━━━━━━━━━━━━━━━\u001b[0m\u001b[37m\u001b[0m \u001b[1m5s\u001b[0m 9ms/step - accuracy: 0.6077 - loss: 0.6493 - val_accuracy: 0.5813 - val_loss: 0.6762\n",
      "Epoch 93/150\n",
      "\u001b[1m350/350\u001b[0m \u001b[32m━━━━━━━━━━━━━━━━━━━━\u001b[0m\u001b[37m\u001b[0m \u001b[1m3s\u001b[0m 9ms/step - accuracy: 0.6081 - loss: 0.6513 - val_accuracy: 0.5813 - val_loss: 0.6762\n",
      "Epoch 94/150\n",
      "\u001b[1m350/350\u001b[0m \u001b[32m━━━━━━━━━━━━━━━━━━━━\u001b[0m\u001b[37m\u001b[0m \u001b[1m4s\u001b[0m 10ms/step - accuracy: 0.6035 - loss: 0.6512 - val_accuracy: 0.5784 - val_loss: 0.6763\n",
      "Epoch 95/150\n",
      "\u001b[1m350/350\u001b[0m \u001b[32m━━━━━━━━━━━━━━━━━━━━\u001b[0m\u001b[37m\u001b[0m \u001b[1m3s\u001b[0m 8ms/step - accuracy: 0.6178 - loss: 0.6466 - val_accuracy: 0.5791 - val_loss: 0.6762\n",
      "Epoch 96/150\n",
      "\u001b[1m350/350\u001b[0m \u001b[32m━━━━━━━━━━━━━━━━━━━━\u001b[0m\u001b[37m\u001b[0m \u001b[1m4s\u001b[0m 10ms/step - accuracy: 0.6136 - loss: 0.6498 - val_accuracy: 0.5802 - val_loss: 0.6759\n",
      "Epoch 97/150\n",
      "\u001b[1m350/350\u001b[0m \u001b[32m━━━━━━━━━━━━━━━━━━━━\u001b[0m\u001b[37m\u001b[0m \u001b[1m3s\u001b[0m 8ms/step - accuracy: 0.6107 - loss: 0.6489 - val_accuracy: 0.5791 - val_loss: 0.6761\n",
      "Epoch 98/150\n",
      "\u001b[1m350/350\u001b[0m \u001b[32m━━━━━━━━━━━━━━━━━━━━\u001b[0m\u001b[37m\u001b[0m \u001b[1m5s\u001b[0m 9ms/step - accuracy: 0.6161 - loss: 0.6453 - val_accuracy: 0.5791 - val_loss: 0.6764\n",
      "Epoch 99/150\n",
      "\u001b[1m350/350\u001b[0m \u001b[32m━━━━━━━━━━━━━━━━━━━━\u001b[0m\u001b[37m\u001b[0m \u001b[1m3s\u001b[0m 8ms/step - accuracy: 0.6239 - loss: 0.6426 - val_accuracy: 0.5777 - val_loss: 0.6760\n",
      "Epoch 100/150\n",
      "\u001b[1m350/350\u001b[0m \u001b[32m━━━━━━━━━━━━━━━━━━━━\u001b[0m\u001b[37m\u001b[0m \u001b[1m3s\u001b[0m 8ms/step - accuracy: 0.6148 - loss: 0.6476 - val_accuracy: 0.5798 - val_loss: 0.6759\n",
      "Epoch 101/150\n",
      "\u001b[1m350/350\u001b[0m \u001b[32m━━━━━━━━━━━━━━━━━━━━\u001b[0m\u001b[37m\u001b[0m \u001b[1m3s\u001b[0m 7ms/step - accuracy: 0.6109 - loss: 0.6482 - val_accuracy: 0.5813 - val_loss: 0.6761\n",
      "Epoch 102/150\n",
      "\u001b[1m350/350\u001b[0m \u001b[32m━━━━━━━━━━━━━━━━━━━━\u001b[0m\u001b[37m\u001b[0m \u001b[1m3s\u001b[0m 7ms/step - accuracy: 0.6092 - loss: 0.6519 - val_accuracy: 0.5813 - val_loss: 0.6759\n",
      "Epoch 103/150\n",
      "\u001b[1m350/350\u001b[0m \u001b[32m━━━━━━━━━━━━━━━━━━━━\u001b[0m\u001b[37m\u001b[0m \u001b[1m4s\u001b[0m 10ms/step - accuracy: 0.6126 - loss: 0.6522 - val_accuracy: 0.5763 - val_loss: 0.6765\n",
      "Epoch 104/150\n",
      "\u001b[1m350/350\u001b[0m \u001b[32m━━━━━━━━━━━━━━━━━━━━\u001b[0m\u001b[37m\u001b[0m \u001b[1m3s\u001b[0m 9ms/step - accuracy: 0.6130 - loss: 0.6544 - val_accuracy: 0.5791 - val_loss: 0.6768\n",
      "Epoch 105/150\n",
      "\u001b[1m350/350\u001b[0m \u001b[32m━━━━━━━━━━━━━━━━━━━━\u001b[0m\u001b[37m\u001b[0m \u001b[1m4s\u001b[0m 7ms/step - accuracy: 0.6142 - loss: 0.6485 - val_accuracy: 0.5806 - val_loss: 0.6761\n",
      "Epoch 106/150\n",
      "\u001b[1m350/350\u001b[0m \u001b[32m━━━━━━━━━━━━━━━━━━━━\u001b[0m\u001b[37m\u001b[0m \u001b[1m3s\u001b[0m 8ms/step - accuracy: 0.6229 - loss: 0.6468 - val_accuracy: 0.5791 - val_loss: 0.6755\n",
      "Epoch 107/150\n",
      "\u001b[1m350/350\u001b[0m \u001b[32m━━━━━━━━━━━━━━━━━━━━\u001b[0m\u001b[37m\u001b[0m \u001b[1m2s\u001b[0m 6ms/step - accuracy: 0.6023 - loss: 0.6541 - val_accuracy: 0.5795 - val_loss: 0.6758\n",
      "Epoch 108/150\n",
      "\u001b[1m350/350\u001b[0m \u001b[32m━━━━━━━━━━━━━━━━━━━━\u001b[0m\u001b[37m\u001b[0m \u001b[1m3s\u001b[0m 7ms/step - accuracy: 0.6094 - loss: 0.6506 - val_accuracy: 0.5791 - val_loss: 0.6757\n",
      "Epoch 109/150\n",
      "\u001b[1m350/350\u001b[0m \u001b[32m━━━━━━━━━━━━━━━━━━━━\u001b[0m\u001b[37m\u001b[0m \u001b[1m3s\u001b[0m 8ms/step - accuracy: 0.6103 - loss: 0.6495 - val_accuracy: 0.5795 - val_loss: 0.6760\n",
      "Epoch 110/150\n",
      "\u001b[1m350/350\u001b[0m \u001b[32m━━━━━━━━━━━━━━━━━━━━\u001b[0m\u001b[37m\u001b[0m \u001b[1m5s\u001b[0m 8ms/step - accuracy: 0.6122 - loss: 0.6450 - val_accuracy: 0.5784 - val_loss: 0.6762\n",
      "Epoch 111/150\n",
      "\u001b[1m350/350\u001b[0m \u001b[32m━━━━━━━━━━━━━━━━━━━━\u001b[0m\u001b[37m\u001b[0m \u001b[1m3s\u001b[0m 7ms/step - accuracy: 0.6142 - loss: 0.6456 - val_accuracy: 0.5806 - val_loss: 0.6754\n",
      "Epoch 112/150\n",
      "\u001b[1m350/350\u001b[0m \u001b[32m━━━━━━━━━━━━━━━━━━━━\u001b[0m\u001b[37m\u001b[0m \u001b[1m3s\u001b[0m 8ms/step - accuracy: 0.6186 - loss: 0.6436 - val_accuracy: 0.5824 - val_loss: 0.6755\n",
      "Epoch 113/150\n",
      "\u001b[1m350/350\u001b[0m \u001b[32m━━━━━━━━━━━━━━━━━━━━\u001b[0m\u001b[37m\u001b[0m \u001b[1m3s\u001b[0m 8ms/step - accuracy: 0.6186 - loss: 0.6452 - val_accuracy: 0.5809 - val_loss: 0.6756\n",
      "Epoch 114/150\n",
      "\u001b[1m350/350\u001b[0m \u001b[32m━━━━━━━━━━━━━━━━━━━━\u001b[0m\u001b[37m\u001b[0m \u001b[1m3s\u001b[0m 7ms/step - accuracy: 0.6088 - loss: 0.6484 - val_accuracy: 0.5827 - val_loss: 0.6757\n",
      "Epoch 115/150\n",
      "\u001b[1m350/350\u001b[0m \u001b[32m━━━━━━━━━━━━━━━━━━━━\u001b[0m\u001b[37m\u001b[0m \u001b[1m3s\u001b[0m 8ms/step - accuracy: 0.6142 - loss: 0.6486 - val_accuracy: 0.5791 - val_loss: 0.6759\n",
      "Epoch 116/150\n",
      "\u001b[1m350/350\u001b[0m \u001b[32m━━━━━━━━━━━━━━━━━━━━\u001b[0m\u001b[37m\u001b[0m \u001b[1m3s\u001b[0m 7ms/step - accuracy: 0.6176 - loss: 0.6442 - val_accuracy: 0.5806 - val_loss: 0.6754\n",
      "Epoch 117/150\n",
      "\u001b[1m350/350\u001b[0m \u001b[32m━━━━━━━━━━━━━━━━━━━━\u001b[0m\u001b[37m\u001b[0m \u001b[1m3s\u001b[0m 8ms/step - accuracy: 0.6149 - loss: 0.6454 - val_accuracy: 0.5784 - val_loss: 0.6756\n",
      "Epoch 118/150\n",
      "\u001b[1m350/350\u001b[0m \u001b[32m━━━━━━━━━━━━━━━━━━━━\u001b[0m\u001b[37m\u001b[0m \u001b[1m1s\u001b[0m 3ms/step - accuracy: 0.6146 - loss: 0.6460 - val_accuracy: 0.5784 - val_loss: 0.6752\n",
      "Epoch 119/150\n",
      "\u001b[1m350/350\u001b[0m \u001b[32m━━━━━━━━━━━━━━━━━━━━\u001b[0m\u001b[37m\u001b[0m \u001b[1m1s\u001b[0m 3ms/step - accuracy: 0.6204 - loss: 0.6442 - val_accuracy: 0.5795 - val_loss: 0.6755\n",
      "Epoch 120/150\n",
      "\u001b[1m350/350\u001b[0m \u001b[32m━━━━━━━━━━━━━━━━━━━━\u001b[0m\u001b[37m\u001b[0m \u001b[1m1s\u001b[0m 3ms/step - accuracy: 0.6133 - loss: 0.6461 - val_accuracy: 0.5802 - val_loss: 0.6754\n",
      "Epoch 121/150\n",
      "\u001b[1m350/350\u001b[0m \u001b[32m━━━━━━━━━━━━━━━━━━━━\u001b[0m\u001b[37m\u001b[0m \u001b[1m1s\u001b[0m 3ms/step - accuracy: 0.6136 - loss: 0.6485 - val_accuracy: 0.5798 - val_loss: 0.6757\n",
      "Epoch 122/150\n",
      "\u001b[1m350/350\u001b[0m \u001b[32m━━━━━━━━━━━━━━━━━━━━\u001b[0m\u001b[37m\u001b[0m \u001b[1m1s\u001b[0m 3ms/step - accuracy: 0.6157 - loss: 0.6473 - val_accuracy: 0.5777 - val_loss: 0.6755\n",
      "Epoch 123/150\n",
      "\u001b[1m350/350\u001b[0m \u001b[32m━━━━━━━━━━━━━━━━━━━━\u001b[0m\u001b[37m\u001b[0m \u001b[1m1s\u001b[0m 3ms/step - accuracy: 0.6086 - loss: 0.6497 - val_accuracy: 0.5802 - val_loss: 0.6753\n",
      "Epoch 124/150\n",
      "\u001b[1m350/350\u001b[0m \u001b[32m━━━━━━━━━━━━━━━━━━━━\u001b[0m\u001b[37m\u001b[0m \u001b[1m1s\u001b[0m 3ms/step - accuracy: 0.6117 - loss: 0.6468 - val_accuracy: 0.5802 - val_loss: 0.6754\n",
      "Epoch 125/150\n",
      "\u001b[1m350/350\u001b[0m \u001b[32m━━━━━━━━━━━━━━━━━━━━\u001b[0m\u001b[37m\u001b[0m \u001b[1m1s\u001b[0m 3ms/step - accuracy: 0.6183 - loss: 0.6446 - val_accuracy: 0.5806 - val_loss: 0.6754\n",
      "Epoch 126/150\n",
      "\u001b[1m350/350\u001b[0m \u001b[32m━━━━━━━━━━━━━━━━━━━━\u001b[0m\u001b[37m\u001b[0m \u001b[1m1s\u001b[0m 3ms/step - accuracy: 0.6131 - loss: 0.6441 - val_accuracy: 0.5806 - val_loss: 0.6757\n",
      "Epoch 127/150\n",
      "\u001b[1m350/350\u001b[0m \u001b[32m━━━━━━━━━━━━━━━━━━━━\u001b[0m\u001b[37m\u001b[0m \u001b[1m1s\u001b[0m 3ms/step - accuracy: 0.6154 - loss: 0.6464 - val_accuracy: 0.5784 - val_loss: 0.6755\n",
      "Epoch 128/150\n",
      "\u001b[1m350/350\u001b[0m \u001b[32m━━━━━━━━━━━━━━━━━━━━\u001b[0m\u001b[37m\u001b[0m \u001b[1m1s\u001b[0m 3ms/step - accuracy: 0.6099 - loss: 0.6486 - val_accuracy: 0.5763 - val_loss: 0.6761\n",
      "Epoch 129/150\n",
      "\u001b[1m350/350\u001b[0m \u001b[32m━━━━━━━━━━━━━━━━━━━━\u001b[0m\u001b[37m\u001b[0m \u001b[1m1s\u001b[0m 3ms/step - accuracy: 0.6113 - loss: 0.6483 - val_accuracy: 0.5770 - val_loss: 0.6755\n",
      "Epoch 130/150\n",
      "\u001b[1m350/350\u001b[0m \u001b[32m━━━━━━━━━━━━━━━━━━━━\u001b[0m\u001b[37m\u001b[0m \u001b[1m1s\u001b[0m 3ms/step - accuracy: 0.6107 - loss: 0.6485 - val_accuracy: 0.5795 - val_loss: 0.6756\n",
      "Epoch 131/150\n",
      "\u001b[1m350/350\u001b[0m \u001b[32m━━━━━━━━━━━━━━━━━━━━\u001b[0m\u001b[37m\u001b[0m \u001b[1m1s\u001b[0m 3ms/step - accuracy: 0.6138 - loss: 0.6474 - val_accuracy: 0.5806 - val_loss: 0.6752\n",
      "Epoch 132/150\n",
      "\u001b[1m350/350\u001b[0m \u001b[32m━━━━━━━━━━━━━━━━━━━━\u001b[0m\u001b[37m\u001b[0m \u001b[1m1s\u001b[0m 3ms/step - accuracy: 0.6179 - loss: 0.6453 - val_accuracy: 0.5809 - val_loss: 0.6753\n",
      "Epoch 133/150\n",
      "\u001b[1m350/350\u001b[0m \u001b[32m━━━━━━━━━━━━━━━━━━━━\u001b[0m\u001b[37m\u001b[0m \u001b[1m1s\u001b[0m 3ms/step - accuracy: 0.6184 - loss: 0.6480 - val_accuracy: 0.5784 - val_loss: 0.6753\n",
      "Epoch 134/150\n",
      "\u001b[1m350/350\u001b[0m \u001b[32m━━━━━━━━━━━━━━━━━━━━\u001b[0m\u001b[37m\u001b[0m \u001b[1m1s\u001b[0m 3ms/step - accuracy: 0.6124 - loss: 0.6472 - val_accuracy: 0.5816 - val_loss: 0.6752\n",
      "Epoch 135/150\n",
      "\u001b[1m350/350\u001b[0m \u001b[32m━━━━━━━━━━━━━━━━━━━━\u001b[0m\u001b[37m\u001b[0m \u001b[1m1s\u001b[0m 3ms/step - accuracy: 0.6131 - loss: 0.6452 - val_accuracy: 0.5809 - val_loss: 0.6754\n",
      "Epoch 136/150\n",
      "\u001b[1m350/350\u001b[0m \u001b[32m━━━━━━━━━━━━━━━━━━━━\u001b[0m\u001b[37m\u001b[0m \u001b[1m1s\u001b[0m 4ms/step - accuracy: 0.6152 - loss: 0.6457 - val_accuracy: 0.5809 - val_loss: 0.6757\n",
      "Epoch 137/150\n",
      "\u001b[1m350/350\u001b[0m \u001b[32m━━━━━━━━━━━━━━━━━━━━\u001b[0m\u001b[37m\u001b[0m \u001b[1m1s\u001b[0m 3ms/step - accuracy: 0.6056 - loss: 0.6482 - val_accuracy: 0.5795 - val_loss: 0.6756\n",
      "Epoch 138/150\n",
      "\u001b[1m350/350\u001b[0m \u001b[32m━━━━━━━━━━━━━━━━━━━━\u001b[0m\u001b[37m\u001b[0m \u001b[1m1s\u001b[0m 3ms/step - accuracy: 0.6123 - loss: 0.6452 - val_accuracy: 0.5784 - val_loss: 0.6757\n",
      "Epoch 139/150\n",
      "\u001b[1m350/350\u001b[0m \u001b[32m━━━━━━━━━━━━━━━━━━━━\u001b[0m\u001b[37m\u001b[0m \u001b[1m1s\u001b[0m 3ms/step - accuracy: 0.6170 - loss: 0.6452 - val_accuracy: 0.5766 - val_loss: 0.6755\n",
      "Epoch 140/150\n",
      "\u001b[1m350/350\u001b[0m \u001b[32m━━━━━━━━━━━━━━━━━━━━\u001b[0m\u001b[37m\u001b[0m \u001b[1m1s\u001b[0m 3ms/step - accuracy: 0.6045 - loss: 0.6508 - val_accuracy: 0.5802 - val_loss: 0.6755\n",
      "Epoch 141/150\n",
      "\u001b[1m350/350\u001b[0m \u001b[32m━━━━━━━━━━━━━━━━━━━━\u001b[0m\u001b[37m\u001b[0m \u001b[1m1s\u001b[0m 4ms/step - accuracy: 0.6178 - loss: 0.6445 - val_accuracy: 0.5795 - val_loss: 0.6754\n",
      "Epoch 142/150\n",
      "\u001b[1m350/350\u001b[0m \u001b[32m━━━━━━━━━━━━━━━━━━━━\u001b[0m\u001b[37m\u001b[0m \u001b[1m1s\u001b[0m 3ms/step - accuracy: 0.6142 - loss: 0.6474 - val_accuracy: 0.5824 - val_loss: 0.6757\n",
      "Epoch 143/150\n",
      "\u001b[1m350/350\u001b[0m \u001b[32m━━━━━━━━━━━━━━━━━━━━\u001b[0m\u001b[37m\u001b[0m \u001b[1m1s\u001b[0m 4ms/step - accuracy: 0.6143 - loss: 0.6464 - val_accuracy: 0.5806 - val_loss: 0.6759\n",
      "Epoch 144/150\n",
      "\u001b[1m350/350\u001b[0m \u001b[32m━━━━━━━━━━━━━━━━━━━━\u001b[0m\u001b[37m\u001b[0m \u001b[1m1s\u001b[0m 3ms/step - accuracy: 0.6141 - loss: 0.6452 - val_accuracy: 0.5820 - val_loss: 0.6755\n",
      "Epoch 145/150\n",
      "\u001b[1m350/350\u001b[0m \u001b[32m━━━━━━━━━━━━━━━━━━━━\u001b[0m\u001b[37m\u001b[0m \u001b[1m1s\u001b[0m 3ms/step - accuracy: 0.6155 - loss: 0.6460 - val_accuracy: 0.5788 - val_loss: 0.6758\n",
      "Epoch 146/150\n",
      "\u001b[1m350/350\u001b[0m \u001b[32m━━━━━━━━━━━━━━━━━━━━\u001b[0m\u001b[37m\u001b[0m \u001b[1m1s\u001b[0m 3ms/step - accuracy: 0.6124 - loss: 0.6493 - val_accuracy: 0.5827 - val_loss: 0.6758\n",
      "Epoch 147/150\n",
      "\u001b[1m350/350\u001b[0m \u001b[32m━━━━━━━━━━━━━━━━━━━━\u001b[0m\u001b[37m\u001b[0m \u001b[1m1s\u001b[0m 3ms/step - accuracy: 0.6146 - loss: 0.6465 - val_accuracy: 0.5798 - val_loss: 0.6757\n",
      "Epoch 148/150\n",
      "\u001b[1m350/350\u001b[0m \u001b[32m━━━━━━━━━━━━━━━━━━━━\u001b[0m\u001b[37m\u001b[0m \u001b[1m1s\u001b[0m 3ms/step - accuracy: 0.6157 - loss: 0.6439 - val_accuracy: 0.5816 - val_loss: 0.6752\n",
      "Epoch 149/150\n",
      "\u001b[1m350/350\u001b[0m \u001b[32m━━━━━━━━━━━━━━━━━━━━\u001b[0m\u001b[37m\u001b[0m \u001b[1m1s\u001b[0m 4ms/step - accuracy: 0.6228 - loss: 0.6402 - val_accuracy: 0.5784 - val_loss: 0.6757\n",
      "Epoch 150/150\n",
      "\u001b[1m350/350\u001b[0m \u001b[32m━━━━━━━━━━━━━━━━━━━━\u001b[0m\u001b[37m\u001b[0m \u001b[1m1s\u001b[0m 4ms/step - accuracy: 0.6114 - loss: 0.6476 - val_accuracy: 0.5845 - val_loss: 0.6754\n",
      "\u001b[1m350/350\u001b[0m \u001b[32m━━━━━━━━━━━━━━━━━━━━\u001b[0m\u001b[37m\u001b[0m \u001b[1m1s\u001b[0m 2ms/step\n",
      "\u001b[1m88/88\u001b[0m \u001b[32m━━━━━━━━━━━━━━━━━━━━\u001b[0m\u001b[37m\u001b[0m \u001b[1m0s\u001b[0m 2ms/step\n"
     ]
    }
   ],
   "source": [
    "\n",
    "poly = PolynomialFeatures(degree=3)\n",
    "X_train_poly = poly.fit_transform(X_train_scaled)\n",
    "X_test_poly = poly.transform(X_test_scaled)\n",
    "\n",
    "model = Sequential([\n",
    "    Dense(1, input_shape=(X_train_poly.shape[1],), activation='sigmoid')\n",
    "])\n",
    "\n",
    "model.compile(optimizer=tf.keras.optimizers.Adam(learning_rate=0.0001), \n",
    "              loss='binary_crossentropy', \n",
    "              metrics=['accuracy'])\n",
    "\n",
    "history = model.fit(X_train_poly, y_train,\n",
    "                    epochs=150,             \n",
    "                    batch_size=32,     \n",
    "                    validation_data=(X_test_poly, y_test), \n",
    "                    verbose=1)              \n",
    "\n",
    "y_train_pred = (model.predict(X_train_poly) > 0.5).astype(\"int32\")  \n",
    "y_test_pred = (model.predict(X_test_poly) > 0.5).astype(\"int32\")\n",
    "\n"
   ]
  },
  {
   "cell_type": "code",
   "execution_count": 15,
   "metadata": {
    "colab": {
     "base_uri": "https://localhost:8080/"
    },
    "id": "W90ZhEby0cUJ",
    "outputId": "d4a296d4-59ea-4ca2-b01b-a79b456513ae"
   },
   "outputs": [
    {
     "name": "stdout",
     "output_type": "stream",
     "text": [
      "Training Accuracy: 61.72607879924953\n",
      "Testing Accuracy: 58.44944623079671\n",
      "Training Precision: 0.6147497805092186\n",
      "Testing Precision: 0.5711206896551724\n",
      "Training Recall: 0.6261849400822751\n",
      "Testing Recall: 0.5841293166789125\n",
      "Training F1 Score: 0.620414673046252\n",
      "Testing F1 Score: 0.5775517617144933\n"
     ]
    }
   ],
   "source": [
    "print(\"Training Accuracy:\", accuracy_score(y_train, y_train_pred) * 100)\n",
    "print(\"Testing Accuracy:\", accuracy_score(y_test, y_test_pred) * 100)\n",
    "\n",
    "print(\"Training Precision:\", precision_score(y_train, y_train_pred))\n",
    "print(\"Testing Precision:\", precision_score(y_test, y_test_pred))\n",
    "\n",
    "print(\"Training Recall:\", recall_score(y_train, y_train_pred))\n",
    "print(\"Testing Recall:\", recall_score(y_test, y_test_pred))\n",
    "\n",
    "print(\"Training F1 Score:\", f1_score(y_train, y_train_pred))\n",
    "print(\"Testing F1 Score:\", f1_score(y_test, y_test_pred))"
   ]
  },
  {
   "cell_type": "code",
   "execution_count": 16,
   "metadata": {
    "colab": {
     "base_uri": "https://localhost:8080/",
     "height": 410
    },
    "id": "3Ko4hgp0cSDp",
    "outputId": "29e811c9-2338-46b2-c6c7-87c940350dd8"
   },
   "outputs": [
    {
     "data": {
      "image/png": "[encoded data removed]",
      "text/plain": [
       "<Figure size 600x400 with 1 Axes>"
      ]
     },
     "metadata": {},
     "output_type": "display_data"
    }
   ],
   "source": [
    "cm = confusion_matrix(y_test, y_test_pred)\n",
    "\n",
    "plt.figure(figsize=(6, 4))\n",
    "sns.heatmap(cm, annot=True, fmt=\"d\", cmap=\"Blues\", cbar=False)\n",
    "plt.title(\"Confusion Matrix\")\n",
    "plt.xlabel(\"Predicted Label\")\n",
    "plt.ylabel(\"True Label\")\n",
    "plt.show()"
   ]
  },
  {
   "cell_type": "markdown",
   "metadata": {
    "id": "iClmGE0G8NAZ"
   },
   "source": [
    "**`Remark:`** The results obtained even after proper hyperparameter tuning and using polynomial features fail to provide acceptable train and test accuracies. This shows that the logistic regression is not suitable for the task."
   ]
  },
  {
   "cell_type": "markdown",
   "metadata": {
    "id": "mPs2wp4HOO8o"
   },
   "source": [
    "\n",
    "\n",
    "---\n",
    "\n"
   ]
  },
  {
   "cell_type": "markdown",
   "metadata": {
    "id": "-X50ex9g8osO"
   },
   "source": [
    "## <b> C. Support Vector Machine :</b>"
   ]
  },
  {
   "cell_type": "code",
   "execution_count": 17,
   "metadata": {
    "id": "XhFUGIzvpQRf"
   },
   "outputs": [],
   "source": [
    "\n",
    "svm_model = SVC(kernel='linear', C=1.0, random_state=42)\n",
    "\n",
    "svm_model.fit(X_train_scaled, y_train)\n",
    "\n",
    "y_train_pred = svm_model.predict(X_train_scaled)\n",
    "y_test_pred = svm_model.predict(X_test_scaled)"
   ]
  },
  {
   "cell_type": "code",
   "execution_count": 18,
   "metadata": {
    "colab": {
     "base_uri": "https://localhost:8080/"
    },
    "id": "Dn264sKq9aAq",
    "outputId": "7a3d0c43-2b83-47da-da75-e6a2e6d32304"
   },
   "outputs": [
    {
     "name": "stdout",
     "output_type": "stream",
     "text": [
      "Training Accuracy: 50.906816760475294\n",
      "Testing Accuracy: 52.69739192568774\n",
      "Training Precision: 0.5094191522762951\n",
      "Testing Precision: 0.5146476642913698\n",
      "Training Recall: 0.4643176533714899\n",
      "Testing Recall: 0.4775900073475386\n",
      "Training F1 Score: 0.48582389819406757\n",
      "Testing F1 Score: 0.4954268292682927\n"
     ]
    }
   ],
   "source": [
    "\n",
    "y_train_pred = svm_model.predict(X_train_scaled)\n",
    "y_test_pred = svm_model.predict(X_test_scaled)\n",
    "\n",
    "print(\"Training Accuracy:\", accuracy_score(y_train, y_train_pred) * 100)\n",
    "print(\"Testing Accuracy:\", accuracy_score(y_test, y_test_pred) * 100)\n",
    "\n",
    "print(\"Training Precision:\", precision_score(y_train, y_train_pred))\n",
    "print(\"Testing Precision:\", precision_score(y_test, y_test_pred))\n",
    "\n",
    "print(\"Training Recall:\", recall_score(y_train, y_train_pred))\n",
    "print(\"Testing Recall:\", recall_score(y_test, y_test_pred))\n",
    "\n",
    "print(\"Training F1 Score:\", f1_score(y_train, y_train_pred))\n",
    "print(\"Testing F1 Score:\", f1_score(y_test, y_test_pred))"
   ]
  },
  {
   "cell_type": "code",
   "execution_count": 19,
   "metadata": {
    "colab": {
     "base_uri": "https://localhost:8080/",
     "height": 487
    },
    "id": "kR3SKy2kMYPq",
    "outputId": "75aaac14-b897-4c9d-ead6-cd411074698f"
   },
   "outputs": [
    {
     "data": {
      "image/png": "[encoded data removed]",
      "text/plain": [
       "<Figure size 1200x500 with 1 Axes>"
      ]
     },
     "metadata": {},
     "output_type": "display_data"
    }
   ],
   "source": [
    "confusion_matrix = confusion_matrix(y_test, y_test_pred)\n",
    "\n",
    "def plot_confusion_matrix(cm, title='Confusion Matrix'):\n",
    "    sns.heatmap(cm, annot=True, fmt='d', cmap='Blues', cbar=False,\n",
    "                xticklabels=['Predicted 0', 'Predicted 1'],\n",
    "                yticklabels=['Actual 0', 'Actual 1'])\n",
    "    plt.title(title)\n",
    "    plt.xlabel('Predicted Labels')\n",
    "    plt.ylabel('True Labels')\n",
    "    plt.show()\n",
    "\n",
    "plt.figure(figsize=(12, 5))\n",
    "\n",
    "plt.subplot(1, 2, 2)\n",
    "plot_confusion_matrix(confusion_matrix, title='Testing Confusion Matrix')"
   ]
  },
  {
   "cell_type": "markdown",
   "metadata": {
    "id": "NO34fxhaVrP4"
   },
   "source": [
    "\n",
    "\n",
    "---\n",
    "\n"
   ]
  },
  {
   "cell_type": "markdown",
   "metadata": {
    "id": "FcYzArXkMGpw"
   },
   "source": [
    "## <b> D. Support Vector Machine (after hyperparameter-tuning) :</b>"
   ]
  },
  {
   "cell_type": "code",
   "execution_count": 25,
   "metadata": {
    "id": "JYlKsPUG9wtt"
   },
   "outputs": [],
   "source": [
    "from sklearn.pipeline import make_pipeline\n",
    "from sklearn.preprocessing import StandardScaler\n",
    "from sklearn.svm import SVC\n",
    "\n",
    "svm_pipeline = make_pipeline(StandardScaler(), SVC(kernel='rbf', C=1.0, gamma='scale', random_state=42))\n",
    "\n",
    "svm_pipeline.fit(X_train_poly, y_train)\n",
    "\n",
    "y_train_pred = svm_pipeline.predict(X_train_poly)\n",
    "y_test_pred = svm_pipeline.predict(X_test_poly)"
   ]
  },
  {
   "cell_type": "code",
   "execution_count": 26,
   "metadata": {
    "colab": {
     "base_uri": "https://localhost:8080/"
    },
    "id": "yxeF05NcJKMC",
    "outputId": "8e6e7ca1-70d5-423c-9abe-050a8eec6777"
   },
   "outputs": [
    {
     "name": "stdout",
     "output_type": "stream",
     "text": [
      "Training Accuracy: 71.8395425712499\n",
      "Testing Accuracy: 59.163987138263664\n",
      "Training Precision: 0.7118290776446066\n",
      "Testing Precision: 0.5784172661870504\n",
      "Training Recall: 0.7329636916472902\n",
      "Testing Recall: 0.5907421013960323\n",
      "Training F1 Score: 0.7222418047232992\n",
      "Testing F1 Score: 0.5845147219193021\n"
     ]
    }
   ],
   "source": [
    "print(\"Training Accuracy:\", accuracy_score(y_train, y_train_pred) * 100)\n",
    "print(\"Testing Accuracy:\", accuracy_score(y_test, y_test_pred) * 100)\n",
    "\n",
    "print(\"Training Precision:\", precision_score(y_train, y_train_pred))\n",
    "print(\"Testing Precision:\", precision_score(y_test, y_test_pred))\n",
    "\n",
    "print(\"Training Recall:\", recall_score(y_train, y_train_pred))\n",
    "print(\"Testing Recall:\", recall_score(y_test, y_test_pred))\n",
    "\n",
    "print(\"Training F1 Score:\", f1_score(y_train, y_train_pred))\n",
    "print(\"Testing F1 Score:\", f1_score(y_test, y_test_pred))\n"
   ]
  },
  {
   "cell_type": "code",
   "execution_count": 28,
   "metadata": {
    "colab": {
     "base_uri": "https://localhost:8080/",
     "height": 487
    },
    "id": "dEhnrkEqJbC8",
    "outputId": "50294041-9079-48f9-f04d-bbf2b3474153"
   },
   "outputs": [
    {
     "data": {
      "image/png": "[encoded data removed]",
      "text/plain": [
       "<Figure size 1200x500 with 1 Axes>"
      ]
     },
     "metadata": {},
     "output_type": "display_data"
    }
   ],
   "source": [
    "\n",
    "from sklearn.metrics import confusion_matrix\n",
    "\n",
    "confusion_matrix = confusion_matrix(y_test, y_test_pred)\n",
    "\n",
    "def plot_confusion_matrix(cm, title='Confusion Matrix'):\n",
    "    sns.heatmap(cm, annot=True, fmt='d', cmap='Blues', cbar=False,\n",
    "                xticklabels=['Predicted 0', 'Predicted 1'],\n",
    "                yticklabels=['Actual 0', 'Actual 1'])\n",
    "    plt.title(title)\n",
    "    plt.xlabel('Predicted Labels')\n",
    "    plt.ylabel('True Labels')\n",
    "    plt.show()\n",
    "\n",
    "plt.figure(figsize=(12, 5))\n",
    "\n",
    "plt.subplot(1, 2, 2)\n",
    "plot_confusion_matrix(confusion_matrix, title='Testing Confusion Matrix')"
   ]
  },
  {
   "cell_type": "markdown",
   "metadata": {
    "id": "BAjXzMNMMfZR"
   },
   "source": [
    "**`Remark:`** The results obtained using SVM even after proper hyperparameter tuning and using polynomial features fail to provide acceptable train and test accuracies. SVM does not appear fit for the task."
   ]
  },
  {
   "cell_type": "markdown",
   "metadata": {
    "id": "MCeZxivpOREz"
   },
   "source": [
    "\n",
    "\n",
    "---\n",
    "\n"
   ]
  },
  {
   "cell_type": "markdown",
   "metadata": {
    "id": "jQK1igagmvcl"
   },
   "source": [
    "## <b>E. Random Forest :</b>"
   ]
  },
  {
   "cell_type": "code",
   "execution_count": 29,
   "metadata": {
    "colab": {
     "base_uri": "https://localhost:8080/"
    },
    "id": "wgWFcN1inTB-",
    "outputId": "671f0a66-b3e0-4411-dc36-8eb2c007b106"
   },
   "outputs": [
    {
     "name": "stdout",
     "output_type": "stream",
     "text": [
      "Training Classification Report:\n",
      "              precision    recall  f1-score   support\n",
      "\n",
      "         0.0       0.93      0.94      0.93      5602\n",
      "         1.0       0.94      0.93      0.93      5591\n",
      "\n",
      "    accuracy                           0.93     11193\n",
      "   macro avg       0.93      0.93      0.93     11193\n",
      "weighted avg       0.93      0.93      0.93     11193\n",
      "\n",
      "Testing Classification Report:\n",
      "              precision    recall  f1-score   support\n",
      "\n",
      "         0.0       0.80      0.78      0.79      1438\n",
      "         1.0       0.78      0.79      0.78      1361\n",
      "\n",
      "    accuracy                           0.79      2799\n",
      "   macro avg       0.79      0.79      0.79      2799\n",
      "weighted avg       0.79      0.79      0.79      2799\n",
      "\n"
     ]
    }
   ],
   "source": [
    "rf_model = RandomForestClassifier(random_state=42)\n",
    "rf_model.fit(X_train_scaled, y_train)\n",
    "\n",
    "y_train_pred = rf_model.predict(X_train_scaled)\n",
    "y_test_pred = rf_model.predict(X_test_scaled)\n",
    "\n",
    "train_report = classification_report(y_train, y_train_pred)\n",
    "test_report = classification_report(y_test, y_test_pred)\n",
    "\n",
    "print(\"Training Classification Report:\")\n",
    "print(train_report)\n",
    "\n",
    "print(\"Testing Classification Report:\")\n",
    "print(test_report)"
   ]
  },
  {
   "cell_type": "code",
   "execution_count": 42,
   "metadata": {
    "colab": {
     "base_uri": "https://localhost:8080/",
     "height": 487
    },
    "id": "oWyNxkyC8JAo",
    "outputId": "922752f6-1a71-4a6f-a744-cd5cd4a31c99"
   },
   "outputs": [
    {
     "data": {
      "image/png": "[encoded data removed]",
      "text/plain": [
       "<Figure size 1200x500 with 1 Axes>"
      ]
     },
     "metadata": {},
     "output_type": "display_data"
    }
   ],
   "source": [
    "from sklearn.metrics import confusion_matrix\n",
    "\n",
    "confusion_matrix = confusion_matrix(y_test, y_test_pred)\n",
    "\n",
    "def plot_confusion_matrix(cm, title='Confusion Matrix'):\n",
    "    sns.heatmap(cm, annot=True, fmt='d', cmap='Blues', cbar=False,\n",
    "                xticklabels=['Predicted 0', 'Predicted 1'],\n",
    "                yticklabels=['Actual 0', 'Actual 1'])\n",
    "    plt.title(title)\n",
    "    plt.xlabel('Predicted Labels')\n",
    "    plt.ylabel('True Labels')\n",
    "    plt.show()\n",
    "\n",
    "plt.figure(figsize=(12, 5))\n",
    "\n",
    "plt.subplot(1, 2, 2)\n",
    "plot_confusion_matrix(confusion_matrix, title='Testing Confusion Matrix')"
   ]
  },
  {
   "cell_type": "markdown",
   "metadata": {
    "id": "CafGwjbMNTW0"
   },
   "source": [
    "**`Remark:`** The results obtained after proper hyperparameter tuning appear to be better than earlier models but the a better setting still seems to be required.\n",
    "\n",
    "\n",
    "\n"
   ]
  },
  {
   "cell_type": "markdown",
   "metadata": {
    "id": "N-8Jp-UZOTX-"
   },
   "source": [
    "\n",
    "\n",
    "---\n",
    "\n"
   ]
  },
  {
   "cell_type": "markdown",
   "metadata": {
    "id": "Icquw6RON3OW"
   },
   "source": [
    "## **<b>F. XGBoost : </b>**"
   ]
  },
  {
   "cell_type": "code",
   "execution_count": 31,
   "metadata": {
    "colab": {
     "base_uri": "https://localhost:8080/",
     "height": 280
    },
    "id": "XKqg4t4udfvu",
    "outputId": "01cc336f-1462-4e05-801c-8ea7eec04558"
   },
   "outputs": [
    {
     "name": "stdout",
     "output_type": "stream",
     "text": [
      "Train Accuracy with XGBoost: 89.40%\n",
      "Test Accuracy with XGBoost: 83.96%\n",
      "\n",
      "Classification Report on Train Data:\n",
      "              precision    recall  f1-score   support\n",
      "\n",
      "         0.0       0.85      0.83      0.84      1438\n",
      "         1.0       0.83      0.85      0.84      1361\n",
      "\n",
      "    accuracy                           0.84      2799\n",
      "   macro avg       0.84      0.84      0.84      2799\n",
      "weighted avg       0.84      0.84      0.84      2799\n",
      "\n",
      "\n",
      "Classification Report on Test Data:\n",
      "              precision    recall  f1-score   support\n",
      "\n",
      "         0.0       0.85      0.83      0.84      1438\n",
      "         1.0       0.83      0.85      0.84      1361\n",
      "\n",
      "    accuracy                           0.84      2799\n",
      "   macro avg       0.84      0.84      0.84      2799\n",
      "weighted avg       0.84      0.84      0.84      2799\n",
      "\n"
     ]
    }
   ],
   "source": [
    "xgboost_model = xgb.XGBClassifier(random_state=42)\n",
    "xgboost_model.fit(X_train_scaled, y_train)\n",
    "\n",
    "y_train_pred_xgb = xgboost_model.predict(X_train_scaled)\n",
    "train_accuracy_xgb = accuracy_score(y_train, y_train_pred_xgb)\n",
    "\n",
    "y_pred_xgb = xgboost_model.predict(X_test_scaled)\n",
    "test_accuracy_xgb = accuracy_score(y_test, y_pred_xgb)\n",
    "\n",
    "print(f\"Train Accuracy with XGBoost: {train_accuracy_xgb * 100:.2f}%\")\n",
    "print(f\"Test Accuracy with XGBoost: {test_accuracy_xgb * 100:.2f}%\")\n",
    "\n",
    "print(\"\\nClassification Report on Train Data:\")\n",
    "print(classification_report(y_test, y_pred_xgb))\n",
    "\n",
    "print(\"\\nClassification Report on Test Data:\")\n",
    "print(classification_report(y_test, y_pred_xgb))"
   ]
  },
  {
   "cell_type": "markdown",
   "metadata": {
    "id": "PdDsjAttNytS"
   },
   "source": []
  },
  {
   "cell_type": "code",
   "execution_count": 34,
   "metadata": {
    "colab": {
     "base_uri": "https://localhost:8080/",
     "height": 410
    },
    "id": "HbmwZrRULoV0",
    "outputId": "6051a32d-efc1-45ce-c44c-d4e050d7782a"
   },
   "outputs": [
    {
     "data": {
      "image/png": "[encoded data removed]",
      "text/plain": [
       "<Figure size 600x400 with 2 Axes>"
      ]
     },
     "metadata": {},
     "output_type": "display_data"
    }
   ],
   "source": [
    "from sklearn.metrics import confusion_matrix\n",
    "\n",
    "cm_xgb = confusion_matrix(y_test, y_pred_xgb)\n",
    "plt.figure(figsize=(6, 4))\n",
    "sns.heatmap(cm_xgb, annot=True, fmt='d', cmap='Blues', xticklabels=['Lost', 'Won'], yticklabels=['Lost', 'Won'])\n",
    "plt.title('Confusion Matrix (XGBoost)')\n",
    "plt.xlabel('Predicted')\n",
    "plt.ylabel('Actual')\n",
    "plt.show()\n"
   ]
  },
  {
   "cell_type": "markdown",
   "metadata": {
    "id": "742Tlik9OB8x"
   },
   "source": [
    "**`Remark:`** The results obtained using XGBoost appear to be decent. More exploration can be done to find out a better suited model."
   ]
  },
  {
   "cell_type": "markdown",
   "metadata": {
    "id": "olDPCI1tUp_X"
   },
   "source": [
    "\n",
    "\n",
    "---\n",
    "\n"
   ]
  },
  {
   "cell_type": "markdown",
   "metadata": {
    "id": "0P4wISa4O3eW"
   },
   "source": [
    "## <b>G. Artifical Neural Network : </b>"
   ]
  },
  {
   "cell_type": "code",
   "execution_count": 33,
   "metadata": {
    "colab": {
     "base_uri": "https://localhost:8080/"
    },
    "id": "vPp9MA5NLyBi",
    "outputId": "f4d1eefd-790c-4c73-b033-dab4e9331e6b"
   },
   "outputs": [
    {
     "name": "stderr",
     "output_type": "stream",
     "text": [
      "C:\\Users\\risha\\AppData\\Local\\Programs\\Python\\Python312\\Lib\\site-packages\\keras\\src\\layers\\core\\dense.py:87: UserWarning: Do not pass an `input_shape`/`input_dim` argument to a layer. When using Sequential models, prefer using an `Input(shape)` object as the first layer in the model instead.\n",
      "  super().__init__(activity_regularizer=activity_regularizer, **kwargs)\n"
     ]
    },
    {
     "name": "stdout",
     "output_type": "stream",
     "text": [
      "Epoch 1/100\n",
      "\u001b[1m700/700\u001b[0m \u001b[32m━━━━━━━━━━━━━━━━━━━━\u001b[0m\u001b[37m\u001b[0m \u001b[1m13s\u001b[0m 11ms/step - accuracy: 0.5041 - loss: 0.6954 - val_accuracy: 0.5266 - val_loss: 0.6927\n",
      "Epoch 2/100\n",
      "\u001b[1m700/700\u001b[0m \u001b[32m━━━━━━━━━━━━━━━━━━━━\u001b[0m\u001b[37m\u001b[0m \u001b[1m9s\u001b[0m 12ms/step - accuracy: 0.5315 - loss: 0.6907 - val_accuracy: 0.5459 - val_loss: 0.6971\n",
      "Epoch 3/100\n",
      "\u001b[1m700/700\u001b[0m \u001b[32m━━━━━━━━━━━━━━━━━━━━\u001b[0m\u001b[37m\u001b[0m \u001b[1m9s\u001b[0m 13ms/step - accuracy: 0.5616 - loss: 0.6790 - val_accuracy: 0.5927 - val_loss: 0.6667\n",
      "Epoch 4/100\n",
      "\u001b[1m700/700\u001b[0m \u001b[32m━━━━━━━━━━━━━━━━━━━━\u001b[0m\u001b[37m\u001b[0m \u001b[1m11s\u001b[0m 16ms/step - accuracy: 0.6059 - loss: 0.6534 - val_accuracy: 0.6116 - val_loss: 0.6586\n",
      "Epoch 5/100\n",
      "\u001b[1m700/700\u001b[0m \u001b[32m━━━━━━━━━━━━━━━━━━━━\u001b[0m\u001b[37m\u001b[0m \u001b[1m10s\u001b[0m 14ms/step - accuracy: 0.6356 - loss: 0.6300 - val_accuracy: 0.6302 - val_loss: 0.6283\n",
      "Epoch 6/100\n",
      "\u001b[1m700/700\u001b[0m \u001b[32m━━━━━━━━━━━━━━━━━━━━\u001b[0m\u001b[37m\u001b[0m \u001b[1m11s\u001b[0m 16ms/step - accuracy: 0.6781 - loss: 0.5912 - val_accuracy: 0.6888 - val_loss: 0.5850\n",
      "Epoch 7/100\n",
      "\u001b[1m700/700\u001b[0m \u001b[32m━━━━━━━━━━━━━━━━━━━━\u001b[0m\u001b[37m\u001b[0m \u001b[1m10s\u001b[0m 14ms/step - accuracy: 0.7087 - loss: 0.5502 - val_accuracy: 0.7074 - val_loss: 0.5701\n",
      "Epoch 8/100\n",
      "\u001b[1m700/700\u001b[0m \u001b[32m━━━━━━━━━━━━━━━━━━━━\u001b[0m\u001b[37m\u001b[0m \u001b[1m10s\u001b[0m 13ms/step - accuracy: 0.7386 - loss: 0.5101 - val_accuracy: 0.7199 - val_loss: 0.5290\n",
      "Epoch 9/100\n",
      "\u001b[1m700/700\u001b[0m \u001b[32m━━━━━━━━━━━━━━━━━━━━\u001b[0m\u001b[37m\u001b[0m \u001b[1m10s\u001b[0m 14ms/step - accuracy: 0.7658 - loss: 0.4605 - val_accuracy: 0.7292 - val_loss: 0.4991\n",
      "Epoch 10/100\n",
      "\u001b[1m700/700\u001b[0m \u001b[32m━━━━━━━━━━━━━━━━━━━━\u001b[0m\u001b[37m\u001b[0m \u001b[1m10s\u001b[0m 14ms/step - accuracy: 0.7764 - loss: 0.4461 - val_accuracy: 0.7560 - val_loss: 0.4920\n",
      "Epoch 11/100\n",
      "\u001b[1m700/700\u001b[0m \u001b[32m━━━━━━━━━━━━━━━━━━━━\u001b[0m\u001b[37m\u001b[0m \u001b[1m10s\u001b[0m 14ms/step - accuracy: 0.7941 - loss: 0.4086 - val_accuracy: 0.7656 - val_loss: 0.4398\n",
      "Epoch 12/100\n",
      "\u001b[1m700/700\u001b[0m \u001b[32m━━━━━━━━━━━━━━━━━━━━\u001b[0m\u001b[37m\u001b[0m \u001b[1m12s\u001b[0m 17ms/step - accuracy: 0.7953 - loss: 0.3919 - val_accuracy: 0.7796 - val_loss: 0.4209\n",
      "Epoch 13/100\n",
      "\u001b[1m700/700\u001b[0m \u001b[32m━━━━━━━━━━━━━━━━━━━━\u001b[0m\u001b[37m\u001b[0m \u001b[1m10s\u001b[0m 15ms/step - accuracy: 0.8043 - loss: 0.3731 - val_accuracy: 0.7778 - val_loss: 0.4386\n",
      "Epoch 14/100\n",
      "\u001b[1m700/700\u001b[0m \u001b[32m━━━━━━━━━━━━━━━━━━━━\u001b[0m\u001b[37m\u001b[0m \u001b[1m13s\u001b[0m 18ms/step - accuracy: 0.8142 - loss: 0.3584 - val_accuracy: 0.7821 - val_loss: 0.4063\n",
      "Epoch 15/100\n",
      "\u001b[1m700/700\u001b[0m \u001b[32m━━━━━━━━━━━━━━━━━━━━\u001b[0m\u001b[37m\u001b[0m \u001b[1m10s\u001b[0m 14ms/step - accuracy: 0.8273 - loss: 0.3372 - val_accuracy: 0.7874 - val_loss: 0.3825\n",
      "Epoch 16/100\n",
      "\u001b[1m700/700\u001b[0m \u001b[32m━━━━━━━━━━━━━━━━━━━━\u001b[0m\u001b[37m\u001b[0m \u001b[1m13s\u001b[0m 18ms/step - accuracy: 0.8240 - loss: 0.3313 - val_accuracy: 0.7967 - val_loss: 0.3848\n",
      "Epoch 17/100\n",
      "\u001b[1m700/700\u001b[0m \u001b[32m━━━━━━━━━━━━━━━━━━━━\u001b[0m\u001b[37m\u001b[0m \u001b[1m12s\u001b[0m 17ms/step - accuracy: 0.8271 - loss: 0.3280 - val_accuracy: 0.8035 - val_loss: 0.3640\n",
      "Epoch 18/100\n",
      "\u001b[1m700/700\u001b[0m \u001b[32m━━━━━━━━━━━━━━━━━━━━\u001b[0m\u001b[37m\u001b[0m \u001b[1m12s\u001b[0m 17ms/step - accuracy: 0.8256 - loss: 0.3239 - val_accuracy: 0.7949 - val_loss: 0.4090\n",
      "Epoch 19/100\n",
      "\u001b[1m700/700\u001b[0m \u001b[32m━━━━━━━━━━━━━━━━━━━━\u001b[0m\u001b[37m\u001b[0m \u001b[1m11s\u001b[0m 15ms/step - accuracy: 0.8320 - loss: 0.3185 - val_accuracy: 0.8139 - val_loss: 0.3541\n",
      "Epoch 20/100\n",
      "\u001b[1m700/700\u001b[0m \u001b[32m━━━━━━━━━━━━━━━━━━━━\u001b[0m\u001b[37m\u001b[0m \u001b[1m11s\u001b[0m 15ms/step - accuracy: 0.8354 - loss: 0.3186 - val_accuracy: 0.7971 - val_loss: 0.3881\n",
      "Epoch 21/100\n",
      "\u001b[1m700/700\u001b[0m \u001b[32m━━━━━━━━━━━━━━━━━━━━\u001b[0m\u001b[37m\u001b[0m \u001b[1m6s\u001b[0m 8ms/step - accuracy: 0.8331 - loss: 0.3058 - val_accuracy: 0.8067 - val_loss: 0.3546\n",
      "Epoch 22/100\n",
      "\u001b[1m700/700\u001b[0m \u001b[32m━━━━━━━━━━━━━━━━━━━━\u001b[0m\u001b[37m\u001b[0m \u001b[1m5s\u001b[0m 7ms/step - accuracy: 0.8391 - loss: 0.3003 - val_accuracy: 0.8103 - val_loss: 0.3706\n",
      "Epoch 23/100\n",
      "\u001b[1m700/700\u001b[0m \u001b[32m━━━━━━━━━━━━━━━━━━━━\u001b[0m\u001b[37m\u001b[0m \u001b[1m5s\u001b[0m 7ms/step - accuracy: 0.8407 - loss: 0.3000 - val_accuracy: 0.8078 - val_loss: 0.3664\n",
      "Epoch 24/100\n",
      "\u001b[1m700/700\u001b[0m \u001b[32m━━━━━━━━━━━━━━━━━━━━\u001b[0m\u001b[37m\u001b[0m \u001b[1m5s\u001b[0m 7ms/step - accuracy: 0.8458 - loss: 0.2994 - val_accuracy: 0.8024 - val_loss: 0.3646\n",
      "Epoch 25/100\n",
      "\u001b[1m700/700\u001b[0m \u001b[32m━━━━━━━━━━━━━━━━━━━━\u001b[0m\u001b[37m\u001b[0m \u001b[1m5s\u001b[0m 7ms/step - accuracy: 0.8369 - loss: 0.3008 - val_accuracy: 0.8092 - val_loss: 0.3621\n",
      "Epoch 26/100\n",
      "\u001b[1m700/700\u001b[0m \u001b[32m━━━━━━━━━━━━━━━━━━━━\u001b[0m\u001b[37m\u001b[0m \u001b[1m5s\u001b[0m 7ms/step - accuracy: 0.8444 - loss: 0.2872 - val_accuracy: 0.8117 - val_loss: 0.3533\n",
      "Epoch 27/100\n",
      "\u001b[1m700/700\u001b[0m \u001b[32m━━━━━━━━━━━━━━━━━━━━\u001b[0m\u001b[37m\u001b[0m \u001b[1m5s\u001b[0m 7ms/step - accuracy: 0.8513 - loss: 0.2856 - val_accuracy: 0.8014 - val_loss: 0.3716\n",
      "Epoch 28/100\n",
      "\u001b[1m700/700\u001b[0m \u001b[32m━━━━━━━━━━━━━━━━━━━━\u001b[0m\u001b[37m\u001b[0m \u001b[1m6s\u001b[0m 8ms/step - accuracy: 0.8471 - loss: 0.2885 - val_accuracy: 0.8139 - val_loss: 0.3552\n",
      "Epoch 29/100\n",
      "\u001b[1m700/700\u001b[0m \u001b[32m━━━━━━━━━━━━━━━━━━━━\u001b[0m\u001b[37m\u001b[0m \u001b[1m6s\u001b[0m 8ms/step - accuracy: 0.8470 - loss: 0.2837 - val_accuracy: 0.8039 - val_loss: 0.3433\n",
      "Epoch 30/100\n",
      "\u001b[1m700/700\u001b[0m \u001b[32m━━━━━━━━━━━━━━━━━━━━\u001b[0m\u001b[37m\u001b[0m \u001b[1m6s\u001b[0m 8ms/step - accuracy: 0.8503 - loss: 0.2740 - val_accuracy: 0.8089 - val_loss: 0.3534\n",
      "Epoch 31/100\n",
      "\u001b[1m700/700\u001b[0m \u001b[32m━━━━━━━━━━━━━━━━━━━━\u001b[0m\u001b[37m\u001b[0m \u001b[1m10s\u001b[0m 8ms/step - accuracy: 0.8480 - loss: 0.2900 - val_accuracy: 0.8089 - val_loss: 0.3460\n",
      "Epoch 32/100\n",
      "\u001b[1m700/700\u001b[0m \u001b[32m━━━━━━━━━━━━━━━━━━━━\u001b[0m\u001b[37m\u001b[0m \u001b[1m6s\u001b[0m 8ms/step - accuracy: 0.8505 - loss: 0.2739 - val_accuracy: 0.7999 - val_loss: 0.3894\n",
      "Epoch 33/100\n",
      "\u001b[1m700/700\u001b[0m \u001b[32m━━━━━━━━━━━━━━━━━━━━\u001b[0m\u001b[37m\u001b[0m \u001b[1m6s\u001b[0m 8ms/step - accuracy: 0.8528 - loss: 0.2813 - val_accuracy: 0.8096 - val_loss: 0.3580\n",
      "Epoch 34/100\n",
      "\u001b[1m700/700\u001b[0m \u001b[32m━━━━━━━━━━━━━━━━━━━━\u001b[0m\u001b[37m\u001b[0m \u001b[1m6s\u001b[0m 8ms/step - accuracy: 0.8544 - loss: 0.2656 - val_accuracy: 0.8092 - val_loss: 0.3875\n",
      "Epoch 35/100\n",
      "\u001b[1m700/700\u001b[0m \u001b[32m━━━━━━━━━━━━━━━━━━━━\u001b[0m\u001b[37m\u001b[0m \u001b[1m6s\u001b[0m 9ms/step - accuracy: 0.8526 - loss: 0.2757 - val_accuracy: 0.7974 - val_loss: 0.3715\n",
      "Epoch 36/100\n",
      "\u001b[1m700/700\u001b[0m \u001b[32m━━━━━━━━━━━━━━━━━━━━\u001b[0m\u001b[37m\u001b[0m \u001b[1m6s\u001b[0m 9ms/step - accuracy: 0.8542 - loss: 0.2697 - val_accuracy: 0.8178 - val_loss: 0.3607\n",
      "Epoch 37/100\n",
      "\u001b[1m700/700\u001b[0m \u001b[32m━━━━━━━━━━━━━━━━━━━━\u001b[0m\u001b[37m\u001b[0m \u001b[1m7s\u001b[0m 9ms/step - accuracy: 0.8553 - loss: 0.2586 - val_accuracy: 0.8142 - val_loss: 0.3552\n",
      "Epoch 38/100\n",
      "\u001b[1m700/700\u001b[0m \u001b[32m━━━━━━━━━━━━━━━━━━━━\u001b[0m\u001b[37m\u001b[0m \u001b[1m7s\u001b[0m 9ms/step - accuracy: 0.8514 - loss: 0.2847 - val_accuracy: 0.8146 - val_loss: 0.3467\n",
      "Epoch 39/100\n",
      "\u001b[1m700/700\u001b[0m \u001b[32m━━━━━━━━━━━━━━━━━━━━\u001b[0m\u001b[37m\u001b[0m \u001b[1m7s\u001b[0m 10ms/step - accuracy: 0.8624 - loss: 0.2567 - val_accuracy: 0.8089 - val_loss: 0.3637\n",
      "Epoch 40/100\n",
      "\u001b[1m700/700\u001b[0m \u001b[32m━━━━━━━━━━━━━━━━━━━━\u001b[0m\u001b[37m\u001b[0m \u001b[1m7s\u001b[0m 10ms/step - accuracy: 0.8522 - loss: 0.2712 - val_accuracy: 0.8128 - val_loss: 0.3593\n",
      "Epoch 41/100\n",
      "\u001b[1m700/700\u001b[0m \u001b[32m━━━━━━━━━━━━━━━━━━━━\u001b[0m\u001b[37m\u001b[0m \u001b[1m8s\u001b[0m 11ms/step - accuracy: 0.8572 - loss: 0.2722 - val_accuracy: 0.8089 - val_loss: 0.3707\n",
      "Epoch 42/100\n",
      "\u001b[1m700/700\u001b[0m \u001b[32m━━━━━━━━━━━━━━━━━━━━\u001b[0m\u001b[37m\u001b[0m \u001b[1m8s\u001b[0m 11ms/step - accuracy: 0.8590 - loss: 0.2664 - val_accuracy: 0.8106 - val_loss: 0.3753\n",
      "Epoch 43/100\n",
      "\u001b[1m700/700\u001b[0m \u001b[32m━━━━━━━━━━━━━━━━━━━━\u001b[0m\u001b[37m\u001b[0m \u001b[1m8s\u001b[0m 11ms/step - accuracy: 0.8550 - loss: 0.2615 - val_accuracy: 0.8074 - val_loss: 0.3472\n",
      "Epoch 44/100\n",
      "\u001b[1m700/700\u001b[0m \u001b[32m━━━━━━━━━━━━━━━━━━━━\u001b[0m\u001b[37m\u001b[0m \u001b[1m8s\u001b[0m 12ms/step - accuracy: 0.8563 - loss: 0.2603 - val_accuracy: 0.8128 - val_loss: 0.3604\n",
      "Epoch 45/100\n",
      "\u001b[1m700/700\u001b[0m \u001b[32m━━━━━━━━━━━━━━━━━━━━\u001b[0m\u001b[37m\u001b[0m \u001b[1m8s\u001b[0m 11ms/step - accuracy: 0.8623 - loss: 0.2511 - val_accuracy: 0.8139 - val_loss: 0.3810\n",
      "Epoch 46/100\n",
      "\u001b[1m700/700\u001b[0m \u001b[32m━━━━━━━━━━━━━━━━━━━━\u001b[0m\u001b[37m\u001b[0m \u001b[1m9s\u001b[0m 13ms/step - accuracy: 0.8606 - loss: 0.2628 - val_accuracy: 0.8078 - val_loss: 0.3919\n",
      "Epoch 47/100\n",
      "\u001b[1m700/700\u001b[0m \u001b[32m━━━━━━━━━━━━━━━━━━━━\u001b[0m\u001b[37m\u001b[0m \u001b[1m9s\u001b[0m 13ms/step - accuracy: 0.8484 - loss: 0.2719 - val_accuracy: 0.8121 - val_loss: 0.3864\n",
      "Epoch 48/100\n",
      "\u001b[1m700/700\u001b[0m \u001b[32m━━━━━━━━━━━━━━━━━━━━\u001b[0m\u001b[37m\u001b[0m \u001b[1m11s\u001b[0m 15ms/step - accuracy: 0.8647 - loss: 0.2504 - val_accuracy: 0.8074 - val_loss: 0.4193\n",
      "Epoch 49/100\n",
      "\u001b[1m700/700\u001b[0m \u001b[32m━━━━━━━━━━━━━━━━━━━━\u001b[0m\u001b[37m\u001b[0m \u001b[1m19s\u001b[0m 27ms/step - accuracy: 0.8566 - loss: 0.2789 - val_accuracy: 0.8121 - val_loss: 0.3778\n",
      "Epoch 50/100\n",
      "\u001b[1m700/700\u001b[0m \u001b[32m━━━━━━━━━━━━━━━━━━━━\u001b[0m\u001b[37m\u001b[0m \u001b[1m12s\u001b[0m 15ms/step - accuracy: 0.8681 - loss: 0.2480 - val_accuracy: 0.8089 - val_loss: 0.3710\n",
      "Epoch 51/100\n",
      "\u001b[1m700/700\u001b[0m \u001b[32m━━━━━━━━━━━━━━━━━━━━\u001b[0m\u001b[37m\u001b[0m \u001b[1m12s\u001b[0m 17ms/step - accuracy: 0.8703 - loss: 0.2467 - val_accuracy: 0.8074 - val_loss: 0.3927\n",
      "Epoch 52/100\n",
      "\u001b[1m700/700\u001b[0m \u001b[32m━━━━━━━━━━━━━━━━━━━━\u001b[0m\u001b[37m\u001b[0m \u001b[1m14s\u001b[0m 20ms/step - accuracy: 0.8643 - loss: 0.2543 - val_accuracy: 0.8103 - val_loss: 0.4295\n",
      "Epoch 53/100\n",
      "\u001b[1m700/700\u001b[0m \u001b[32m━━━━━━━━━━━━━━━━━━━━\u001b[0m\u001b[37m\u001b[0m \u001b[1m13s\u001b[0m 18ms/step - accuracy: 0.8616 - loss: 0.2533 - val_accuracy: 0.8078 - val_loss: 0.4359\n",
      "Epoch 54/100\n",
      "\u001b[1m700/700\u001b[0m \u001b[32m━━━━━━━━━━━━━━━━━━━━\u001b[0m\u001b[37m\u001b[0m \u001b[1m11s\u001b[0m 15ms/step - accuracy: 0.8645 - loss: 0.2518 - val_accuracy: 0.8131 - val_loss: 0.4059\n",
      "Epoch 55/100\n",
      "\u001b[1m700/700\u001b[0m \u001b[32m━━━━━━━━━━━━━━━━━━━━\u001b[0m\u001b[37m\u001b[0m \u001b[1m11s\u001b[0m 16ms/step - accuracy: 0.8658 - loss: 0.2460 - val_accuracy: 0.8064 - val_loss: 0.4534\n",
      "Epoch 56/100\n",
      "\u001b[1m700/700\u001b[0m \u001b[32m━━━━━━━━━━━━━━━━━━━━\u001b[0m\u001b[37m\u001b[0m \u001b[1m10s\u001b[0m 14ms/step - accuracy: 0.8577 - loss: 0.2568 - val_accuracy: 0.8067 - val_loss: 0.3900\n",
      "Epoch 57/100\n",
      "\u001b[1m700/700\u001b[0m \u001b[32m━━━━━━━━━━━━━━━━━━━━\u001b[0m\u001b[37m\u001b[0m \u001b[1m11s\u001b[0m 16ms/step - accuracy: 0.8643 - loss: 0.2519 - val_accuracy: 0.8092 - val_loss: 0.3918\n",
      "Epoch 58/100\n",
      "\u001b[1m700/700\u001b[0m \u001b[32m━━━━━━━━━━━━━━━━━━━━\u001b[0m\u001b[37m\u001b[0m \u001b[1m9s\u001b[0m 13ms/step - accuracy: 0.8709 - loss: 0.2444 - val_accuracy: 0.8106 - val_loss: 0.3808\n",
      "Epoch 59/100\n",
      "\u001b[1m700/700\u001b[0m \u001b[32m━━━━━━━━━━━━━━━━━━━━\u001b[0m\u001b[37m\u001b[0m \u001b[1m8s\u001b[0m 11ms/step - accuracy: 0.8669 - loss: 0.2442 - val_accuracy: 0.8074 - val_loss: 0.3983\n",
      "Epoch 60/100\n",
      "\u001b[1m700/700\u001b[0m \u001b[32m━━━━━━━━━━━━━━━━━━━━\u001b[0m\u001b[37m\u001b[0m \u001b[1m5s\u001b[0m 7ms/step - accuracy: 0.8724 - loss: 0.2403 - val_accuracy: 0.8171 - val_loss: 0.4048\n",
      "Epoch 61/100\n",
      "\u001b[1m700/700\u001b[0m \u001b[32m━━━━━━━━━━━━━━━━━━━━\u001b[0m\u001b[37m\u001b[0m \u001b[1m5s\u001b[0m 8ms/step - accuracy: 0.8696 - loss: 0.2374 - val_accuracy: 0.8114 - val_loss: 0.4318\n",
      "Epoch 62/100\n",
      "\u001b[1m700/700\u001b[0m \u001b[32m━━━━━━━━━━━━━━━━━━━━\u001b[0m\u001b[37m\u001b[0m \u001b[1m5s\u001b[0m 8ms/step - accuracy: 0.8728 - loss: 0.2404 - val_accuracy: 0.8128 - val_loss: 0.4207\n",
      "Epoch 63/100\n",
      "\u001b[1m700/700\u001b[0m \u001b[32m━━━━━━━━━━━━━━━━━━━━\u001b[0m\u001b[37m\u001b[0m \u001b[1m6s\u001b[0m 8ms/step - accuracy: 0.8685 - loss: 0.2433 - val_accuracy: 0.8042 - val_loss: 0.4284\n",
      "Epoch 64/100\n",
      "\u001b[1m700/700\u001b[0m \u001b[32m━━━━━━━━━━━━━━━━━━━━\u001b[0m\u001b[37m\u001b[0m \u001b[1m7s\u001b[0m 10ms/step - accuracy: 0.8707 - loss: 0.2386 - val_accuracy: 0.8128 - val_loss: 0.4039\n",
      "Epoch 65/100\n",
      "\u001b[1m700/700\u001b[0m \u001b[32m━━━━━━━━━━━━━━━━━━━━\u001b[0m\u001b[37m\u001b[0m \u001b[1m7s\u001b[0m 10ms/step - accuracy: 0.8656 - loss: 0.2496 - val_accuracy: 0.8081 - val_loss: 0.4633\n",
      "Epoch 66/100\n",
      "\u001b[1m700/700\u001b[0m \u001b[32m━━━━━━━━━━━━━━━━━━━━\u001b[0m\u001b[37m\u001b[0m \u001b[1m9s\u001b[0m 8ms/step - accuracy: 0.8704 - loss: 0.2390 - val_accuracy: 0.8024 - val_loss: 0.5084\n",
      "Epoch 67/100\n",
      "\u001b[1m700/700\u001b[0m \u001b[32m━━━━━━━━━━━━━━━━━━━━\u001b[0m\u001b[37m\u001b[0m \u001b[1m6s\u001b[0m 8ms/step - accuracy: 0.8595 - loss: 0.2478 - val_accuracy: 0.8146 - val_loss: 0.4665\n",
      "Epoch 68/100\n",
      "\u001b[1m700/700\u001b[0m \u001b[32m━━━━━━━━━━━━━━━━━━━━\u001b[0m\u001b[37m\u001b[0m \u001b[1m6s\u001b[0m 9ms/step - accuracy: 0.8765 - loss: 0.2362 - val_accuracy: 0.8185 - val_loss: 0.4195\n",
      "Epoch 69/100\n",
      "\u001b[1m700/700\u001b[0m \u001b[32m━━━━━━━━━━━━━━━━━━━━\u001b[0m\u001b[37m\u001b[0m \u001b[1m6s\u001b[0m 8ms/step - accuracy: 0.8687 - loss: 0.2396 - val_accuracy: 0.8146 - val_loss: 0.4674\n",
      "Epoch 70/100\n",
      "\u001b[1m700/700\u001b[0m \u001b[32m━━━━━━━━━━━━━━━━━━━━\u001b[0m\u001b[37m\u001b[0m \u001b[1m6s\u001b[0m 9ms/step - accuracy: 0.8700 - loss: 0.2454 - val_accuracy: 0.8064 - val_loss: 0.4492\n",
      "Epoch 71/100\n",
      "\u001b[1m700/700\u001b[0m \u001b[32m━━━━━━━━━━━━━━━━━━━━\u001b[0m\u001b[37m\u001b[0m \u001b[1m6s\u001b[0m 9ms/step - accuracy: 0.8676 - loss: 0.2407 - val_accuracy: 0.8110 - val_loss: 0.4490\n",
      "Epoch 72/100\n",
      "\u001b[1m700/700\u001b[0m \u001b[32m━━━━━━━━━━━━━━━━━━━━\u001b[0m\u001b[37m\u001b[0m \u001b[1m6s\u001b[0m 9ms/step - accuracy: 0.8654 - loss: 0.2391 - val_accuracy: 0.8074 - val_loss: 0.4307\n",
      "Epoch 73/100\n",
      "\u001b[1m700/700\u001b[0m \u001b[32m━━━━━━━━━━━━━━━━━━━━\u001b[0m\u001b[37m\u001b[0m \u001b[1m7s\u001b[0m 10ms/step - accuracy: 0.8681 - loss: 0.2310 - val_accuracy: 0.8064 - val_loss: 0.4848\n",
      "Epoch 74/100\n",
      "\u001b[1m700/700\u001b[0m \u001b[32m━━━━━━━━━━━━━━━━━━━━\u001b[0m\u001b[37m\u001b[0m \u001b[1m7s\u001b[0m 10ms/step - accuracy: 0.8710 - loss: 0.2337 - val_accuracy: 0.8146 - val_loss: 0.4827\n",
      "Epoch 75/100\n",
      "\u001b[1m700/700\u001b[0m \u001b[32m━━━━━━━━━━━━━━━━━━━━\u001b[0m\u001b[37m\u001b[0m \u001b[1m7s\u001b[0m 10ms/step - accuracy: 0.8708 - loss: 0.2457 - val_accuracy: 0.8106 - val_loss: 0.4320\n",
      "Epoch 76/100\n",
      "\u001b[1m700/700\u001b[0m \u001b[32m━━━━━━━━━━━━━━━━━━━━\u001b[0m\u001b[37m\u001b[0m \u001b[1m7s\u001b[0m 10ms/step - accuracy: 0.8648 - loss: 0.2369 - val_accuracy: 0.7999 - val_loss: 0.4693\n",
      "Epoch 77/100\n",
      "\u001b[1m700/700\u001b[0m \u001b[32m━━━━━━━━━━━━━━━━━━━━\u001b[0m\u001b[37m\u001b[0m \u001b[1m7s\u001b[0m 10ms/step - accuracy: 0.8740 - loss: 0.2331 - val_accuracy: 0.8142 - val_loss: 0.4493\n",
      "Epoch 78/100\n",
      "\u001b[1m700/700\u001b[0m \u001b[32m━━━━━━━━━━━━━━━━━━━━\u001b[0m\u001b[37m\u001b[0m \u001b[1m8s\u001b[0m 11ms/step - accuracy: 0.8715 - loss: 0.2354 - val_accuracy: 0.8035 - val_loss: 0.4495\n",
      "Epoch 79/100\n",
      "\u001b[1m700/700\u001b[0m \u001b[32m━━━━━━━━━━━━━━━━━━━━\u001b[0m\u001b[37m\u001b[0m \u001b[1m8s\u001b[0m 12ms/step - accuracy: 0.8717 - loss: 0.2383 - val_accuracy: 0.7971 - val_loss: 0.5222\n",
      "Epoch 80/100\n",
      "\u001b[1m700/700\u001b[0m \u001b[32m━━━━━━━━━━━━━━━━━━━━\u001b[0m\u001b[37m\u001b[0m \u001b[1m9s\u001b[0m 13ms/step - accuracy: 0.8723 - loss: 0.2313 - val_accuracy: 0.8060 - val_loss: 0.6002\n",
      "Epoch 81/100\n",
      "\u001b[1m700/700\u001b[0m \u001b[32m━━━━━━━━━━━━━━━━━━━━\u001b[0m\u001b[37m\u001b[0m \u001b[1m9s\u001b[0m 13ms/step - accuracy: 0.8706 - loss: 0.2407 - val_accuracy: 0.8085 - val_loss: 0.5138\n",
      "Epoch 82/100\n",
      "\u001b[1m700/700\u001b[0m \u001b[32m━━━━━━━━━━━━━━━━━━━━\u001b[0m\u001b[37m\u001b[0m \u001b[1m9s\u001b[0m 13ms/step - accuracy: 0.8738 - loss: 0.2316 - val_accuracy: 0.8103 - val_loss: 0.4949\n",
      "Epoch 83/100\n",
      "\u001b[1m700/700\u001b[0m \u001b[32m━━━━━━━━━━━━━━━━━━━━\u001b[0m\u001b[37m\u001b[0m \u001b[1m11s\u001b[0m 13ms/step - accuracy: 0.8758 - loss: 0.2270 - val_accuracy: 0.8006 - val_loss: 0.4937\n",
      "Epoch 84/100\n",
      "\u001b[1m700/700\u001b[0m \u001b[32m━━━━━━━━━━━━━━━━━━━━\u001b[0m\u001b[37m\u001b[0m \u001b[1m10s\u001b[0m 15ms/step - accuracy: 0.8764 - loss: 0.2317 - val_accuracy: 0.7949 - val_loss: 0.5050\n",
      "Epoch 85/100\n",
      "\u001b[1m700/700\u001b[0m \u001b[32m━━━━━━━━━━━━━━━━━━━━\u001b[0m\u001b[37m\u001b[0m \u001b[1m10s\u001b[0m 15ms/step - accuracy: 0.8717 - loss: 0.2353 - val_accuracy: 0.7971 - val_loss: 0.5405\n",
      "Epoch 86/100\n",
      "\u001b[1m700/700\u001b[0m \u001b[32m━━━━━━━━━━━━━━━━━━━━\u001b[0m\u001b[37m\u001b[0m \u001b[1m10s\u001b[0m 15ms/step - accuracy: 0.8769 - loss: 0.2204 - val_accuracy: 0.8021 - val_loss: 0.6162\n",
      "Epoch 87/100\n",
      "\u001b[1m700/700\u001b[0m \u001b[32m━━━━━━━━━━━━━━━━━━━━\u001b[0m\u001b[37m\u001b[0m \u001b[1m10s\u001b[0m 14ms/step - accuracy: 0.8770 - loss: 0.2293 - val_accuracy: 0.8028 - val_loss: 0.4772\n",
      "Epoch 88/100\n",
      "\u001b[1m700/700\u001b[0m \u001b[32m━━━━━━━━━━━━━━━━━━━━\u001b[0m\u001b[37m\u001b[0m \u001b[1m11s\u001b[0m 15ms/step - accuracy: 0.8795 - loss: 0.2221 - val_accuracy: 0.7999 - val_loss: 0.5160\n",
      "Epoch 89/100\n",
      "\u001b[1m700/700\u001b[0m \u001b[32m━━━━━━━━━━━━━━━━━━━━\u001b[0m\u001b[37m\u001b[0m \u001b[1m11s\u001b[0m 16ms/step - accuracy: 0.8675 - loss: 0.2376 - val_accuracy: 0.8106 - val_loss: 0.4808\n",
      "Epoch 90/100\n",
      "\u001b[1m700/700\u001b[0m \u001b[32m━━━━━━━━━━━━━━━━━━━━\u001b[0m\u001b[37m\u001b[0m \u001b[1m11s\u001b[0m 16ms/step - accuracy: 0.8727 - loss: 0.2288 - val_accuracy: 0.8064 - val_loss: 0.5328\n",
      "Epoch 91/100\n",
      "\u001b[1m700/700\u001b[0m \u001b[32m━━━━━━━━━━━━━━━━━━━━\u001b[0m\u001b[37m\u001b[0m \u001b[1m13s\u001b[0m 18ms/step - accuracy: 0.8732 - loss: 0.2244 - val_accuracy: 0.8021 - val_loss: 0.5050\n",
      "Epoch 92/100\n",
      "\u001b[1m700/700\u001b[0m \u001b[32m━━━━━━━━━━━━━━━━━━━━\u001b[0m\u001b[37m\u001b[0m \u001b[1m11s\u001b[0m 16ms/step - accuracy: 0.8683 - loss: 0.2286 - val_accuracy: 0.8049 - val_loss: 0.5702\n",
      "Epoch 93/100\n",
      "\u001b[1m700/700\u001b[0m \u001b[32m━━━━━━━━━━━━━━━━━━━━\u001b[0m\u001b[37m\u001b[0m \u001b[1m10s\u001b[0m 14ms/step - accuracy: 0.8813 - loss: 0.2217 - val_accuracy: 0.8031 - val_loss: 0.5298\n",
      "Epoch 94/100\n",
      "\u001b[1m700/700\u001b[0m \u001b[32m━━━━━━━━━━━━━━━━━━━━\u001b[0m\u001b[37m\u001b[0m \u001b[1m10s\u001b[0m 14ms/step - accuracy: 0.8717 - loss: 0.2342 - val_accuracy: 0.8117 - val_loss: 0.5657\n",
      "Epoch 95/100\n",
      "\u001b[1m700/700\u001b[0m \u001b[32m━━━━━━━━━━━━━━━━━━━━\u001b[0m\u001b[37m\u001b[0m \u001b[1m10s\u001b[0m 14ms/step - accuracy: 0.8710 - loss: 0.2272 - val_accuracy: 0.8024 - val_loss: 0.6499\n",
      "Epoch 96/100\n",
      "\u001b[1m700/700\u001b[0m \u001b[32m━━━━━━━━━━━━━━━━━━━━\u001b[0m\u001b[37m\u001b[0m \u001b[1m10s\u001b[0m 15ms/step - accuracy: 0.8709 - loss: 0.2321 - val_accuracy: 0.7981 - val_loss: 0.6233\n",
      "Epoch 97/100\n",
      "\u001b[1m700/700\u001b[0m \u001b[32m━━━━━━━━━━━━━━━━━━━━\u001b[0m\u001b[37m\u001b[0m \u001b[1m10s\u001b[0m 14ms/step - accuracy: 0.8760 - loss: 0.2205 - val_accuracy: 0.8006 - val_loss: 0.5952\n",
      "Epoch 98/100\n",
      "\u001b[1m700/700\u001b[0m \u001b[32m━━━━━━━━━━━━━━━━━━━━\u001b[0m\u001b[37m\u001b[0m \u001b[1m11s\u001b[0m 16ms/step - accuracy: 0.8806 - loss: 0.2194 - val_accuracy: 0.8024 - val_loss: 0.6528\n",
      "Epoch 99/100\n",
      "\u001b[1m700/700\u001b[0m \u001b[32m━━━━━━━━━━━━━━━━━━━━\u001b[0m\u001b[37m\u001b[0m \u001b[1m8s\u001b[0m 12ms/step - accuracy: 0.8822 - loss: 0.2254 - val_accuracy: 0.8039 - val_loss: 0.5385\n",
      "Epoch 100/100\n",
      "\u001b[1m700/700\u001b[0m \u001b[32m━━━━━━━━━━━━━━━━━━━━\u001b[0m\u001b[37m\u001b[0m \u001b[1m5s\u001b[0m 8ms/step - accuracy: 0.8710 - loss: 0.2275 - val_accuracy: 0.7964 - val_loss: 0.5500\n",
      "\u001b[1m350/350\u001b[0m \u001b[32m━━━━━━━━━━━━━━━━━━━━\u001b[0m\u001b[37m\u001b[0m \u001b[1m1s\u001b[0m 3ms/step\n",
      "\u001b[1m88/88\u001b[0m \u001b[32m━━━━━━━━━━━━━━━━━━━━\u001b[0m\u001b[37m\u001b[0m \u001b[1m0s\u001b[0m 3ms/step\n"
     ]
    }
   ],
   "source": [
    "def create_model():\n",
    "    model = Sequential()\n",
    "    model.add(Dense(512, input_shape=(X_train_scaled.shape[1],), activation='relu'))\n",
    "    model.add(Dense(512, activation='relu')) \n",
    "    model.add(Dense(256, activation='relu')) \n",
    "    model.add(Dense(128, activation='relu')) \n",
    "    model.add(Dense(64, activation='relu'))  \n",
    "    model.add(Dense(1, activation='sigmoid'))\n",
    "    model.compile(optimizer='adam', loss='binary_crossentropy', metrics=['accuracy'])\n",
    "    return model\n",
    "\n",
    "\n",
    "ann_model = create_model()\n",
    "history = ann_model.fit(X_train_scaled, y_train, epochs=100, batch_size=16, validation_data=(X_test_scaled, y_test), verbose=1)\n",
    "y_train_pred = (ann_model.predict(X_train_scaled) > 0.5).astype(\"int32\")\n",
    "y_test_pred = (ann_model.predict(X_test_scaled) > 0.5).astype(\"int32\")"
   ]
  },
  {
   "cell_type": "code",
   "execution_count": 35,
   "metadata": {
    "colab": {
     "base_uri": "https://localhost:8080/"
    },
    "id": "JVqmaXpURtRh",
    "outputId": "1de5ad08-cbda-4b3a-9cd2-5201e7ac99d2"
   },
   "outputs": [
    {
     "name": "stdout",
     "output_type": "stream",
     "text": [
      "\u001b[1m350/350\u001b[0m \u001b[32m━━━━━━━━━━━━━━━━━━━━\u001b[0m\u001b[37m\u001b[0m \u001b[1m1s\u001b[0m 3ms/step\n",
      "\u001b[1m88/88\u001b[0m \u001b[32m━━━━━━━━━━━━━━━━━━━━\u001b[0m\u001b[37m\u001b[0m \u001b[1m0s\u001b[0m 3ms/step\n",
      "Training Accuracy: 88.20691503618333\n",
      "Testing Accuracy: 79.63558413719186\n"
     ]
    }
   ],
   "source": [
    "y_train_pred = (ann_model.predict(X_train_scaled) > 0.5).astype(\"int32\")\n",
    "y_test_pred = (ann_model.predict(X_test_scaled) > 0.5).astype(\"int32\")\n",
    "\n",
    "print(\"Training Accuracy:\", accuracy_score(y_train, y_train_pred) * 100)\n",
    "print(\"Testing Accuracy:\", accuracy_score(y_test, y_test_pred) * 100)\n"
   ]
  },
  {
   "cell_type": "code",
   "execution_count": 36,
   "metadata": {
    "colab": {
     "base_uri": "https://localhost:8080/",
     "height": 410
    },
    "id": "5um1_4X0Tvqs",
    "outputId": "7602416e-6a6f-440f-883b-f222e8cd6a35"
   },
   "outputs": [
    {
     "data": {
      "image/png": "[encoded data removed]",
      "text/plain": [
       "<Figure size 600x400 with 2 Axes>"
      ]
     },
     "metadata": {},
     "output_type": "display_data"
    }
   ],
   "source": [
    "\n",
    "cm_xgb = confusion_matrix(y_test, y_pred_xgb)\n",
    "plt.figure(figsize=(6, 4))\n",
    "sns.heatmap(cm_xgb, annot=True, fmt='d', cmap='Blues', xticklabels=['Lost', 'Won'], yticklabels=['Lost', 'Won'])\n",
    "plt.title('Confusion Matrix (XGBoost)')\n",
    "plt.xlabel('Predicted')\n",
    "plt.ylabel('Actual')\n",
    "plt.show()\n"
   ]
  },
  {
   "cell_type": "markdown",
   "metadata": {
    "id": "b5P8sd-JV_SA"
   },
   "source": [
    "**`Remark:`** The results obtained using ANN appear to be decent and acceptable."
   ]
  },
  {
   "cell_type": "markdown",
   "metadata": {
    "id": "UsasLd9ta2tk"
   },
   "source": [
    "\n",
    "\n",
    "---\n",
    "\n"
   ]
  },
  {
   "cell_type": "markdown",
   "metadata": {
    "id": "GCu7ZJoMZGHn"
   },
   "source": [
    "## <b>G. Convolutional Neural Network : </b>"
   ]
  },
  {
   "cell_type": "code",
   "execution_count": 39,
   "metadata": {
    "colab": {
     "base_uri": "https://localhost:8080/"
    },
    "id": "-jsq1cW3V71N",
    "outputId": "30c983d4-2e48-43f3-a262-b4de9ec8b54e"
   },
   "outputs": [
    {
     "name": "stderr",
     "output_type": "stream",
     "text": [
      "C:\\Users\\risha\\AppData\\Local\\Programs\\Python\\Python312\\Lib\\site-packages\\keras\\src\\layers\\convolutional\\base_conv.py:107: UserWarning: Do not pass an `input_shape`/`input_dim` argument to a layer. When using Sequential models, prefer using an `Input(shape)` object as the first layer in the model instead.\n",
      "  super().__init__(activity_regularizer=activity_regularizer, **kwargs)\n"
     ]
    },
    {
     "name": "stdout",
     "output_type": "stream",
     "text": [
      "Epoch 1/100\n",
      "\u001b[1m700/700\u001b[0m \u001b[32m━━━━━━━━━━━━━━━━━━━━\u001b[0m\u001b[37m\u001b[0m \u001b[1m21s\u001b[0m 18ms/step - accuracy: 0.5007 - loss: 0.7356 - val_accuracy: 0.5277 - val_loss: 0.6898\n",
      "Epoch 2/100\n",
      "\u001b[1m700/700\u001b[0m \u001b[32m━━━━━━━━━━━━━━━━━━━━\u001b[0m\u001b[37m\u001b[0m \u001b[1m20s\u001b[0m 17ms/step - accuracy: 0.5405 - loss: 0.6885 - val_accuracy: 0.5459 - val_loss: 0.6816\n",
      "Epoch 3/100\n",
      "\u001b[1m700/700\u001b[0m \u001b[32m━━━━━━━━━━━━━━━━━━━━\u001b[0m\u001b[37m\u001b[0m \u001b[1m11s\u001b[0m 16ms/step - accuracy: 0.5532 - loss: 0.6807 - val_accuracy: 0.5763 - val_loss: 0.6727\n",
      "Epoch 4/100\n",
      "\u001b[1m700/700\u001b[0m \u001b[32m━━━━━━━━━━━━━━━━━━━━\u001b[0m\u001b[37m\u001b[0m \u001b[1m15s\u001b[0m 20ms/step - accuracy: 0.5797 - loss: 0.6703 - val_accuracy: 0.5974 - val_loss: 0.6543\n",
      "Epoch 5/100\n",
      "\u001b[1m700/700\u001b[0m \u001b[32m━━━━━━━━━━━━━━━━━━━━\u001b[0m\u001b[37m\u001b[0m \u001b[1m11s\u001b[0m 15ms/step - accuracy: 0.6088 - loss: 0.6516 - val_accuracy: 0.6091 - val_loss: 0.6428\n",
      "Epoch 6/100\n",
      "\u001b[1m700/700\u001b[0m \u001b[32m━━━━━━━━━━━━━━━━━━━━\u001b[0m\u001b[37m\u001b[0m \u001b[1m10s\u001b[0m 15ms/step - accuracy: 0.6381 - loss: 0.6250 - val_accuracy: 0.6413 - val_loss: 0.6212\n",
      "Epoch 7/100\n",
      "\u001b[1m700/700\u001b[0m \u001b[32m━━━━━━━━━━━━━━━━━━━━\u001b[0m\u001b[37m\u001b[0m \u001b[1m6s\u001b[0m 9ms/step - accuracy: 0.6659 - loss: 0.5977 - val_accuracy: 0.6720 - val_loss: 0.5879\n",
      "Epoch 8/100\n",
      "\u001b[1m700/700\u001b[0m \u001b[32m━━━━━━━━━━━━━━━━━━━━\u001b[0m\u001b[37m\u001b[0m \u001b[1m5s\u001b[0m 8ms/step - accuracy: 0.6928 - loss: 0.5635 - val_accuracy: 0.6892 - val_loss: 0.5563\n",
      "Epoch 9/100\n",
      "\u001b[1m700/700\u001b[0m \u001b[32m━━━━━━━━━━━━━━━━━━━━\u001b[0m\u001b[37m\u001b[0m \u001b[1m5s\u001b[0m 7ms/step - accuracy: 0.7361 - loss: 0.5254 - val_accuracy: 0.7024 - val_loss: 0.5486\n",
      "Epoch 10/100\n",
      "\u001b[1m700/700\u001b[0m \u001b[32m━━━━━━━━━━━━━━━━━━━━\u001b[0m\u001b[37m\u001b[0m \u001b[1m5s\u001b[0m 7ms/step - accuracy: 0.7483 - loss: 0.5012 - val_accuracy: 0.7170 - val_loss: 0.5211\n",
      "Epoch 11/100\n",
      "\u001b[1m700/700\u001b[0m \u001b[32m━━━━━━━━━━━━━━━━━━━━\u001b[0m\u001b[37m\u001b[0m \u001b[1m5s\u001b[0m 7ms/step - accuracy: 0.7606 - loss: 0.4696 - val_accuracy: 0.7270 - val_loss: 0.5079\n",
      "Epoch 12/100\n",
      "\u001b[1m700/700\u001b[0m \u001b[32m━━━━━━━━━━━━━━━━━━━━\u001b[0m\u001b[37m\u001b[0m \u001b[1m6s\u001b[0m 9ms/step - accuracy: 0.7714 - loss: 0.4524 - val_accuracy: 0.7463 - val_loss: 0.4898\n",
      "Epoch 13/100\n",
      "\u001b[1m700/700\u001b[0m \u001b[32m━━━━━━━━━━━━━━━━━━━━\u001b[0m\u001b[37m\u001b[0m \u001b[1m6s\u001b[0m 8ms/step - accuracy: 0.7797 - loss: 0.4263 - val_accuracy: 0.7428 - val_loss: 0.4844\n",
      "Epoch 14/100\n",
      "\u001b[1m700/700\u001b[0m \u001b[32m━━━━━━━━━━━━━━━━━━━━\u001b[0m\u001b[37m\u001b[0m \u001b[1m5s\u001b[0m 8ms/step - accuracy: 0.7867 - loss: 0.4194 - val_accuracy: 0.7592 - val_loss: 0.4546\n",
      "Epoch 15/100\n",
      "\u001b[1m700/700\u001b[0m \u001b[32m━━━━━━━━━━━━━━━━━━━━\u001b[0m\u001b[37m\u001b[0m \u001b[1m6s\u001b[0m 9ms/step - accuracy: 0.8022 - loss: 0.3920 - val_accuracy: 0.7560 - val_loss: 0.4714\n",
      "Epoch 16/100\n",
      "\u001b[1m700/700\u001b[0m \u001b[32m━━━━━━━━━━━━━━━━━━━━\u001b[0m\u001b[37m\u001b[0m \u001b[1m11s\u001b[0m 10ms/step - accuracy: 0.8065 - loss: 0.3880 - val_accuracy: 0.7671 - val_loss: 0.4225\n",
      "Epoch 17/100\n",
      "\u001b[1m700/700\u001b[0m \u001b[32m━━━━━━━━━━━━━━━━━━━━\u001b[0m\u001b[37m\u001b[0m \u001b[1m8s\u001b[0m 12ms/step - accuracy: 0.8087 - loss: 0.3732 - val_accuracy: 0.7799 - val_loss: 0.4342\n",
      "Epoch 18/100\n",
      "\u001b[1m700/700\u001b[0m \u001b[32m━━━━━━━━━━━━━━━━━━━━\u001b[0m\u001b[37m\u001b[0m \u001b[1m8s\u001b[0m 11ms/step - accuracy: 0.8138 - loss: 0.3669 - val_accuracy: 0.7817 - val_loss: 0.4221\n",
      "Epoch 19/100\n",
      "\u001b[1m700/700\u001b[0m \u001b[32m━━━━━━━━━━━━━━━━━━━━\u001b[0m\u001b[37m\u001b[0m \u001b[1m7s\u001b[0m 10ms/step - accuracy: 0.8150 - loss: 0.3486 - val_accuracy: 0.7774 - val_loss: 0.4407\n",
      "Epoch 20/100\n",
      "\u001b[1m700/700\u001b[0m \u001b[32m━━━━━━━━━━━━━━━━━━━━\u001b[0m\u001b[37m\u001b[0m \u001b[1m7s\u001b[0m 9ms/step - accuracy: 0.8196 - loss: 0.3567 - val_accuracy: 0.7749 - val_loss: 0.4170\n",
      "Epoch 21/100\n",
      "\u001b[1m700/700\u001b[0m \u001b[32m━━━━━━━━━━━━━━━━━━━━\u001b[0m\u001b[37m\u001b[0m \u001b[1m7s\u001b[0m 9ms/step - accuracy: 0.8201 - loss: 0.3421 - val_accuracy: 0.7899 - val_loss: 0.4008\n",
      "Epoch 22/100\n",
      "\u001b[1m700/700\u001b[0m \u001b[32m━━━━━━━━━━━━━━━━━━━━\u001b[0m\u001b[37m\u001b[0m \u001b[1m7s\u001b[0m 10ms/step - accuracy: 0.8281 - loss: 0.3324 - val_accuracy: 0.7728 - val_loss: 0.4168\n",
      "Epoch 23/100\n",
      "\u001b[1m700/700\u001b[0m \u001b[32m━━━━━━━━━━━━━━━━━━━━\u001b[0m\u001b[37m\u001b[0m \u001b[1m6s\u001b[0m 9ms/step - accuracy: 0.8321 - loss: 0.3332 - val_accuracy: 0.7881 - val_loss: 0.3975\n",
      "Epoch 24/100\n",
      "\u001b[1m700/700\u001b[0m \u001b[32m━━━━━━━━━━━━━━━━━━━━\u001b[0m\u001b[37m\u001b[0m \u001b[1m6s\u001b[0m 9ms/step - accuracy: 0.8365 - loss: 0.3174 - val_accuracy: 0.7903 - val_loss: 0.4073\n",
      "Epoch 25/100\n",
      "\u001b[1m700/700\u001b[0m \u001b[32m━━━━━━━━━━━━━━━━━━━━\u001b[0m\u001b[37m\u001b[0m \u001b[1m7s\u001b[0m 10ms/step - accuracy: 0.8344 - loss: 0.3195 - val_accuracy: 0.7846 - val_loss: 0.3984\n",
      "Epoch 26/100\n",
      "\u001b[1m700/700\u001b[0m \u001b[32m━━━━━━━━━━━━━━━━━━━━\u001b[0m\u001b[37m\u001b[0m \u001b[1m7s\u001b[0m 10ms/step - accuracy: 0.8376 - loss: 0.3107 - val_accuracy: 0.7871 - val_loss: 0.4008\n",
      "Epoch 27/100\n",
      "\u001b[1m700/700\u001b[0m \u001b[32m━━━━━━━━━━━━━━━━━━━━\u001b[0m\u001b[37m\u001b[0m \u001b[1m10s\u001b[0m 14ms/step - accuracy: 0.8417 - loss: 0.3098 - val_accuracy: 0.7910 - val_loss: 0.3998\n",
      "Epoch 28/100\n",
      "\u001b[1m700/700\u001b[0m \u001b[32m━━━━━━━━━━━━━━━━━━━━\u001b[0m\u001b[37m\u001b[0m \u001b[1m9s\u001b[0m 13ms/step - accuracy: 0.8453 - loss: 0.2977 - val_accuracy: 0.7974 - val_loss: 0.3909\n",
      "Epoch 29/100\n",
      "\u001b[1m700/700\u001b[0m \u001b[32m━━━━━━━━━━━━━━━━━━━━\u001b[0m\u001b[37m\u001b[0m \u001b[1m11s\u001b[0m 16ms/step - accuracy: 0.8536 - loss: 0.2933 - val_accuracy: 0.7917 - val_loss: 0.4018\n",
      "Epoch 30/100\n",
      "\u001b[1m700/700\u001b[0m \u001b[32m━━━━━━━━━━━━━━━━━━━━\u001b[0m\u001b[37m\u001b[0m \u001b[1m16s\u001b[0m 23ms/step - accuracy: 0.8427 - loss: 0.2982 - val_accuracy: 0.8017 - val_loss: 0.3801\n",
      "Epoch 31/100\n",
      "\u001b[1m700/700\u001b[0m \u001b[32m━━━━━━━━━━━━━━━━━━━━\u001b[0m\u001b[37m\u001b[0m \u001b[1m16s\u001b[0m 16ms/step - accuracy: 0.8514 - loss: 0.2803 - val_accuracy: 0.7849 - val_loss: 0.4075\n",
      "Epoch 32/100\n",
      "\u001b[1m700/700\u001b[0m \u001b[32m━━━━━━━━━━━━━━━━━━━━\u001b[0m\u001b[37m\u001b[0m \u001b[1m12s\u001b[0m 17ms/step - accuracy: 0.8500 - loss: 0.2856 - val_accuracy: 0.7974 - val_loss: 0.4118\n",
      "Epoch 33/100\n",
      "\u001b[1m700/700\u001b[0m \u001b[32m━━━━━━━━━━━━━━━━━━━━\u001b[0m\u001b[37m\u001b[0m \u001b[1m12s\u001b[0m 16ms/step - accuracy: 0.8451 - loss: 0.2986 - val_accuracy: 0.8006 - val_loss: 0.3879\n",
      "Epoch 34/100\n",
      "\u001b[1m700/700\u001b[0m \u001b[32m━━━━━━━━━━━━━━━━━━━━\u001b[0m\u001b[37m\u001b[0m \u001b[1m19s\u001b[0m 15ms/step - accuracy: 0.8513 - loss: 0.2812 - val_accuracy: 0.7974 - val_loss: 0.4060\n",
      "Epoch 35/100\n",
      "\u001b[1m700/700\u001b[0m \u001b[32m━━━━━━━━━━━━━━━━━━━━\u001b[0m\u001b[37m\u001b[0m \u001b[1m10s\u001b[0m 15ms/step - accuracy: 0.8483 - loss: 0.2915 - val_accuracy: 0.7889 - val_loss: 0.4015\n",
      "Epoch 36/100\n",
      "\u001b[1m700/700\u001b[0m \u001b[32m━━━━━━━━━━━━━━━━━━━━\u001b[0m\u001b[37m\u001b[0m \u001b[1m12s\u001b[0m 17ms/step - accuracy: 0.8511 - loss: 0.2802 - val_accuracy: 0.7949 - val_loss: 0.3831\n",
      "Epoch 37/100\n",
      "\u001b[1m700/700\u001b[0m \u001b[32m━━━━━━━━━━━━━━━━━━━━\u001b[0m\u001b[37m\u001b[0m \u001b[1m15s\u001b[0m 21ms/step - accuracy: 0.8492 - loss: 0.2815 - val_accuracy: 0.8006 - val_loss: 0.3805\n",
      "Epoch 38/100\n",
      "\u001b[1m700/700\u001b[0m \u001b[32m━━━━━━━━━━━━━━━━━━━━\u001b[0m\u001b[37m\u001b[0m \u001b[1m14s\u001b[0m 20ms/step - accuracy: 0.8536 - loss: 0.2784 - val_accuracy: 0.8046 - val_loss: 0.3791\n",
      "Epoch 39/100\n",
      "\u001b[1m700/700\u001b[0m \u001b[32m━━━━━━━━━━━━━━━━━━━━\u001b[0m\u001b[37m\u001b[0m \u001b[1m15s\u001b[0m 21ms/step - accuracy: 0.8514 - loss: 0.2706 - val_accuracy: 0.7903 - val_loss: 0.3918\n",
      "Epoch 40/100\n",
      "\u001b[1m700/700\u001b[0m \u001b[32m━━━━━━━━━━━━━━━━━━━━\u001b[0m\u001b[37m\u001b[0m \u001b[1m13s\u001b[0m 19ms/step - accuracy: 0.8565 - loss: 0.2771 - val_accuracy: 0.7949 - val_loss: 0.3842\n",
      "Epoch 41/100\n",
      "\u001b[1m700/700\u001b[0m \u001b[32m━━━━━━━━━━━━━━━━━━━━\u001b[0m\u001b[37m\u001b[0m \u001b[1m8s\u001b[0m 11ms/step - accuracy: 0.8601 - loss: 0.2733 - val_accuracy: 0.8067 - val_loss: 0.3736\n",
      "Epoch 42/100\n",
      "\u001b[1m700/700\u001b[0m \u001b[32m━━━━━━━━━━━━━━━━━━━━\u001b[0m\u001b[37m\u001b[0m \u001b[1m6s\u001b[0m 8ms/step - accuracy: 0.8514 - loss: 0.2756 - val_accuracy: 0.7964 - val_loss: 0.4143\n",
      "Epoch 43/100\n",
      "\u001b[1m700/700\u001b[0m \u001b[32m━━━━━━━━━━━━━━━━━━━━\u001b[0m\u001b[37m\u001b[0m \u001b[1m10s\u001b[0m 7ms/step - accuracy: 0.8612 - loss: 0.2679 - val_accuracy: 0.8028 - val_loss: 0.3929\n",
      "Epoch 44/100\n",
      "\u001b[1m700/700\u001b[0m \u001b[32m━━━━━━━━━━━━━━━━━━━━\u001b[0m\u001b[37m\u001b[0m \u001b[1m5s\u001b[0m 7ms/step - accuracy: 0.8610 - loss: 0.2594 - val_accuracy: 0.8071 - val_loss: 0.3927\n",
      "Epoch 45/100\n",
      "\u001b[1m700/700\u001b[0m \u001b[32m━━━━━━━━━━━━━━━━━━━━\u001b[0m\u001b[37m\u001b[0m \u001b[1m5s\u001b[0m 8ms/step - accuracy: 0.8587 - loss: 0.2697 - val_accuracy: 0.8121 - val_loss: 0.3896\n",
      "Epoch 46/100\n",
      "\u001b[1m700/700\u001b[0m \u001b[32m━━━━━━━━━━━━━━━━━━━━\u001b[0m\u001b[37m\u001b[0m \u001b[1m5s\u001b[0m 7ms/step - accuracy: 0.8694 - loss: 0.2505 - val_accuracy: 0.8028 - val_loss: 0.3998\n",
      "Epoch 47/100\n",
      "\u001b[1m700/700\u001b[0m \u001b[32m━━━━━━━━━━━━━━━━━━━━\u001b[0m\u001b[37m\u001b[0m \u001b[1m6s\u001b[0m 8ms/step - accuracy: 0.8611 - loss: 0.2537 - val_accuracy: 0.8017 - val_loss: 0.4041\n",
      "Epoch 48/100\n",
      "\u001b[1m700/700\u001b[0m \u001b[32m━━━━━━━━━━━━━━━━━━━━\u001b[0m\u001b[37m\u001b[0m \u001b[1m6s\u001b[0m 8ms/step - accuracy: 0.8645 - loss: 0.2554 - val_accuracy: 0.8021 - val_loss: 0.4062\n",
      "Epoch 49/100\n",
      "\u001b[1m700/700\u001b[0m \u001b[32m━━━━━━━━━━━━━━━━━━━━\u001b[0m\u001b[37m\u001b[0m \u001b[1m6s\u001b[0m 8ms/step - accuracy: 0.8606 - loss: 0.2640 - val_accuracy: 0.7914 - val_loss: 0.4002\n",
      "Epoch 50/100\n",
      "\u001b[1m700/700\u001b[0m \u001b[32m━━━━━━━━━━━━━━━━━━━━\u001b[0m\u001b[37m\u001b[0m \u001b[1m5s\u001b[0m 8ms/step - accuracy: 0.8648 - loss: 0.2511 - val_accuracy: 0.7924 - val_loss: 0.4109\n",
      "Epoch 51/100\n",
      "\u001b[1m700/700\u001b[0m \u001b[32m━━━━━━━━━━━━━━━━━━━━\u001b[0m\u001b[37m\u001b[0m \u001b[1m6s\u001b[0m 8ms/step - accuracy: 0.8682 - loss: 0.2514 - val_accuracy: 0.7974 - val_loss: 0.3965\n",
      "Epoch 52/100\n",
      "\u001b[1m700/700\u001b[0m \u001b[32m━━━━━━━━━━━━━━━━━━━━\u001b[0m\u001b[37m\u001b[0m \u001b[1m6s\u001b[0m 8ms/step - accuracy: 0.8611 - loss: 0.2623 - val_accuracy: 0.7814 - val_loss: 0.4954\n",
      "Epoch 53/100\n",
      "\u001b[1m700/700\u001b[0m \u001b[32m━━━━━━━━━━━━━━━━━━━━\u001b[0m\u001b[37m\u001b[0m \u001b[1m6s\u001b[0m 8ms/step - accuracy: 0.8625 - loss: 0.2685 - val_accuracy: 0.7889 - val_loss: 0.4406\n",
      "Epoch 54/100\n",
      "\u001b[1m700/700\u001b[0m \u001b[32m━━━━━━━━━━━━━━━━━━━━\u001b[0m\u001b[37m\u001b[0m \u001b[1m6s\u001b[0m 9ms/step - accuracy: 0.8581 - loss: 0.2660 - val_accuracy: 0.8085 - val_loss: 0.3877\n",
      "Epoch 55/100\n",
      "\u001b[1m700/700\u001b[0m \u001b[32m━━━━━━━━━━━━━━━━━━━━\u001b[0m\u001b[37m\u001b[0m \u001b[1m6s\u001b[0m 9ms/step - accuracy: 0.8744 - loss: 0.2459 - val_accuracy: 0.7921 - val_loss: 0.4135\n",
      "Epoch 56/100\n",
      "\u001b[1m700/700\u001b[0m \u001b[32m━━━━━━━━━━━━━━━━━━━━\u001b[0m\u001b[37m\u001b[0m \u001b[1m6s\u001b[0m 9ms/step - accuracy: 0.8603 - loss: 0.2607 - val_accuracy: 0.8028 - val_loss: 0.3982\n",
      "Epoch 57/100\n",
      "\u001b[1m700/700\u001b[0m \u001b[32m━━━━━━━━━━━━━━━━━━━━\u001b[0m\u001b[37m\u001b[0m \u001b[1m6s\u001b[0m 9ms/step - accuracy: 0.8676 - loss: 0.2533 - val_accuracy: 0.7989 - val_loss: 0.4374\n",
      "Epoch 58/100\n",
      "\u001b[1m700/700\u001b[0m \u001b[32m━━━━━━━━━━━━━━━━━━━━\u001b[0m\u001b[37m\u001b[0m \u001b[1m7s\u001b[0m 9ms/step - accuracy: 0.8669 - loss: 0.2484 - val_accuracy: 0.7924 - val_loss: 0.4077\n",
      "Epoch 59/100\n",
      "\u001b[1m700/700\u001b[0m \u001b[32m━━━━━━━━━━━━━━━━━━━━\u001b[0m\u001b[37m\u001b[0m \u001b[1m7s\u001b[0m 9ms/step - accuracy: 0.8732 - loss: 0.2395 - val_accuracy: 0.7910 - val_loss: 0.4435\n",
      "Epoch 60/100\n",
      "\u001b[1m700/700\u001b[0m \u001b[32m━━━━━━━━━━━━━━━━━━━━\u001b[0m\u001b[37m\u001b[0m \u001b[1m7s\u001b[0m 10ms/step - accuracy: 0.8640 - loss: 0.2593 - val_accuracy: 0.7956 - val_loss: 0.4026\n",
      "Epoch 61/100\n",
      "\u001b[1m700/700\u001b[0m \u001b[32m━━━━━━━━━━━━━━━━━━━━\u001b[0m\u001b[37m\u001b[0m \u001b[1m7s\u001b[0m 10ms/step - accuracy: 0.8683 - loss: 0.2456 - val_accuracy: 0.8056 - val_loss: 0.4243\n",
      "Epoch 62/100\n",
      "\u001b[1m700/700\u001b[0m \u001b[32m━━━━━━━━━━━━━━━━━━━━\u001b[0m\u001b[37m\u001b[0m \u001b[1m8s\u001b[0m 12ms/step - accuracy: 0.8685 - loss: 0.2529 - val_accuracy: 0.8021 - val_loss: 0.4402\n",
      "Epoch 63/100\n",
      "\u001b[1m700/700\u001b[0m \u001b[32m━━━━━━━━━━━━━━━━━━━━\u001b[0m\u001b[37m\u001b[0m \u001b[1m9s\u001b[0m 12ms/step - accuracy: 0.8703 - loss: 0.2470 - val_accuracy: 0.7989 - val_loss: 0.3977\n",
      "Epoch 64/100\n",
      "\u001b[1m700/700\u001b[0m \u001b[32m━━━━━━━━━━━━━━━━━━━━\u001b[0m\u001b[37m\u001b[0m \u001b[1m12s\u001b[0m 17ms/step - accuracy: 0.8675 - loss: 0.2459 - val_accuracy: 0.7824 - val_loss: 0.4782\n",
      "Epoch 65/100\n",
      "\u001b[1m700/700\u001b[0m \u001b[32m━━━━━━━━━━━━━━━━━━━━\u001b[0m\u001b[37m\u001b[0m \u001b[1m22s\u001b[0m 20ms/step - accuracy: 0.8715 - loss: 0.2422 - val_accuracy: 0.8031 - val_loss: 0.4120\n",
      "Epoch 66/100\n",
      "\u001b[1m700/700\u001b[0m \u001b[32m━━━━━━━━━━━━━━━━━━━━\u001b[0m\u001b[37m\u001b[0m \u001b[1m17s\u001b[0m 25ms/step - accuracy: 0.8687 - loss: 0.2584 - val_accuracy: 0.7949 - val_loss: 0.4428\n",
      "Epoch 71/100\n",
      "\u001b[1m700/700\u001b[0m \u001b[32m━━━━━━━━━━━━━━━━━━━━\u001b[0m\u001b[37m\u001b[0m \u001b[1m17s\u001b[0m 23ms/step - accuracy: 0.8720 - loss: 0.2371 - val_accuracy: 0.7935 - val_loss: 0.4279\n",
      "Epoch 72/100\n",
      "\u001b[1m700/700\u001b[0m \u001b[32m━━━━━━━━━━━━━━━━━━━━\u001b[0m\u001b[37m\u001b[0m \u001b[1m19s\u001b[0m 22ms/step - accuracy: 0.8760 - loss: 0.2311 - val_accuracy: 0.8014 - val_loss: 0.4617\n",
      "Epoch 73/100\n",
      "\u001b[1m700/700\u001b[0m \u001b[32m━━━━━━━━━━━━━━━━━━━━\u001b[0m\u001b[37m\u001b[0m \u001b[1m15s\u001b[0m 21ms/step - accuracy: 0.8735 - loss: 0.2354 - val_accuracy: 0.7867 - val_loss: 0.4425\n",
      "Epoch 74/100\n",
      "\u001b[1m700/700\u001b[0m \u001b[32m━━━━━━━━━━━━━━━━━━━━\u001b[0m\u001b[37m\u001b[0m \u001b[1m10s\u001b[0m 14ms/step - accuracy: 0.8691 - loss: 0.2500 - val_accuracy: 0.7996 - val_loss: 0.4476\n",
      "Epoch 75/100\n",
      "\u001b[1m700/700\u001b[0m \u001b[32m━━━━━━━━━━━━━━━━━━━━\u001b[0m\u001b[37m\u001b[0m \u001b[1m6s\u001b[0m 9ms/step - accuracy: 0.8719 - loss: 0.2495 - val_accuracy: 0.8085 - val_loss: 0.4585\n",
      "Epoch 76/100\n",
      "\u001b[1m700/700\u001b[0m \u001b[32m━━━━━━━━━━━━━━━━━━━━\u001b[0m\u001b[37m\u001b[0m \u001b[1m6s\u001b[0m 9ms/step - accuracy: 0.8745 - loss: 0.2365 - val_accuracy: 0.8035 - val_loss: 0.4238\n",
      "Epoch 77/100\n",
      "\u001b[1m700/700\u001b[0m \u001b[32m━━━━━━━━━━━━━━━━━━━━\u001b[0m\u001b[37m\u001b[0m \u001b[1m7s\u001b[0m 10ms/step - accuracy: 0.8700 - loss: 0.2364 - val_accuracy: 0.8103 - val_loss: 0.4254\n",
      "Epoch 78/100\n",
      "\u001b[1m700/700\u001b[0m \u001b[32m━━━━━━━━━━━━━━━━━━━━\u001b[0m\u001b[37m\u001b[0m \u001b[1m7s\u001b[0m 10ms/step - accuracy: 0.8711 - loss: 0.2447 - val_accuracy: 0.7978 - val_loss: 0.4394\n",
      "Epoch 79/100\n",
      "\u001b[1m700/700\u001b[0m \u001b[32m━━━━━━━━━━━━━━━━━━━━\u001b[0m\u001b[37m\u001b[0m \u001b[1m8s\u001b[0m 11ms/step - accuracy: 0.8745 - loss: 0.2291 - val_accuracy: 0.7899 - val_loss: 0.4855\n",
      "Epoch 80/100\n",
      "\u001b[1m700/700\u001b[0m \u001b[32m━━━━━━━━━━━━━━━━━━━━\u001b[0m\u001b[37m\u001b[0m \u001b[1m8s\u001b[0m 11ms/step - accuracy: 0.8718 - loss: 0.2426 - val_accuracy: 0.7931 - val_loss: 0.4659\n",
      "Epoch 81/100\n",
      "\u001b[1m700/700\u001b[0m \u001b[32m━━━━━━━━━━━━━━━━━━━━\u001b[0m\u001b[37m\u001b[0m \u001b[1m8s\u001b[0m 12ms/step - accuracy: 0.8706 - loss: 0.2389 - val_accuracy: 0.7956 - val_loss: 0.5002\n",
      "Epoch 82/100\n",
      "\u001b[1m700/700\u001b[0m \u001b[32m━━━━━━━━━━━━━━━━━━━━\u001b[0m\u001b[37m\u001b[0m \u001b[1m8s\u001b[0m 12ms/step - accuracy: 0.8769 - loss: 0.2299 - val_accuracy: 0.7981 - val_loss: 0.4566\n",
      "Epoch 83/100\n",
      "\u001b[1m700/700\u001b[0m \u001b[32m━━━━━━━━━━━━━━━━━━━━\u001b[0m\u001b[37m\u001b[0m \u001b[1m13s\u001b[0m 15ms/step - accuracy: 0.8753 - loss: 0.2321 - val_accuracy: 0.7999 - val_loss: 0.4539\n",
      "Epoch 84/100\n",
      "\u001b[1m700/700\u001b[0m \u001b[32m━━━━━━━━━━━━━━━━━━━━\u001b[0m\u001b[37m\u001b[0m \u001b[1m10s\u001b[0m 15ms/step - accuracy: 0.8720 - loss: 0.2390 - val_accuracy: 0.7985 - val_loss: 0.4907\n",
      "Epoch 85/100\n",
      "\u001b[1m700/700\u001b[0m \u001b[32m━━━━━━━━━━━━━━━━━━━━\u001b[0m\u001b[37m\u001b[0m \u001b[1m9s\u001b[0m 13ms/step - accuracy: 0.8766 - loss: 0.2319 - val_accuracy: 0.7999 - val_loss: 0.4768\n",
      "Epoch 86/100\n",
      "\u001b[1m700/700\u001b[0m \u001b[32m━━━━━━━━━━━━━━━━━━━━\u001b[0m\u001b[37m\u001b[0m \u001b[1m9s\u001b[0m 13ms/step - accuracy: 0.8820 - loss: 0.2150 - val_accuracy: 0.8014 - val_loss: 0.4495\n",
      "Epoch 87/100\n",
      "\u001b[1m700/700\u001b[0m \u001b[32m━━━━━━━━━━━━━━━━━━━━\u001b[0m\u001b[37m\u001b[0m \u001b[1m9s\u001b[0m 13ms/step - accuracy: 0.8790 - loss: 0.2271 - val_accuracy: 0.8003 - val_loss: 0.4668\n",
      "Epoch 88/100\n",
      "\u001b[1m700/700\u001b[0m \u001b[32m━━━━━━━━━━━━━━━━━━━━\u001b[0m\u001b[37m\u001b[0m \u001b[1m8s\u001b[0m 12ms/step - accuracy: 0.8698 - loss: 0.2449 - val_accuracy: 0.7974 - val_loss: 0.4431\n",
      "Epoch 89/100\n",
      "\u001b[1m700/700\u001b[0m \u001b[32m━━━━━━━━━━━━━━━━━━━━\u001b[0m\u001b[37m\u001b[0m \u001b[1m10s\u001b[0m 14ms/step - accuracy: 0.8776 - loss: 0.2254 - val_accuracy: 0.7992 - val_loss: 0.4505\n",
      "Epoch 90/100\n",
      "\u001b[1m700/700\u001b[0m \u001b[32m━━━━━━━━━━━━━━━━━━━━\u001b[0m\u001b[37m\u001b[0m \u001b[1m11s\u001b[0m 16ms/step - accuracy: 0.8761 - loss: 0.2316 - val_accuracy: 0.7931 - val_loss: 0.5081\n",
      "Epoch 91/100\n",
      "\u001b[1m700/700\u001b[0m \u001b[32m━━━━━━━━━━━━━━━━━━━━\u001b[0m\u001b[37m\u001b[0m \u001b[1m11s\u001b[0m 15ms/step - accuracy: 0.8826 - loss: 0.2284 - val_accuracy: 0.8010 - val_loss: 0.5226\n",
      "Epoch 92/100\n",
      "\u001b[1m700/700\u001b[0m \u001b[32m━━━━━━━━━━━━━━━━━━━━\u001b[0m\u001b[37m\u001b[0m \u001b[1m11s\u001b[0m 16ms/step - accuracy: 0.8739 - loss: 0.2369 - val_accuracy: 0.8003 - val_loss: 0.4704\n",
      "Epoch 93/100\n",
      "\u001b[1m700/700\u001b[0m \u001b[32m━━━━━━━━━━━━━━━━━━━━\u001b[0m\u001b[37m\u001b[0m \u001b[1m12s\u001b[0m 17ms/step - accuracy: 0.8765 - loss: 0.2301 - val_accuracy: 0.7903 - val_loss: 0.4777\n",
      "Epoch 94/100\n",
      "\u001b[1m700/700\u001b[0m \u001b[32m━━━━━━━━━━━━━━━━━━━━\u001b[0m\u001b[37m\u001b[0m \u001b[1m12s\u001b[0m 17ms/step - accuracy: 0.8831 - loss: 0.2183 - val_accuracy: 0.7978 - val_loss: 0.4632\n",
      "Epoch 95/100\n",
      "\u001b[1m700/700\u001b[0m \u001b[32m━━━━━━━━━━━━━━━━━━━━\u001b[0m\u001b[37m\u001b[0m \u001b[1m14s\u001b[0m 20ms/step - accuracy: 0.8752 - loss: 0.2193 - val_accuracy: 0.8010 - val_loss: 0.4830\n",
      "Epoch 96/100\n",
      "\u001b[1m700/700\u001b[0m \u001b[32m━━━━━━━━━━━━━━━━━━━━\u001b[0m\u001b[37m\u001b[0m \u001b[1m14s\u001b[0m 19ms/step - accuracy: 0.8767 - loss: 0.2335 - val_accuracy: 0.7960 - val_loss: 0.5449\n",
      "Epoch 97/100\n",
      "\u001b[1m700/700\u001b[0m \u001b[32m━━━━━━━━━━━━━━━━━━━━\u001b[0m\u001b[37m\u001b[0m \u001b[1m15s\u001b[0m 21ms/step - accuracy: 0.8801 - loss: 0.2306 - val_accuracy: 0.7974 - val_loss: 0.4508\n",
      "Epoch 98/100\n",
      "\u001b[1m700/700\u001b[0m \u001b[32m━━━━━━━━━━━━━━━━━━━━\u001b[0m\u001b[37m\u001b[0m \u001b[1m21s\u001b[0m 30ms/step - accuracy: 0.8819 - loss: 0.2165 - val_accuracy: 0.7992 - val_loss: 0.4880\n",
      "Epoch 99/100\n",
      "\u001b[1m700/700\u001b[0m \u001b[32m━━━━━━━━━━━━━━━━━━━━\u001b[0m\u001b[37m\u001b[0m \u001b[1m17s\u001b[0m 23ms/step - accuracy: 0.8845 - loss: 0.2133 - val_accuracy: 0.7903 - val_loss: 0.5565\n",
      "Epoch 100/100\n",
      "\u001b[1m700/700\u001b[0m \u001b[32m━━━━━━━━━━━━━━━━━━━━\u001b[0m\u001b[37m\u001b[0m \u001b[1m18s\u001b[0m 25ms/step - accuracy: 0.8787 - loss: 0.2301 - val_accuracy: 0.7956 - val_loss: 0.5028\n",
      "\u001b[1m350/350\u001b[0m \u001b[32m━━━━━━━━━━━━━━━━━━━━\u001b[0m\u001b[37m\u001b[0m \u001b[1m5s\u001b[0m 15ms/step - accuracy: 0.8855 - loss: 0.2115\n",
      "\u001b[1m88/88\u001b[0m \u001b[32m━━━━━━━━━━━━━━━━━━━━\u001b[0m\u001b[37m\u001b[0m \u001b[1m1s\u001b[0m 12ms/step - accuracy: 0.7895 - loss: 0.5455\n"
     ]
    }
   ],
   "source": [
    "X_train_scaled = X_train_scaled.reshape(X_train_scaled.shape[0], X_train_scaled.shape[1], 1)\n",
    "X_test_scaled = X_test_scaled.reshape(X_test_scaled.shape[0], X_test_scaled.shape[1], 1)\n",
    "\n",
    "def create_cnn_model():\n",
    "    model = Sequential()\n",
    "    model.add(Conv1D(64, kernel_size=3, activation='relu', input_shape=(X_train.shape[1], 1))) \n",
    "    model.add(Conv1D(128, kernel_size=3, activation='relu'))\n",
    "    model.add(Conv1D(256, kernel_size=3, activation='relu'))\n",
    "    model.add(Flatten())\n",
    "    model.add(Dense(128, activation='relu'))\n",
    "    model.add(Dense(1, activation='sigmoid'))\n",
    "    model.compile(optimizer='adam', loss='binary_crossentropy', metrics=['accuracy'])\n",
    "    return model\n",
    "\n",
    "cnn_model = create_cnn_model()\n",
    "history = cnn_model.fit(X_train, y_train, epochs=100, batch_size=16, validation_data=(X_test, y_test), verbose=1)\n",
    "\n",
    "train_loss, train_accuracy = cnn_model.evaluate(X_train, y_train)\n",
    "test_loss, test_accuracy = cnn_model.evaluate(X_test, y_test)"
   ]
  },
  {
   "cell_type": "code",
   "execution_count": 40,
   "metadata": {
    "colab": {
     "base_uri": "https://localhost:8080/"
    },
    "id": "ZNmZ5VGsXnQu",
    "outputId": "ded3685b-9e5c-42e6-89e2-82cb70eb3ca1"
   },
   "outputs": [
    {
     "name": "stdout",
     "output_type": "stream",
     "text": [
      "\u001b[1m350/350\u001b[0m \u001b[32m━━━━━━━━━━━━━━━━━━━━\u001b[0m\u001b[37m\u001b[0m \u001b[1m2s\u001b[0m 6ms/step\n",
      "\u001b[1m88/88\u001b[0m \u001b[32m━━━━━━━━━━━━━━━━━━━━\u001b[0m\u001b[37m\u001b[0m \u001b[1m0s\u001b[0m 5ms/step\n",
      "Training Loss: 0.20843058824539185\n",
      "Training Accuracy: 88.78763318061829\n",
      "Training Precision: 0.8964886613021215\n",
      "Training Recall: 0.8767662314433912\n",
      "Training F1 Score: 0.8865177683334841\n",
      "Training Confusion Matrix:\n",
      " [[5036  566]\n",
      " [ 689 4902]]\n",
      "\n",
      "Testing Loss: 0.5028479099273682\n",
      "Testing Accuracy: 79.5641303062439\n",
      "Testing Precision: 0.7885881492318947\n",
      "Testing Recall: 0.7920646583394563\n",
      "Testing F1 Score: 0.7903225806451613\n",
      "Testing Confusion Matrix:\n",
      " [[1149  289]\n",
      " [ 283 1078]]\n"
     ]
    }
   ],
   "source": [
    "train_loss, train_accuracy = cnn_model.evaluate(X_train, y_train, verbose=0)\n",
    "test_loss, test_accuracy = cnn_model.evaluate(X_test, y_test, verbose=0)\n",
    "\n",
    "y_train_pred = (cnn_model.predict(X_train) > 0.5).astype(\"int32\")\n",
    "y_test_pred = (cnn_model.predict(X_test) > 0.5).astype(\"int32\")\n",
    "\n",
    "train_precision = precision_score(y_train, y_train_pred)\n",
    "test_precision = precision_score(y_test, y_test_pred)\n",
    "\n",
    "train_recall = recall_score(y_train, y_train_pred)\n",
    "test_recall = recall_score(y_test, y_test_pred)\n",
    "\n",
    "train_f1 = f1_score(y_train, y_train_pred)\n",
    "test_f1 = f1_score(y_test, y_test_pred)\n",
    "\n",
    "train_confusion = confusion_matrix(y_train, y_train_pred)\n",
    "test_confusion = confusion_matrix(y_test, y_test_pred)\n",
    "\n",
    "print(\"Training Loss:\", train_loss)\n",
    "print(\"Training Accuracy:\", train_accuracy * 100)\n",
    "print(\"Training Precision:\", train_precision)\n",
    "print(\"Training Recall:\", train_recall)\n",
    "print(\"Training F1 Score:\", train_f1)\n",
    "print(\"Training Confusion Matrix:\\n\", train_confusion)\n",
    "\n",
    "print(\"\\nTesting Loss:\", test_loss)\n",
    "print(\"Testing Accuracy:\", test_accuracy * 100)\n",
    "print(\"Testing Precision:\", test_precision)\n",
    "print(\"Testing Recall:\", test_recall)\n",
    "print(\"Testing F1 Score:\", test_f1)\n",
    "print(\"Testing Confusion Matrix:\\n\", test_confusion)"
   ]
  },
  {
   "cell_type": "code",
   "execution_count": 41,
   "metadata": {
    "colab": {
     "base_uri": "https://localhost:8080/",
     "height": 410
    },
    "id": "KSVeQ3zrag8e",
    "outputId": "4cfb4bba-b191-4ecd-fe42-34677c3329b1"
   },
   "outputs": [
    {
     "data": {
      "image/png": "[encoded data removed]",
      "text/plain": [
       "<Figure size 600x400 with 2 Axes>"
      ]
     },
     "metadata": {},
     "output_type": "display_data"
    }
   ],
   "source": [
    "cm_xgb = confusion_matrix(y_test, y_test_pred)\n",
    "plt.figure(figsize=(6, 4))\n",
    "sns.heatmap(cm_xgb, annot=True, fmt='d', cmap='Blues', xticklabels=['Lost', 'Won'], yticklabels=['Lost', 'Won'])\n",
    "plt.title('Confusion Matrix (XGBoost)')\n",
    "plt.xlabel('Predicted')\n",
    "plt.ylabel('Actual')\n",
    "plt.show()\n"
   ]
  },
  {
   "cell_type": "markdown",
   "metadata": {
    "id": "UBRwmQQ2a5jj"
   },
   "source": [
    "**`Remark:`** The results obtained using CNN appear to be decent and acceptable. The obtained results suggest that the model is neither overfit nor underfit. Therefore, can be chosen for the task."
   ]
  },
  {
   "cell_type": "markdown",
   "metadata": {
    "id": "H2ldZJbra1Rt"
   },
   "source": [
    "\n",
    "\n",
    "---\n",
    "\n",
    "\n",
    "\n",
    "\n",
    "\n"
   ]
  },
  {
   "cell_type": "markdown",
   "metadata": {
    "id": "CV-fOF7GTjVM",
    "jp-MarkdownHeadingCollapsed": true
   },
   "source": [
    "# **5. Visualization of the obtained results:**"
   ]
  },
  {
   "cell_type": "markdown",
   "metadata": {
    "id": "eiiboSEhT5Kn"
   },
   "source": [
    "## ***Plotting to depict the importance given by the chosen model to each feature.***"
   ]
  },
  {
   "cell_type": "code",
   "execution_count": 37,
   "metadata": {
    "colab": {
     "base_uri": "https://localhost:8080/",
     "height": 211
    },
    "id": "iQbSXlqyTw0d",
    "outputId": "9cb3d36a-36fb-4b15-c8c9-4ac4665674df"
   },
   "outputs": [
    {
     "name": "stderr",
     "output_type": "stream",
     "text": [
      "C:\\Users\\risha\\AppData\\Local\\Temp\\ipykernel_57716\\22788063.py:10: FutureWarning: \n",
      "\n",
      "Passing `palette` without assigning `hue` is deprecated and will be removed in v0.14.0. Assign the `y` variable to `hue` and set `legend=False` for the same effect.\n",
      "\n",
      "  barplot = sns.barplot(x='Importance', y='Feature', data=feature_importance_df, palette=['#FF8C00']*len(feature_importance_df))\n"
     ]
    },
    {
     "data": {
      "image/png": "[encoded data removed]",
      "text/plain": [
       "<Figure size 1000x600 with 1 Axes>"
      ]
     },
     "metadata": {},
     "output_type": "display_data"
    }
   ],
   "source": [
    "importances = xgboost_model.feature_importances_\n",
    "feature_names = X.columns\n",
    "feature_importance_df = pd.DataFrame({'Feature': feature_names, 'Importance': importances})\n",
    "\n",
    "feature_importance_df = feature_importance_df.sort_values(by='Importance', ascending=False)\n",
    "\n",
    "plt.figure(figsize=(10, 6))\n",
    "sns.set(style=\"white\")\n",
    "\n",
    "barplot = sns.barplot(x='Importance', y='Feature', data=feature_importance_df, palette=['#FF8C00']*len(feature_importance_df))\n",
    "\n",
    "barplot.set_facecolor('#1c1c1c') \n",
    "plt.gcf().set_facecolor('#1c1c1c')\n",
    "\n",
    "plt.title('Feature Importance After Dropping Irrelevant Features', fontsize=18, color='#FF8C00', weight='bold')\n",
    "plt.xlabel('Importance', fontsize=14, color='white')\n",
    "plt.ylabel('Feature', fontsize=14, color='white')\n",
    "\n",
    "barplot.tick_params(axis='x', colors='white')\n",
    "barplot.tick_params(axis='y', colors='white')\n",
    "\n",
    "barplot.grid(False)\n",
    "\n",
    "plt.show()"
   ]
  },
  {
   "cell_type": "code",
   "execution_count": 38,
   "metadata": {},
   "outputs": [
    {
     "data": {
      "image/png": "[encoded data removed]",
      "text/plain": [
       "<Figure size 1400x800 with 1 Axes>"
      ]
     },
     "metadata": {},
     "output_type": "display_data"
    }
   ],
   "source": [
    "player_names_encoded = X_test['Player_Name'].values \n",
    "\n",
    "winning_probabilities = xgboost_model.predict_proba(X_test_scaled)[:, 1]\n",
    "\n",
    "probability_df = pd.DataFrame({\n",
    "    'Player_Name_Encoded': player_names_encoded,\n",
    "    'Winning_Probability': winning_probabilities\n",
    "})\n",
    "\n",
    "player_name_decoder = label_encoders['Player_Name']\n",
    "probability_df['Player_Name'] = player_name_decoder.inverse_transform(probability_df['Player_Name_Encoded'])\n",
    "\n",
    "player_match_counts = probability_df.groupby('Player_Name').size().reset_index(name='Match_Count')\n",
    "\n",
    "players_with_30_matches = player_match_counts[player_match_counts['Match_Count'] >= 25]\n",
    "\n",
    "filtered_probability_df = pd.merge(probability_df, players_with_30_matches, on='Player_Name')\n",
    "\n",
    "avg_prob_per_player = filtered_probability_df.groupby('Player_Name')['Winning_Probability'].mean().reset_index()\n",
    "\n",
    "avg_prob_per_player = avg_prob_per_player.sort_values(by='Winning_Probability', ascending=False)\n",
    "\n",
    "avg_prob_per_player['Rank'] = avg_prob_per_player['Winning_Probability'].rank(method='first', ascending=False)\n",
    "\n",
    "top_50_players = avg_prob_per_player.head(50)\n",
    "\n",
    "plt.figure(figsize=(14, 8))\n",
    "sns.set(style=\"white\")\n",
    "\n",
    "barplot = sns.barplot(x='Winning_Probability', y='Player_Name', data=top_50_players, color='#FF8C00')\n",
    "\n",
    "\n",
    "plt.gcf().set_facecolor('#1c1c1c') \n",
    "barplot.set_facecolor('#1c1c1c') \n",
    "\n",
    "plt.title('Top Players by Average Winning Probability', fontsize=32, color='#FF8C00', weight='bold', pad=20)\n",
    "plt.xlabel('Average Winning Probability', fontsize=16, color='white', labelpad=15)\n",
    "plt.ylabel('Player Name', fontsize=16, color='white', labelpad=15)\n",
    "\n",
    "barplot.tick_params(axis='x', colors='white', labelsize=12)\n",
    "barplot.tick_params(axis='y', colors='white', labelsize=12)\n",
    "\n",
    "plt.xticks(rotation=45, ha='right')\n",
    "\n",
    "barplot.grid(False)\n",
    "plt.gca().spines['top'].set_visible(False)\n",
    "plt.gca().spines['right'].set_visible(False)\n",
    "plt.gca().spines['bottom'].set_color('white')\n",
    "plt.gca().spines['left'].set_color('white')\n",
    "\n",
    "for bar in barplot.patches:\n",
    "    bar.set_edgecolor('white')\n",
    "    bar.set_linewidth(1.5)\n",
    "\n",
    "plt.show()"
   ]
  }
 ],
 "metadata": {
  "accelerator": "TPU",
  "colab": {
   "gpuType": "V28",
   "provenance": []
  },
  "kernelspec": {
   "display_name": "Python 3 (ipykernel)",
   "language": "python",
   "name": "python3"
  },
  "language_info": {
   "codemirror_mode": {
    "name": "ipython",
    "version": 3
   },
   "file_extension": ".py",
   "mimetype": "text/x-python",
   "name": "python",
   "nbconvert_exporter": "python",
   "pygments_lexer": "ipython3",
   "version": "3.12.4"
  }
 },
 "nbformat": 4,
 "nbformat_minor": 4
}
